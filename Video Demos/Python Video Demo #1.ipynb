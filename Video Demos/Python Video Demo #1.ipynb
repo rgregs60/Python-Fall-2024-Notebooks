{
 "cells": [
  {
   "cell_type": "markdown",
   "metadata": {},
   "source": [
    "<div style=\"background-color: #006400; color: #FFFFE0; padding: 20px; border-radius: 5px; margin-top: 20px; border: 1px solid #b8daff;\"\n",
    ">\n",
    "<h2>Lecture Topic: Demographic of Producing a Histogram using Copilot for Github</h2>\n",
    "<p> </p>\n",
    "<h3>We are going to iterate step by step on first creating then revising the look our histogram</h3>\n",
    "<p> </p>\n",
    "<h3>The goal with a visualization is to communicate its message with 10-20 seconds of viewing</h3>\n",
    "</div>\n"
   ]
  },
  {
   "cell_type": "markdown",
   "metadata": {},
   "source": [
    "<div style=\"background-color: #D3D3D3; color: #000000; padding: 20px; border-radius: 5px; margin-top: 20px; border: 1px solid #b8daff;\">\n",
    "<h5>**Import Libraries and Check for Updates:**</h5>\n",
    "</div>"
   ]
  },
  {
   "cell_type": "code",
   "execution_count": 1,
   "metadata": {},
   "outputs": [],
   "source": [
    "# Check for the latest versions and install if not up to date.\n",
    "# if you do not need to update a package, you can comment it out by adding a # in front of the line\n",
    "# %pip install pandas --upgrade\n",
    "# %pip install numpy --upgrade\n",
    "# %pip install seaborn --upgrade\n",
    "# %pip install matplotlib --upgrade\n",
    "# %pip install jupyter --upgrade\n",
    "# %pip install jupyterlab --upgrade\n",
    "# %pip install ipywidgets --upgrade\n",
    "# %pip install python --upgrade\n",
    "# %pip install python-pptx --upgrade\n",
    "# %pip install pandas --upgrade\n",
    "# %pip install requests --upgrade\n",
    "# %pip install openpyxl --upgrade\n",
    "# %pip install xlrd --upgrade\n",
    "# %pip install tabulate --upgrade\n",
    "# %pip install os --upgrade  \n",
    "# %pip install scipy --upgrade\n",
    "\n",
    "import os   #importing os library\n",
    "# os._exit(00)    # Restart the kernel to apply the changes - optional\n",
    "\n",
    "import pandas as pd     #importing pandas library \n",
    "import numpy as np    #importing numpy library \n",
    "import seaborn as sns   #importing seaborn library\n",
    "import matplotlib.pyplot as plt  #importing matplotlib library\n",
    "import jupyter    #importing jupyter library\n",
    "import jupyterlab   #importing jupyterlab library\n",
    "from pptx import Presentation #importing pptx library\n",
    "from pptx.util import Inches  #importing Inches from pptx.util\n",
    "import openpyxl #importing openpyxl library\n",
    "import scipy as stats #importing scipy library\n",
    "import tabulate #importing tabulate library\n",
    "import requests #importing requests library\n",
    "import xlrd #importing xlrd library"
   ]
  },
  {
   "cell_type": "markdown",
   "metadata": {},
   "source": [
    "<div style=\"background-color: #D3D3D3; color: #000000; padding: 20px; border-radius: 5px; margin-top: 20px; border: 1px solid #b8daff;\">\n",
    "<h5>**We are loading our locally stored data set, so we will use a local path and not a URL:**</h5>\n",
    "</div>\n"
   ]
  },
  {
   "cell_type": "code",
   "execution_count": 1,
   "metadata": {},
   "outputs": [
    {
     "name": "stdout",
     "output_type": "stream",
     "text": [
      "/\n",
      "/Users/rudolphsurovcik/Library/CloudStorage/GoogleDrive-grs3@lehigh.edu/My Drive/Lehigh Fall 2024/BIS 411 - Fall 2024/Python-Fall-2024-Notebooks/Data Files for Python\n",
      "   Unnamed: 0  symboling  normalized-losses         make aspiration  \\\n",
      "0           0          3                122  alfa-romero        std   \n",
      "1           1          3                122  alfa-romero        std   \n",
      "2           2          1                122  alfa-romero        std   \n",
      "3           3          2                164         audi        std   \n",
      "4           4          2                164         audi        std   \n",
      "\n",
      "  num-of-doors   body-style drive-wheels engine-location  wheel-base  ...  \\\n",
      "0          two  convertible          rwd           front        88.6  ...   \n",
      "1          two  convertible          rwd           front        88.6  ...   \n",
      "2          two    hatchback          rwd           front        94.5  ...   \n",
      "3         four        sedan          fwd           front        99.8  ...   \n",
      "4         four        sedan          4wd           front        99.4  ...   \n",
      "\n",
      "   compression-ratio  horsepower  peak-rpm  city-mpg highway-mpg    price  \\\n",
      "0                9.0       111.0    5000.0        21          27  13495.0   \n",
      "1                9.0       111.0    5000.0        21          27  16500.0   \n",
      "2                9.0       154.0    5000.0        19          26  16500.0   \n",
      "3               10.0       102.0    5500.0        24          30  13950.0   \n",
      "4                8.0       115.0    5500.0        18          22  17450.0   \n",
      "\n",
      "   city-L/100km horsepower-binned  diesel  gas  \n",
      "0     11.190476            Medium       0    1  \n",
      "1     11.190476            Medium       0    1  \n",
      "2     12.368421            Medium       0    1  \n",
      "3      9.791667            Medium       0    1  \n",
      "4     13.055556            Medium       0    1  \n",
      "\n",
      "[5 rows x 30 columns]\n"
     ]
    }
   ],
   "source": [
    "# Clear the environment, do not add a comment after the %reset -f command\n",
    "%reset -f  \n",
    "\n",
    "### Bringing in the Data Set   \n",
    "\n",
    "# Load libraries and set up the environment\n",
    "import pandas as pd\n",
    "import os\n",
    "import numpy as np\n",
    "import seaborn as sns\n",
    "import matplotlib.pyplot as plt\n",
    "\n",
    "# Check the current working directory\n",
    "print(os.getcwd())\n",
    "\n",
    "# Change current path to where your data files are stored\n",
    "data_path = '/Users/rudolphsurovcik/Library/CloudStorage/GoogleDrive-grs3@lehigh.edu/My Drive/Lehigh Fall 2024/BIS 411 - Fall 2024/Python-Fall-2024-Notebooks/Data Files for Python'\n",
    "os.chdir(data_path)\n",
    "print(os.getcwd())"
   ]
  },
  {
   "cell_type": "markdown",
   "metadata": {},
   "source": [
    "<div style=\"background-color: #D3D3D3; color: #000000; padding: 20px; border-radius: 5px; margin-top: 20px; border: 1px solid #b8daff;\">\n",
    "<p> </p>\n",
    "<h5>**We are loading our locally stored data set, so we will use a local path and not a URL:**</h5>\n",
    "</div>"
   ]
  },
  {
   "cell_type": "code",
   "execution_count": 2,
   "metadata": {},
   "outputs": [
    {
     "name": "stdout",
     "output_type": "stream",
     "text": [
      "/Users/rudolphsurovcik/Library/CloudStorage/GoogleDrive-grs3@lehigh.edu/My Drive/Lehigh Fall 2024/BIS 411 - Fall 2024/Python-Fall-2024-Notebooks/Data Files for Python\n",
      "/Users/rudolphsurovcik/Library/CloudStorage/GoogleDrive-grs3@lehigh.edu/My Drive/Lehigh Fall 2024/BIS 411 - Fall 2024/Python-Fall-2024-Notebooks/Data Files for Python\n"
     ]
    }
   ],
   "source": [
    "\n",
    "### Demo Data Warangler - Data Cleaning and Hot Encode Doors\n",
    "\n",
    "### Bringing in the Data Set   \n",
    "\n",
    "# Load libraries and set up the environment\n",
    "import pandas as pd\n",
    "import os\n",
    "import numpy as np\n",
    "import seaborn as sns\n",
    "import matplotlib.pyplot as plt\n",
    "\n",
    "# Check the current working directory\n",
    "print(os.getcwd())\n",
    "\n",
    "# Change current path to where your data files are stored\n",
    "data_path = '/Users/rudolphsurovcik/Library/CloudStorage/GoogleDrive-grs3@lehigh.edu/My Drive/Lehigh Fall 2024/BIS 411 - Fall 2024/Python-Fall-2024-Notebooks/Data Files for Python'\n",
    "os.chdir(data_path)\n",
    "print(os.getcwd())\n",
    "\n",
    "\n",
    "### Demo Data Warangler - Data Cleaning and Hot Encode Doors"
   ]
  },
  {
   "cell_type": "code",
   "execution_count": 3,
   "metadata": {},
   "outputs": [
    {
     "name": "stdout",
     "output_type": "stream",
     "text": [
      "/Users/rudolphsurovcik/Library/CloudStorage/GoogleDrive-grs3@lehigh.edu/My Drive/Lehigh Fall 2024/BIS 411 - Fall 2024/Python-Fall-2024-Notebooks/Data Files for Python\n",
      "/Users/rudolphsurovcik/Library/CloudStorage/GoogleDrive-grs3@lehigh.edu/My Drive/Lehigh Fall 2024/BIS 411 - Fall 2024/Python-Fall-2024-Notebooks/Data Files for Python\n"
     ]
    }
   ],
   "source": [
    "### Bringing in the Data Set   \n",
    "\n",
    "# Load libraries and set up the environment\n",
    "import pandas as pd\n",
    "import os\n",
    "import numpy as np\n",
    "import seaborn as sns\n",
    "import matplotlib.pyplot as plt\n",
    "\n",
    "# Check the current working directory\n",
    "print(os.getcwd())\n",
    "\n",
    "# Change current path to where your data files are stored\n",
    "data_path = '/Users/rudolphsurovcik/Library/CloudStorage/GoogleDrive-grs3@lehigh.edu/My Drive/Lehigh Fall 2024/BIS 411 - Fall 2024/Python-Fall-2024-Notebooks/Data Files for Python'\n",
    "os.chdir(data_path)\n",
    "print(os.getcwd())\n",
    "\n",
    "# Load the dataset\n",
    "Car_Data = pd.read_csv('horsepower.csv')  # Bring in the Car Data Set\n",
    "\n",
    "### Demo Data Warangler - Data Cleaning and Hot Encode Doors"
   ]
  },
  {
   "cell_type": "markdown",
   "metadata": {},
   "source": [
    "<div style=\"background-color: #87CEFA; color: #000000; padding: 20px; border-radius: 5px; margin-top: 20px; border: 1px solid #b8daff;\">\n",
    "<p> </p>\n",
    "<h5>**Start Building a Histogram**</h5>\n",
    "</div>"
   ]
  },
  {
   "cell_type": "markdown",
   "metadata": {},
   "source": [
    "<div style=\"background-color: #87CEFA; color: #000000; padding: 20px; border-radius: 5px; margin-top: 20px; border: 1px solid #b8daff;\">\n",
    "<p> </p>\n",
    "<h5>**Start Building a Histogram**</h5>\n",
    "</div>"
   ]
  },
  {
   "cell_type": "code",
   "execution_count": null,
   "metadata": {},
   "outputs": [],
   "source": [
    "### Inital Histrogram of the Data Set using peak-rpm\n",
    "\n",
    "### Plot a histogram of the peak-rpm column\n",
    "\n",
    "# Plot a histogram of the peak-rpm column\n",
    "plt.hist(Car_Data['peak-rpm'], bins=10, color='blue')  # Create a histogram of the peak-rpm column\n",
    "plt.xlabel('Peak RPM')  # Label the x-axis\n",
    "plt.ylabel('Frequency')  # Label the y-axis\n",
    "plt.title('Histogram of Peak RPM')  # Add a title\n",
    "plt.show()\n"
   ]
  },
  {
   "cell_type": "markdown",
   "metadata": {},
   "source": [
    "<div style=\"background-color: #87CEFA; color: #000000; padding: 20px; border-radius: 5px; margin-top: 20px; border: 1px solid #b8daff;\">\n",
    "<p> </p>\n",
    "<h5>**Modifying the Histogram - Add a Reference Line for Mean and Median**</h5>\n",
    "</div>"
   ]
  },
  {
   "cell_type": "code",
   "execution_count": null,
   "metadata": {},
   "outputs": [],
   "source": [
    "### Inital Histrogram of the Data Set using peak-rpm\n",
    "\n",
    "#   Plot a histogram of the peak-rpm column\n",
    "### Add a vertical line for the median and mean\n",
    "\n",
    "# Plot a histogram of the peak-rpm column\n",
    "plt.hist(Car_Data['peak-rpm'], bins=10, color='blue')  # Create a histogram of the peak-rpm column\n",
    "plt.xlabel('Peak RPM')  # Label the x-axis\n",
    "plt.ylabel('Frequency')  # Label the y-axis\n",
    "plt.title('Histogram of Peak RPM')  # Add a title\n",
    "plt.show()\n",
    "\n"
   ]
  },
  {
   "cell_type": "markdown",
   "metadata": {},
   "source": [
    "<div style=\"background-color: #87CEFA; color: #000000; padding: 20px; border-radius: 5px; margin-top: 20px; border: 1px solid #b8daff;\">\n",
    "<p> </p>\n",
    "<h5>**Modifying the Histogram - Add a Legend and calculate the mean and median values**</h5>\n",
    "</div>"
   ]
  },
  {
   "cell_type": "code",
   "execution_count": null,
   "metadata": {},
   "outputs": [],
   "source": [
    "### Inital Histrogram of the Data Set using peak-rpm\n",
    "\n",
    "#   Plot a histogram of the peak-rpm column\n",
    "### Add a vertical line for the median and mean\n",
    "### Add a legend to the Histogram\n",
    "### calculate the mean and median of the 'peak-rpm' column\n",
    "\n",
    "# Plot a histogram of the peak-rpm column\n",
    "plt.hist(Car_Data['peak-rpm'], bins=10, color='blue')  # Create a histogram of the peak-rpm column\n",
    "plt.xlabel('Peak RPM')  # Label the x-axis\n",
    "plt.ylabel('Frequency')  # Label the y-axis\n",
    "\n",
    "plt.axvline(Car_Data['peak-rpm'].median(), color='red', linestyle='dashed', linewidth=1)  # Add a line for the median peak-rpm\n",
    "plt.axvline(Car_Data['peak-rpm'].mean(), color='green', linestyle='dashed', linewidth=1)  # Add a line for the mean peak-rpm\n",
    "\n",
    "plt.title('Histogram of Peak RPM')  # Add a title\n",
    "plt.show()\n",
    "\n"
   ]
  },
  {
   "cell_type": "markdown",
   "metadata": {},
   "source": [
    "<div style=\"background-color: #87CEFA; color: #000000; padding: 20px; border-radius: 5px; margin-top: 20px; border: 1px solid #b8daff;\">\n",
    "<p> </p>\n",
    "<h5>**Modifying the Histogram - Add a Legend and calculate the mean and median values**</h5>\n",
    "</div>"
   ]
  },
  {
   "cell_type": "code",
   "execution_count": 8,
   "metadata": {},
   "outputs": [
    {
     "data": {
      "image/png": "[encoded data removed]",
      "text/plain": [
       "<Figure size 640x480 with 1 Axes>"
      ]
     },
     "metadata": {},
     "output_type": "display_data"
    }
   ],
   "source": [
    "### Inital Histrogram of the Data Set using peak-rpm\n",
    "\n",
    "#   Plot a histogram of the peak-rpm column\n",
    "### Add a vertical line for the median and mean\n",
    "### Add a legend to the Histogram\n",
    "### calculate the mean and median of the 'peak-rpm' column\n",
    "\n",
    "# calculate the mean and median of the 'peak-rpm' column and make it an integer type\n",
    "\n",
    "# Calculate the mean and median of the 'peak-rpm' column\n",
    "\n",
    "mean_peak_rpm = int(Car_Data['peak-rpm'].mean())  # Calculate the mean of the peak-rpm column\n",
    "median_peak_rpm = int(Car_Data['peak-rpm'].median())  # Calculate the median of the peak-rpm column\n",
    "\n",
    "# Plot a histogram of the peak-rpm column\n",
    "plt.hist(Car_Data['peak-rpm'], bins=10, color='blue')  # Create a histogram of the peak-rpm column\n",
    "plt.xlabel('Peak RPM')  # Label the x-axis\n",
    "plt.ylabel('Frequency')  # Label the y-axis\n",
    "\n",
    "plt.axvline(Car_Data['peak-rpm'].median(), color='red', linestyle='dashed', linewidth=1)  # Add a line for the median peak-rpm\n",
    "plt.axvline(Car_Data['peak-rpm'].mean(), color='green', linestyle='dashed', linewidth=1)  # Add a line for the mean peak-rpm\n",
    "\n",
    "plt.legend(['Mean', 'Median'])  # Add a legend\n",
    "\n",
    "# Place mean_peak_rpm and median_peak_rpm in a text box on the plot\n",
    "\n",
    "plt.text(6000, 40, 'Mean: ' + str(mean_peak_rpm), color = 'green')  # Add the mean to the plot\n",
    "\n",
    "\n",
    "plt.title('Histogram of Peak RPM')  # Add a title\n",
    "plt.show()\n",
    "\n"
   ]
  }
 ],
 "metadata": {
  "kernelspec": {
   "display_name": "Python 3",
   "language": "python",
   "name": "python3"
  },
  "language_info": {
   "codemirror_mode": {
    "name": "ipython",
    "version": 3
   },
   "file_extension": ".py",
   "mimetype": "text/x-python",
   "name": "python",
   "nbconvert_exporter": "python",
   "pygments_lexer": "ipython3",
   "version": "3.12.4"
  }
 },
 "nbformat": 4,
 "nbformat_minor": 2
}
