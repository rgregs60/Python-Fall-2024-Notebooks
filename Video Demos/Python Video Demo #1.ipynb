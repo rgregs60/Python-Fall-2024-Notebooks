{
 "cells": [
  {
   "cell_type": "markdown",
   "metadata": {},
   "source": [
    "<div style=\"background-color: #006400; color: #FFFFE0; padding: 20px; border-radius: 5px; margin-top: 20px; border: 1px solid #b8daff;\"\n",
    ">\n",
    "<h2>Lecture Topic: Creating a Histogram using Copilot for Github</h2>\n",
    "<p> </p>\n",
    "<h3>We are going to iterate step by step on first creating, revising, and interpreating our histogram</h3>\n",
    "<p> </p>\n",
    "<h3>The goal with a visualization is to communicate its message with 10-20 seconds of viewing</h3>\n",
    "</div>\n"
   ]
  },
  {
   "cell_type": "markdown",
   "metadata": {},
   "source": [
    "<div style=\"background-color: #D3D3D3; color: #000000; padding: 20px; border-radius: 5px; margin-top: 20px; border: 1px solid #b8daff;\">\n",
    "<h5>**Import Libraries and Check for Updates:**</h5>\n",
    "</div>"
   ]
  },
  {
   "cell_type": "code",
   "execution_count": 20,
   "metadata": {},
   "outputs": [],
   "source": [
    "# Check for the latest versions and install if not up to date.\n",
    "# if you do not need to update a package, you can comment it out by adding a # in front of the line\n",
    "# %pip install pandas --upgrade\n",
    "# %pip install numpy --upgrade\n",
    "# %pip install seaborn --upgrade\n",
    "# %pip install matplotlib --upgrade\n",
    "# %pip install jupyter --upgrade\n",
    "# %pip install jupyterlab --upgrade\n",
    "# %pip install ipywidgets --upgrade\n",
    "# %pip install python --upgrade\n",
    "# %pip install python-pptx --upgrade\n",
    "# %pip install pandas --upgrade\n",
    "# %pip install requests --upgrade\n",
    "# %pip install openpyxl --upgrade\n",
    "# %pip install xlrd --upgrade\n",
    "# %pip install tabulate --upgrade\n",
    "# %pip install os --upgrade  \n",
    "# %pip install scipy --upgrade\n",
    "\n",
    "import os   #importing os library\n",
    "# os._exit(00)    # Restart the kernel to apply the changes - optional\n",
    "\n",
    "import pandas as pd     #importing pandas library \n",
    "import numpy as np    #importing numpy library \n",
    "import seaborn as sns   #importing seaborn library\n",
    "import matplotlib.pyplot as plt  #importing matplotlib library\n",
    "import jupyter    #importing jupyter library\n",
    "import jupyterlab   #importing jupyterlab library\n",
    "from pptx import Presentation #importing pptx library\n",
    "from pptx.util import Inches  #importing Inches from pptx.util\n",
    "import openpyxl #importing openpyxl library\n",
    "import scipy as stats #importing scipy library\n",
    "import tabulate #importing tabulate library\n",
    "import requests #importing requests library\n",
    "import xlrd #importing xlrd library"
   ]
  },
  {
   "cell_type": "markdown",
   "metadata": {},
   "source": [
    "<div style=\"background-color: #D3D3D3; color: #000000; padding: 20px; border-radius: 5px; margin-top: 20px; border: 1px solid #b8daff;\">\n",
    "<h5>**We are loading our locally stored data set, so we will use a local path and not a URL:**</h5>\n",
    "</div>\n"
   ]
  },
  {
   "cell_type": "code",
   "execution_count": 21,
   "metadata": {},
   "outputs": [
    {
     "name": "stdout",
     "output_type": "stream",
     "text": [
      "/Users/rudolphsurovcik/Library/CloudStorage/GoogleDrive-grs3@lehigh.edu/My Drive/Lehigh Fall 2024/BIS 411 - Fall 2024/Python-Fall-2024-Notebooks/Data Files for Python\n",
      "/Users/rudolphsurovcik/Library/CloudStorage/GoogleDrive-grs3@lehigh.edu/My Drive/Lehigh Fall 2024/BIS 411 - Fall 2024/Python-Fall-2024-Notebooks/Data Files for Python\n"
     ]
    }
   ],
   "source": [
    "# Clear the environment, do not add a comment after the %reset -f command\n",
    "%reset -f  \n",
    "\n",
    "### Bringing in the Data Set   \n",
    "\n",
    "# Load libraries and set up the environment\n",
    "import pandas as pd\n",
    "import os\n",
    "import numpy as np\n",
    "import seaborn as sns\n",
    "import matplotlib.pyplot as plt\n",
    "\n",
    "# Check the current working directory\n",
    "print(os.getcwd())\n",
    "\n",
    "# Change current path to where your data files are stored\n",
    "data_path = '/Users/rudolphsurovcik/Library/CloudStorage/GoogleDrive-grs3@lehigh.edu/My Drive/Lehigh Fall 2024/BIS 411 - Fall 2024/Python-Fall-2024-Notebooks/Data Files for Python'\n",
    "os.chdir(data_path)\n",
    "print(os.getcwd())"
   ]
  },
  {
   "cell_type": "markdown",
   "metadata": {},
   "source": [
    "<div style=\"background-color: #D3D3D3; color: #000000; padding: 20px; border-radius: 5px; margin-top: 20px; border: 1px solid #b8daff;\">\n",
    "<p> </p>\n",
    "<h5>**We are loading our locally stored data set, so we will use a local path and not a URL:**</h5>\n",
    "</div>"
   ]
  },
  {
   "cell_type": "code",
   "execution_count": 22,
   "metadata": {},
   "outputs": [
    {
     "name": "stdout",
     "output_type": "stream",
     "text": [
      "/Users/rudolphsurovcik/Library/CloudStorage/GoogleDrive-grs3@lehigh.edu/My Drive/Lehigh Fall 2024/BIS 411 - Fall 2024/Python-Fall-2024-Notebooks/Data Files for Python\n",
      "/Users/rudolphsurovcik/Library/CloudStorage/GoogleDrive-grs3@lehigh.edu/My Drive/Lehigh Fall 2024/BIS 411 - Fall 2024/Python-Fall-2024-Notebooks/Data Files for Python\n"
     ]
    }
   ],
   "source": [
    "\n",
    "### Demo Data Warangler - Data Cleaning and Hot Encode Doors\n",
    "\n",
    "### Bringing in the Data Set   \n",
    "\n",
    "# Load libraries and set up the environment\n",
    "import pandas as pd\n",
    "import os\n",
    "import numpy as np\n",
    "import seaborn as sns\n",
    "import matplotlib.pyplot as plt\n",
    "\n",
    "# Check the current working directory\n",
    "print(os.getcwd())\n",
    "\n",
    "# Change current path to where your data files are stored\n",
    "data_path = '/Users/rudolphsurovcik/Library/CloudStorage/GoogleDrive-grs3@lehigh.edu/My Drive/Lehigh Fall 2024/BIS 411 - Fall 2024/Python-Fall-2024-Notebooks/Data Files for Python'\n",
    "os.chdir(data_path)\n",
    "print(os.getcwd())\n",
    "\n",
    "\n",
    "### Demo Data Warangler - Data Cleaning and Hot Encode Doors"
   ]
  },
  {
   "cell_type": "code",
   "execution_count": 23,
   "metadata": {},
   "outputs": [
    {
     "name": "stdout",
     "output_type": "stream",
     "text": [
      "/Users/rudolphsurovcik/Library/CloudStorage/GoogleDrive-grs3@lehigh.edu/My Drive/Lehigh Fall 2024/BIS 411 - Fall 2024/Python-Fall-2024-Notebooks/Data Files for Python\n",
      "/Users/rudolphsurovcik/Library/CloudStorage/GoogleDrive-grs3@lehigh.edu/My Drive/Lehigh Fall 2024/BIS 411 - Fall 2024/Python-Fall-2024-Notebooks/Data Files for Python\n"
     ]
    }
   ],
   "source": [
    "### Importing the Data Set   \n",
    "\n",
    "# Load libraries and set up the environment\n",
    "import pandas as pd\n",
    "import os\n",
    "import numpy as np\n",
    "import seaborn as sns\n",
    "import matplotlib.pyplot as plt\n",
    "\n",
    "# Check the current working directory\n",
    "print(os.getcwd())\n",
    "\n",
    "# Change current path to where your data files are stored\n",
    "data_path = '/Users/rudolphsurovcik/Library/CloudStorage/GoogleDrive-grs3@lehigh.edu/My Drive/Lehigh Fall 2024/BIS 411 - Fall 2024/Python-Fall-2024-Notebooks/Data Files for Python'\n",
    "os.chdir(data_path)\n",
    "print(os.getcwd())\n",
    "\n",
    "# Load the dataset\n",
    "Car_Data = pd.read_csv('horsepower.csv')  # Bring in the Car Data Set\n",
    "\n",
    "### Demo Data Warangler - Data Cleaning and Hot Encode Doors"
   ]
  },
  {
   "cell_type": "markdown",
   "metadata": {},
   "source": [
    "<div style=\"background-color: #87CEFA; color: #000000; padding: 20px; border-radius: 5px; margin-top: 20px; border: 1px solid #b8daff;\">\n",
    "<p> </p>\n",
    "<h5>**Start Building a Histogram**</h5>\n",
    "</div>"
   ]
  },
  {
   "cell_type": "code",
   "execution_count": 24,
   "metadata": {},
   "outputs": [
    {
     "data": {
      "image/png": "[encoded data removed]",
      "text/plain": [
       "<Figure size 640x480 with 1 Axes>"
      ]
     },
     "metadata": {},
     "output_type": "display_data"
    }
   ],
   "source": [
    "### Inital Histrogram of the Data Set using peak-rpm\n",
    "\n",
    "### Plot a histogram of the peak-rpm column\n",
    "\n",
    "# Plot a histogram of the peak-rpm column\n",
    "plt.hist(Car_Data['peak-rpm'], bins=10, color='blue')  # Create a histogram of the peak-rpm column\n",
    "plt.xlabel('Peak RPM')  # Label the x-axis\n",
    "plt.ylabel('Frequency')  # Label the y-axis\n",
    "plt.title('Histogram of Peak RPM')  # Add a title\n",
    "plt.show()\n"
   ]
  },
  {
   "cell_type": "markdown",
   "metadata": {},
   "source": [
    "<div style=\"background-color: #87CEFA; color: #000000; padding: 20px; border-radius: 5px; margin-top: 20px; border: 1px solid #b8daff;\">\n",
    "<p> </p>\n",
    "<h5>**Modifying the Histogram - Add a Reference Line for Mean and Median**</h5>\n",
    "</div>"
   ]
  },
  {
   "cell_type": "code",
   "execution_count": 26,
   "metadata": {},
   "outputs": [
    {
     "data": {
      "image/png": "[encoded data removed]",
      "text/plain": [
       "<Figure size 640x480 with 1 Axes>"
      ]
     },
     "metadata": {},
     "output_type": "display_data"
    }
   ],
   "source": [
    "### Inital Histrogram of the Data Set using peak-rpm\n",
    "\n",
    "#   Plot a histogram of the peak-rpm column\n",
    "### Add a vertical line for the median and mean\n",
    "\n",
    "# Plot a histogram of the peak-rpm column\n",
    "plt.hist(Car_Data['peak-rpm'], bins=10, color='blue')  # Create a histogram of the peak-rpm column\n",
    "\n",
    "plt.xlabel('Peak RPM')  # Label the x-axis\n",
    "plt.ylabel('Frequency')  # Label the y-axis\n",
    "\n",
    "plt.title('Histogram of Peak RPM')  # Add a title\n",
    "plt.show()\n",
    "\n"
   ]
  },
  {
   "cell_type": "markdown",
   "metadata": {},
   "source": [
    "<div style=\"background-color: #87CEFA; color: #000000; padding: 20px; border-radius: 5px; margin-top: 20px; border: 1px solid #b8daff;\">\n",
    "<p> </p>\n",
    "<h5>**Modifying the Histogram - Add a Legend and calculate the mean and median values**</h5>\n",
    "</div>"
   ]
  },
  {
   "cell_type": "code",
   "execution_count": 36,
   "metadata": {},
   "outputs": [
    {
     "ename": "TypeError",
     "evalue": "'list' object is not callable",
     "output_type": "error",
     "traceback": [
      "\u001b[0;31m---------------------------------------------------------------------------\u001b[0m",
      "\u001b[0;31mTypeError\u001b[0m                                 Traceback (most recent call last)",
      "Cell \u001b[0;32mIn[36], line 21\u001b[0m\n\u001b[1;32m     18\u001b[0m plt\u001b[38;5;241m.\u001b[39maxvline(mean_peak_rpm, color\u001b[38;5;241m=\u001b[39m\u001b[38;5;124m'\u001b[39m\u001b[38;5;124mgreen\u001b[39m\u001b[38;5;124m'\u001b[39m, linestyle\u001b[38;5;241m=\u001b[39m\u001b[38;5;124m'\u001b[39m\u001b[38;5;124mdashed\u001b[39m\u001b[38;5;124m'\u001b[39m, linewidth\u001b[38;5;241m=\u001b[39m\u001b[38;5;241m2\u001b[39m, label\u001b[38;5;241m=\u001b[39m\u001b[38;5;124mf\u001b[39m\u001b[38;5;124m'\u001b[39m\u001b[38;5;124mMean: \u001b[39m\u001b[38;5;132;01m{\u001b[39;00mmean_peak_rpm\u001b[38;5;132;01m:\u001b[39;00m\u001b[38;5;124m.2f\u001b[39m\u001b[38;5;132;01m}\u001b[39;00m\u001b[38;5;124m'\u001b[39m)  \u001b[38;5;66;03m# Line for the mean\u001b[39;00m\n\u001b[1;32m     20\u001b[0m \u001b[38;5;66;03m# Add a legend\u001b[39;00m\n\u001b[0;32m---> 21\u001b[0m \u001b[43mplt\u001b[49m\u001b[38;5;241;43m.\u001b[39;49m\u001b[43mlegend\u001b[49m\u001b[43m(\u001b[49m\u001b[43m)\u001b[49m  \u001b[38;5;66;03m# Automatically adds the labels from the axvline() calls\u001b[39;00m\n\u001b[1;32m     23\u001b[0m \u001b[38;5;66;03m# Add a title\u001b[39;00m\n\u001b[1;32m     24\u001b[0m plt\u001b[38;5;241m.\u001b[39mtitle(\u001b[38;5;124m'\u001b[39m\u001b[38;5;124mHistogram of Peak RPM\u001b[39m\u001b[38;5;124m'\u001b[39m)  \u001b[38;5;66;03m# Add a title\u001b[39;00m\n",
      "\u001b[0;31mTypeError\u001b[0m: 'list' object is not callable"
     ]
    },
    {
     "data": {
      "image/png": "[encoded data removed]",
      "text/plain": [
       "<Figure size 640x480 with 1 Axes>"
      ]
     },
     "metadata": {},
     "output_type": "display_data"
    }
   ],
   "source": [
    "### Inital Histrogram of the Data Set using peak-rpm\n",
    "\n",
    "import matplotlib.pyplot as plt\n",
    "\n",
    "# Ensure the 'peak-rpm' column exists in Car_Data\n",
    "if 'peak-rpm' in Car_Data.columns:\n",
    "    # Calculate the mean and median of the 'peak-rpm' column\n",
    "    mean_peak_rpm = Car_Data['peak-rpm'].mean()  # Calculate the mean of the peak-rpm column\n",
    "    median_peak_rpm = Car_Data['peak-rpm'].median()  # Calculate the median of the peak-rpm column\n",
    "\n",
    "    # Plot a histogram of the peak-rpm column\n",
    "    plt.hist(Car_Data['peak-rpm'], bins=10, color='blue', alpha=0.7, edgecolor='black')  # Create a histogram with styling\n",
    "    plt.xlabel('Peak RPM')  # Label the x-axis\n",
    "    plt.ylabel('Frequency')  # Label the y-axis\n",
    "\n",
    "    # Add lines for the mean and median\n",
    "    plt.axvline(median_peak_rpm, color='red', linestyle='dashed', linewidth=2, label=f'Median: {median_peak_rpm:.2f}')  # Line for the median\n",
    "    plt.axvline(mean_peak_rpm, color='green', linestyle='dashed', linewidth=2, label=f'Mean: {mean_peak_rpm:.2f}')  # Line for the mean\n",
    "\n",
    "    # Add a legend\n",
    "    plt.legend()  # Automatically adds the labels from the axvline() calls\n",
    "\n",
    "    # Add a title\n",
    "    plt.title('Histogram of Peak RPM')  # Add a title\n",
    "\n",
    "    # Show the plot\n",
    "    plt.show()\n",
    "else:\n",
    "    print(\"The 'peak-rpm' column does not exist in the dataset.\")\n",
    "\n"
   ]
  },
  {
   "cell_type": "markdown",
   "metadata": {},
   "source": [
    "<div style=\"background-color: #87CEFA; color: #000000; padding: 20px; border-radius: 5px; margin-top: 20px; border: 1px solid #b8daff;\">\n",
    "<p> </p>\n",
    "<h5>**Modifying the Histogram - Show the Mean and Median Values in a Text Box and change plot color to a light blue **</h5>\n",
    "</div>"
   ]
  },
  {
   "cell_type": "code",
   "execution_count": null,
   "metadata": {},
   "outputs": [],
   "source": [
    "### Inital Histrogram of the Data Set using peak-rpm\n",
    "\n",
    "#   Plot a histogram of the peak-rpm column\n",
    "### Add a vertical line for the median and mean\n",
    "### Add a legend to the Histogram\n",
    "### calculate the mean and median of the 'peak-rpm' column\n",
    "\n",
    "# calculate the mean and median of the 'peak-rpm' column and make it an integer type\n",
    "\n",
    "# Calculate the mean and median of the 'peak-rpm' column\n",
    "\n",
    "mean_peak_rpm = int(Car_Data['peak-rpm'].mean())  # Calculate the mean of the peak-rpm column\n",
    "median_peak_rpm = int(Car_Data['peak-rpm'].median())  # Calculate the median of the peak-rpm column\n",
    "\n",
    "# Plot a histogram of the peak-rpm column\n",
    "plt.hist(Car_Data['peak-rpm'], bins=10, color='lightblue')  # Create a histogram of the peak-rpm column\n",
    "plt.xlabel('Peak RPM')  # Label the x-axis\n",
    "plt.ylabel('Frequency')  # Label the y-axis\n",
    "\n",
    "plt.axvline(Car_Data['peak-rpm'].median(), color='red', linestyle='dashed', linewidth=1)  # Add a line for the median peak-rpm\n",
    "plt.axvline(Car_Data['peak-rpm'].mean(), color='green', linestyle='dashed', linewidth=1)  # Add a line for the mean peak-rpm\n",
    "\n",
    "plt.legend(['Mean', 'Median'])  # Add a legend\n",
    "\n",
    "# Place mean_peak_rpm median_peak_rpm in a text box on the plot\n",
    "\n",
    "plt.text(7000, 20, f'Mean: {mean_peak_rpm}\\nMedian: {median_peak_rpm}', bbox=dict(facecolor='white', alpha=0.5))  # Add a box with the mean and median of the 'peak-rpm' column\n",
    "\n",
    "plt.title('Histogram of Peak RPM')  # Add a title\n",
    "plt.show()\n",
    "\n"
   ]
  },
  {
   "cell_type": "markdown",
   "metadata": {},
   "source": [
    "<div style=\"background-color: #87CEFA; color: #000000; padding: 20px; border-radius: 5px; margin-top: 20px; border: 1px solid #b8daff;\">\n",
    "<p> </p>\n",
    "<h5>**Modifying the Histogram - Change to a density plot and add a normal curve using Github Copilot Chat**</h5>\n",
    "</div>"
   ]
  },
  {
   "cell_type": "code",
   "execution_count": null,
   "metadata": {},
   "outputs": [],
   "source": [
    "import seaborn as sns\n",
    "from scipy.stats import norm\n",
    "import numpy as np\n",
    "\n",
    "# Calculate the mean and median of the 'peak-rpm' column\n",
    "mean_peak_rpm = int(Car_Data['peak-rpm'].mean())  # Calculate the mean of the peak-rpm column\n",
    "median_peak_rpm = int(Car_Data['peak-rpm'].median())  # Calculate the median of the peak-rpm column\n",
    "\n",
    "# Plot a density plot of the peak-rpm column\n",
    "sns.kdeplot(Car_Data['peak-rpm'], color='lightblue', fill=True)  # Create a density plot of the peak-rpm column\n",
    "plt.xlabel('Peak RPM')  # Label the x-axis\n",
    "plt.ylabel('Density')  # Label the y-axis\n",
    "\n",
    "# Add a normal distribution curve\n",
    "x = np.linspace(Car_Data['peak-rpm'].min(), Car_Data['peak-rpm'].max(), 100)\n",
    "p = norm.pdf(x, Car_Data['peak-rpm'].mean(), Car_Data['peak-rpm'].std())\n",
    "plt.plot(x, p, 'k', linewidth=2)\n",
    "\n",
    "plt.axvline(Car_Data['peak-rpm'].median(), color='red', linestyle='dashed', linewidth=1)  # Add a line for the median peak-rpm\n",
    "plt.axvline(Car_Data['peak-rpm'].mean(), color='green', linestyle='dashed', linewidth=1)  # Add a line for the mean peak-rpm\n",
    "\n",
    "plt.legend(['Normal Curve', 'Mean', 'Median'])  # Add a legend\n",
    "\n",
    "# Place mean_peak_rpm median_peak_rpm in a text box on the plot\n",
    "plt.text(7000, 0.0001, f'Mean: {mean_peak_rpm}\\nMedian: {median_peak_rpm}', bbox=dict(facecolor='white', alpha=0.5))  # Add a box with the mean and median of the 'peak-rpm' column\n",
    "\n",
    "plt.title('Density Plot of Peak RPM with Normal Curve')  # Add a title\n",
    "plt.show()"
   ]
  },
  {
   "cell_type": "markdown",
   "metadata": {},
   "source": [
    "<div style=\"background-color: #87CEFA; color: #000000; padding: 20px; border-radius: 5px; margin-top: 20px; border: 1px solid #b8daff;\">\n",
    "<p> </p>\n",
    "<h5>**Modifying the Histogram - Remove the Y-Axis Labels**</h5>\n",
    "</div>"
   ]
  },
  {
   "cell_type": "code",
   "execution_count": null,
   "metadata": {},
   "outputs": [],
   "source": [
    "import seaborn as sns\n",
    "from scipy.stats import norm\n",
    "import numpy as np\n",
    "\n",
    "# Calculate the mean and median of the 'peak-rpm' column\n",
    "mean_peak_rpm = int(Car_Data['peak-rpm'].mean())  # Calculate the mean of the peak-rpm column\n",
    "median_peak_rpm = int(Car_Data['peak-rpm'].median())  # Calculate the median of the peak-rpm column\n",
    "\n",
    "\n",
    "# Plot a density plot of the peak-rpm column\n",
    "sns.kdeplot(Car_Data['peak-rpm'], color='lightblue', fill=True)  # Create a density plot of the peak-rpm column\n",
    "plt.xlabel('Peak RPM')  # Label the x-axis\n",
    "plt.ylabel('')  # Remove the y-axis label\n",
    "\n",
    "# Add a normal distribution curve\n",
    "x = np.linspace(Car_Data['peak-rpm'].min(), Car_Data['peak-rpm'].max(), 100)\n",
    "p = norm.pdf(x, Car_Data['peak-rpm'].mean(), Car_Data['peak-rpm'].std())\n",
    "plt.plot(x, p, 'k', linewidth=2)\n",
    "\n",
    "plt.axvline(Car_Data['peak-rpm'].median(), color='red', linestyle='dashed', linewidth=1)  # Add a line for the median peak-rpm\n",
    "plt.axvline(Car_Data['peak-rpm'].mean(), color='green', linestyle='dashed', linewidth=1)  # Add a line for the mean peak-rpm\n",
    "\n",
    "#plt.legend(['Mean', 'Median'])  # Add a legend\n",
    "\n",
    "# Place mean_peak_rpm median_peak_rpm in a text box on the plot\n",
    "plt.text(7000, 0.0001, f'Mean: {mean_peak_rpm}\\nMedian: {median_peak_rpm}', bbox=dict(facecolor='white', alpha=0.5))  # Add a box with the mean and median of the 'peak-rpm' column\n",
    "\n",
    "plt.title('Density Plot of Peak RPM with Normal Curve')  # Add a title\n",
    "\n",
    "# Remove y-axis labels\n",
    "plt.gca().yaxis.set_ticks([])\n",
    "\n",
    "#remove the border around the plot\n",
    "plt.gca().spines['top'].set_visible(False)\n",
    "plt.gca().spines['right'].set_visible(False)\n",
    "plt.gca().spines['left'].set_visible(False)\n",
    "\n",
    "plt.show()"
   ]
  },
  {
   "cell_type": "markdown",
   "metadata": {},
   "source": [
    "<div style=\"background-color: #87CEFA; color: #000000; padding: 20px; border-radius: 5px; margin-top: 20px; border: 1px solid #b8daff;\">\n",
    "<p> </p>\n",
    "<h5>**Evaluate the Skew and Kurtosis of the Distibution**</h5>\n",
    "</div>"
   ]
  },
  {
   "cell_type": "code",
   "execution_count": 19,
   "metadata": {},
   "outputs": [
    {
     "name": "stdout",
     "output_type": "stream",
     "text": [
      "Skewness: 0.10776997103084365\n",
      "Kurtosis: 0.10755081878740302\n"
     ]
    }
   ],
   "source": [
    "### Test for skewness and kurtosis\n",
    "\n",
    "# Calculate the skewness and kurtosis of the 'peak-rpm' column\n",
    "skewness = Car_Data['peak-rpm'].skew()  # Calculate the skewness of the peak-rpm column\n",
    "kurtosis = Car_Data['peak-rpm'].kurtosis()  # Calculate the kurtosis of the peak\n",
    "\n",
    "# Print the skewness and kurtosis of the 'peak-rpm' column\n",
    "print(f'Skewness: {skewness}')\n",
    "print(f'Kurtosis: {kurtosis}')\n",
    "\n"
   ]
  },
  {
   "cell_type": "markdown",
   "metadata": {},
   "source": [
    "<div style=\"background-color: #000000; color: #FFFF00; padding: 20px; border-radius: 5px; margin-top: 20px; border: 1px solid #b8daff;\">\n",
    "<h4>Skew and Kurtosis Interpretation</h4>\n",
    "<ol>\n",
    "    <il>* Both the skewness and kurtosis values indicate that the dataset's distribution is close to normal, with a slight positive skew and moderate tails.<br> \n",
    "    <br>\n",
    "    * This suggests that the data is fairly symmetrical and does not have extreme outliers. </br>\n",
    "</ol>\n",
    "</div>"
   ]
  }
 ],
 "metadata": {
  "kernelspec": {
   "display_name": "Python 3",
   "language": "python",
   "name": "python3"
  },
  "language_info": {
   "codemirror_mode": {
    "name": "ipython",
    "version": 3
   },
   "file_extension": ".py",
   "mimetype": "text/x-python",
   "name": "python",
   "nbconvert_exporter": "python",
   "pygments_lexer": "ipython3",
   "version": "3.12.4"
  }
 },
 "nbformat": 4,
 "nbformat_minor": 2
}
