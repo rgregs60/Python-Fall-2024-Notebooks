{
 "cells": [
  {
   "cell_type": "markdown",
   "metadata": {},
   "source": [
    "<div style=\"background-color: #1f77b4; color: #FFFFE0; padding: 20px; border-radius: 5px; margin-top: 20px; border: 1px solid #b8daff;\">\n",
    "<h2>Word Cloud Demonstration:</h2>\n",
    "</div>"
   ]
  },
  {
   "cell_type": "code",
   "execution_count": null,
   "metadata": {
    "vscode": {
     "languageId": "plaintext"
    }
   },
   "outputs": [],
   "source": [
    "import pandas as pd\n",
    "from wordcloud import WordCloud, STOPWORDS\n",
    "import matplotlib.pyplot as plt\n",
    "import string\n",
    "\n",
    "# Step 1: Read the Excel file and extract the 'comments' column\n",
    "def read_comments_from_excel(file_path, sheet_name=0):\n",
    "    df = pd.read_excel(file_path, sheet_name=sheet_name)\n",
    "    comments = df['comments'].dropna()  # Remove NaN values\n",
    "    return comments\n",
    "\n",
    "# Step 2: Preprocess the text\n",
    "def preprocess_text(text):\n",
    "    # Convert to lowercase\n",
    "    text = text.lower()\n",
    "\n",
    "    # Remove punctuation\n",
    "    text = text.translate(str.maketrans('', '', string.punctuation))\n",
    "\n",
    "    # Remove stopwords\n",
    "    stopwords = set(STOPWORDS)\n",
    "    words = [word for word in text.split() if word not in stopwords]\n",
    "    \n",
    "    return ' '.join(words)\n",
    "\n",
    "# Step 3: Generate the word cloud\n",
    "def generate_word_cloud(text):\n",
    "    wordcloud = WordCloud(width=800, height=400, background_color='white').generate(text)\n",
    "    return wordcloud\n",
    "\n",
    "# Step 4: Display the word cloud\n",
    "def display_word_cloud(wordcloud):\n",
    "    plt.figure(figsize=(10, 5))\n",
    "    plt.imshow(wordcloud, interpolation='bilinear')\n",
    "    plt.axis('off')\n",
    "    plt.show()\n",
    "\n",
    "# Main function to create the word cloud from an Excel file\n",
    "def create_word_cloud_from_excel(file_path, sheet_name=0):\n",
    "    # Read and preprocess the comments\n",
    "    comments = read_comments_from_excel(file_path, sheet_name)\n",
    "    processed_text = ' '.join([preprocess_text(comment) for comment in comments])\n",
    "\n",
    "    # Generate and display the word cloud\n",
    "    wordcloud = generate_word_cloud(processed_text)\n",
    "    display_word_cloud(wordcloud)\n",
    "\n",
    "# Example usage\n",
    "# create_word_cloud_from_excel('path_to_your_excel_file.xlsx')"
   ]
  },
  {
   "cell_type": "code",
   "execution_count": null,
   "metadata": {
    "vscode": {
     "languageId": "plaintext"
    }
   },
   "outputs": [],
   "source": [
    "import pandas as pd\n",
    "from wordcloud import WordCloud, STOPWORDS\n",
    "import matplotlib.pyplot as plt\n",
    "import string\n",
    "\n",
    "# Step 1: Read the Excel file and extract the 'comments' column\n",
    "def read_comments_from_excel(file_path, sheet_name=0):\n",
    "    df = pd.read_excel(file_path, sheet_name=sheet_name)\n",
    "    comments = df['comments'].dropna()  # Remove NaN values\n",
    "    return comments\n",
    "\n",
    "# Step 2: Preprocess the text\n",
    "def preprocess_text(text):\n",
    "    # Convert to lowercase\n",
    "    text = text.lower()\n",
    "\n",
    "    # Remove punctuation\n",
    "    text = text.translate(str.maketrans('', '', string.punctuation))\n",
    "\n",
    "    # Remove stopwords\n",
    "    stopwords = set(STOPWORDS)\n",
    "    words = [word for word in text.split() if word not in stopwords]\n",
    "    \n",
    "    return ' '.join(words)\n",
    "\n",
    "# Step 3: Generate the word cloud\n",
    "def generate_word_cloud(text):\n",
    "    wordcloud = WordCloud(width=800, height=400, background_color='white').generate(text)\n",
    "    return wordcloud\n",
    "\n",
    "# Step 4: Display the word cloud\n",
    "def display_word_cloud(wordcloud):\n",
    "    plt.figure(figsize=(10, 5))\n",
    "    plt.imshow(wordcloud, interpolation='bilinear')\n",
    "    plt.axis('off')\n",
    "    plt.show()\n",
    "\n",
    "# Main function to create the word cloud from an Excel file\n",
    "def create_word_cloud_from_excel(file_path, sheet_name=0):\n",
    "    # Read and preprocess the comments\n",
    "    comments = read_comments_from_excel(file_path, sheet_name)\n",
    "    processed_text = ' '.join([preprocess_text(comment) for comment in comments])\n",
    "\n",
    "    # Generate and display the word cloud\n",
    "    wordcloud = generate_word_cloud(processed_text)\n",
    "    display_word_cloud(wordcloud)\n",
    "\n",
    "# Example usage\n",
    "# create_word_cloud_from_excel('path_to_your_excel_file.xlsx')\n",
    "\n"
   ]
  },
  {
   "cell_type": "markdown",
   "metadata": {},
   "source": []
  },
  {
   "cell_type": "markdown",
   "metadata": {},
   "source": []
  }
 ],
 "metadata": {
  "language_info": {
   "name": "python"
  }
 },
 "nbformat": 4,
 "nbformat_minor": 2
}
