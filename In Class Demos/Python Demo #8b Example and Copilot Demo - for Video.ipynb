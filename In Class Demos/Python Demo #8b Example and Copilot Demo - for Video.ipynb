{
 "cells": [
  {
   "cell_type": "markdown",
   "metadata": {},
   "source": [
    "<div style=\"background-color: #1f77b4; color: #FFFFE0; padding: 20px; border-radius: 5px; margin-top: 20px; border: 1px solid #b8daff;\"\n",
    ">\n",
    "<h3>Demo Lecture #8: BIS 411 - Storytelling with Data - Video Demonstration</h3>\n",
    "<p>Lecture Topic: Python Demo #8 - Modify or Create a Graph Using Gen AI<p>\n",
    "<p>Use Copilot for Github, Chat GPT4, or other Gen AI coding too..<p>\n",
    "<p> <p>\n",
    "<p>You will then take the one chart you modified and create the one slide 3 Minute Story.<p>\n",
    "</div>"
   ]
  },
  {
   "cell_type": "markdown",
   "metadata": {},
   "source": [
    "<h5>Import Libraries and Check for Updates:</h5>\n"
   ]
  },
  {
   "cell_type": "code",
   "execution_count": 1,
   "metadata": {},
   "outputs": [],
   "source": [
    "# Check for the latest versions and install if not up to date.\n",
    "# if you do not need to update a package, you can comment it out by adding a # in front of the line\n",
    "\n",
    "### Python Version 3.12.6\n",
    "\n",
    "#%pip install pandas --upgrade\n",
    "#%pip install numpy --upgrade\n",
    "#%pip install seaborn --upgrade\n",
    "#%pip install matplotlib --upgrade\n",
    "#%pip install jupyter --upgrade\n",
    "#%pip install statsmodels --upgrade\n",
    "#%pip install jupyterlab --upgrade\n",
    "#%pip install ipywidgets --upgrade\n",
    "#%pip install python --upgrade\n",
    "#%pip install python-pptx --upgrade\n",
    "#%pip install pandas --upgrade\n",
    "#%pip install requests --upgrade\n",
    "#%pip install openpyxl --upgrade\n",
    "#%pip install xlrd --upgrade\n",
    "#%pip install tabulate --upgrade\n",
    "#%pip install os --upgrade  \n",
    "#%pip install scipy --upgrade\n",
    "\n",
    "import os   #importing os library\n",
    "import pandas as pd     #importing pandas library \n",
    "import numpy as np    #importing numpy library \n",
    "import seaborn as sns   #importing seaborn library\n",
    "import matplotlib.pyplot as plt  #importing matplotlib library\n",
    "import jupyter    #importing jupyter library\n",
    "import jupyterlab   #importing jupyterlab library\n",
    "from pptx import Presentation #importing pptx library\n",
    "from pptx.util import Inches  #importing Inches from pptx.util\n",
    "import openpyxl #importing openpyxl library\n",
    "import scipy as stats #importing scipy library\n",
    "import tabulate #importing tabulate library\n",
    "import requests #importing requests library\n",
    "import xlrd #importing xlrd library\n",
    "import statsmodels #importing statsmodels library\n",
    "#import statsmodels.api as sm #importing statsmodels.api as sm\n",
    "#import statsmodels.formula.api as smf #importing statsmodels.formula.api as smf\n",
    "import statsmodels.stats.api as sms #importing statsmodels.stats.api as sms\n",
    "import statsmodels.stats.outliers_influence as oi #importing statsmodels.stats.outliers_influence as oi\n",
    "import statsmodels.stats.diagnostic as dg #importing statsmodels.stats.diagnostic as dg\n",
    "import statsmodels.stats.stattools as st #importing statsmodels.stats.stattools as st\n",
    "import statsmodels.stats.power as sp #importing statsmodels.stats.power as sp\n",
    "import statsmodels.stats.proportion as spp #importing statsmodels.stats.proportion as spp\n",
    "import statsmodels.stats.weightstats as sw #importing statsmodels.stats.weightstats as sw\n",
    "import statsmodels.stats.multicomp as smm #importing statsmodels.stats.multicomp as smm\n",
    "import statsmodels.stats.libqsturng as sl #importing statsmodels.stats.libqsturng as sl\n",
    "import statsmodels.stats.moment_helpers as sh #importing statsmodels.stats.moment_helpers as sh\n"
   ]
  },
  {
   "cell_type": "markdown",
   "metadata": {},
   "source": [
    "<div style=\"background-color: #1f77b4; color: #FFFFE0; padding: 20px; border-radius: 25px; margin-top: 30px; border: 1px solid #b8daff;\"\n",
    ">\n",
    "<p>Creating Data Frame Sat_Data loading the data Directly into Python<p>\n",
    "</div>\n"
   ]
  },
  {
   "cell_type": "code",
   "execution_count": 2,
   "metadata": {},
   "outputs": [],
   "source": [
    "%reset -f \n",
    "\n",
    "import pandas as pd\n",
    "from io import StringIO\n",
    "\n",
    "# The text data provided by the user\n",
    "data = \"\"\"Testing_Wave,Performance,Ease_of_Use,Maintenance\n",
    "1,6,5,7\n",
    "1,4,4,4\n",
    "1,2,3,6\n",
    "1,5,5,6\n",
    "1,4,3,5\n",
    "1,5,2,2\n",
    "1,6,6,5\n",
    "1,6,5,6\n",
    "1,5,5,6\n",
    "1,4,3,7\n",
    "1,7,5,4\n",
    "1,1,1,1\n",
    "1,6,5,6\n",
    "1,4,5,6\n",
    "1,6,5,7\n",
    "1,5,5,5\n",
    "1,5,3,6\n",
    "1,5,5,6\n",
    "1,5,5,6\n",
    "1,7,7,7\n",
    "1,6,5,6\n",
    "1,6,6,7\n",
    "1,6,6,6\n",
    "1,7,7,7\n",
    "1,6,5,7\n",
    "1,4,3,4\n",
    "1,6,5,6\n",
    "1,5,5,6\n",
    "1,5,5,6\n",
    "1,5,5,6\n",
    "1,7,5,1\n",
    "2,6,6,6\n",
    "2,5,6,6\n",
    "2,6,6,6\n",
    "2,6,6,6\n",
    "2,5,3,5\n",
    "2,1,1,5\n",
    "2,5,4,7\n",
    "2,5,5,5\n",
    "2,6,6,7\n",
    "2,6,5,6\n",
    "2,7,7,7\n",
    "2,5,5,6\n",
    "2,6,6,6\n",
    "2,7,6,7\n",
    "2,6,6,6\n",
    "2,6,5,7\n",
    "2,5,5,5\n",
    "2,5,5,6\n",
    "2,3,3,5\n",
    "2,4,2,7\n",
    "2,6,5,7\n",
    "2,6,5,7\n",
    "2,6,4,7\n",
    "2,5,5,6\n",
    "2,5,5,6\n",
    "2,6,6,7\n",
    "2,5,5,6\n",
    "2,6,5,3\n",
    "2,3,3,6\n",
    "2,1,1,5\n",
    "2,5,5,7\n",
    "2,6,5,7\n",
    "2,5,5,5\n",
    "2,6,6,7\n",
    "2,4,4,4\n",
    "3,7,6,7\n",
    "3,6,6,7\n",
    "3,2,2,6\n",
    "3,5,5,5\n",
    "3,7,7,7\n",
    "3,5,5,6\n",
    "3,5,5,5\n",
    "3,5,5,6\n",
    "3,6,5,6\n",
    "3,5,5,7\n",
    "3,4,4,4\n",
    "3,6,6,7\n",
    "3,5,5,6\n",
    "3,6,5,7\n",
    "3,5,5,6\n",
    "3,1,2,1\n",
    "3,5,5,5\n",
    "3,6,6,6\n",
    "3,6,6,6\n",
    "3,5,5,5\n",
    "3,6,6,7\n",
    "3,4,3,6\n",
    "3,6,6,7\n",
    "3,5,5,6\n",
    "3,7,7,7\n",
    "3,5,5,5\n",
    "3,6,6,6\"\"\"\n",
    "\n",
    "# Use StringIO to simulate reading from a file\n",
    "data_io = StringIO(data)\n",
    "\n",
    "# Create the DataFrame\n",
    "Sat_Data = pd.read_csv(data_io)\n",
    "\n",
    "### I usually make a copy of the data after I import a data so that I can always go back to the original data if I need to.\n",
    "\n",
    "Sat_Data_Num = Sat_Data.copy()\n",
    "Sat_Data_Clean = Sat_Data.copy()\n"
   ]
  },
  {
   "cell_type": "markdown",
   "metadata": {},
   "source": [
    "```markdown\n",
    "\n",
    "Copilot for Github Prompt: \"Display a Data Dictionary of Sat_Data\"\n",
    "\n",
    "### Data Dictionary for `Sat_Data`\n",
    "\n",
    "| Column Name    | Data Type | Description                                      |\n",
    "|----------------|-----------|--------------------------------------------------|\n",
    "| Testing_Wave   | int64     | The wave of testing, indicating different phases |\n",
    "| Performance    | int64     | Performance score                                |\n",
    "| Ease_of_Use    | int64     | Ease of use score                                |\n",
    "| Maintenance    | int64     | Maintenance score                                |\n",
    "\n",
    "\n",
    "```"
   ]
  },
  {
   "cell_type": "code",
   "execution_count": 3,
   "metadata": {},
   "outputs": [],
   "source": [
    "### Adding Data Labels to Performance, Ease_of_Use, and Maintenance Columns\n",
    "\n",
    "# Copilot Prompt: \"Add data labels to the Performance, Ease_of_Use, and Maintenance columns in the DataFrame Sat_Data. \n",
    "\n",
    "#The labels should be descriptive and correspond to the numerical values in the columns.\n",
    "\n",
    "# Define the mapping for the labels\n",
    "labels = {\n",
    "    1: '1-Strongly Disagree',\n",
    "    2: '2-Disagree',\n",
    "    3: '3-Somewhat Disagree',\n",
    "    4: '4-Neither Agree nor Disagree',\n",
    "    5: '5-Somewhat Agree',\n",
    "    6: '6-Agree',\n",
    "    7: '7-Strongly Agree'\n",
    "}\n",
    "\n",
    "# Apply the mapping to the specified columns\n",
    "Sat_Data[['Performance', 'Ease_of_Use', 'Maintenance']] = Sat_Data[['Performance', 'Ease_of_Use', 'Maintenance']].replace(labels)\n",
    "\n",
    "Sat_Data_Labels = Sat_Data.copy() # Assign the modified DataFrame to a new variable to save for later use\n",
    "\n"
   ]
  },
  {
   "cell_type": "markdown",
   "metadata": {},
   "source": [
    "<div style=\"background-color: #1f77b4; color: #FFFFE0; padding: 20px; border-radius: 5px; margin-top: 20px; border: 1px solid #b8daff;\">\n",
    "<p>Create a Frequency Table for all the variables<p>\n",
    "<p>and a Summary Tables of Mean, Median, and Sd for Performance', 'Ease_of_Use', 'Maintenance\"<p>\n",
    "</div>\n"
   ]
  },
  {
   "cell_type": "code",
   "execution_count": null,
   "metadata": {},
   "outputs": [],
   "source": [
    "# Create a frequency table for each of the variables in the Sat_Data DataFrame\n",
    "\n",
    "### Copilot Prompt: \"Create frequency tables using Sat_Data for the Testing_Wave, Performance, Ease_of_Use, and Maintenance columns in the DataFrame Sat_Data ordered by value\n",
    "\n",
    "\n"
   ]
  },
  {
   "cell_type": "code",
   "execution_count": null,
   "metadata": {},
   "outputs": [],
   "source": [
    "import seaborn as sns\n",
    "import matplotlib.pyplot as plt\n",
    "\n",
    "# create histogram with normal distribution curve for each variable in the Sat_Data DataFrame\n",
    "\n",
    "### Copilot Prompt: \"Create a histogram for each variable in the Sat_Data_Num DataFrame.\"\n",
    "\n",
    "\n",
    "\n"
   ]
  },
  {
   "cell_type": "markdown",
   "metadata": {},
   "source": [
    "<div style=\"background-color: #1f77b4; color: #FFFFE0; padding: 20px; border-radius: 5px; margin-top: 20px; border: 1px solid #b8daff;\">\n",
    "<p>Explanation of Code<p>\n",
    "</div>"
   ]
  },
  {
   "cell_type": "markdown",
   "metadata": {},
   "source": [
    "This code snippet creates histograms with normal distribution curves for each variable in the [`Sat_Data_Num`](command:_github.copilot.openSymbolFromReferences?%5B%22%22%2C%5B%7B%22uri%22%3A%7B%22scheme%22%3A%22vscode-notebook-cell%22%2C%22authority%22%3A%22github%22%2C%22path%22%3A%22%2Frgregs60%2FPython-Fall-2024-Notebooks%2FIn%20Class%20Demos%2FPython%20Demo%20%238b%20Example%20-%20Python%20Homework%202.ipynb%22%2C%22query%22%3A%22%22%2C%22fragment%22%3A%22X12sdnNjb2RlLXZmcw%3D%3D%22%7D%2C%22pos%22%3A%7B%22line%22%3A9%2C%22character%22%3A14%7D%7D%5D%2C%22210d0faf-feff-4f2d-8594-95024d8fb771%22%5D \"Go to definition\") DataFrame, excluding the 'Testing_Wave' column. Here's a detailed explanation of each part:\n",
    "\n",
    "1. **Importing Libraries:**\n",
    "   ```python\n",
    "   import seaborn as sns\n",
    "   import matplotlib.pyplot as plt\n",
    "   ```\n",
    "   - [`import seaborn as sns`](command:_github.copilot.openSymbolFromReferences?%5B%22%22%2C%5B%7B%22uri%22%3A%7B%22scheme%22%3A%22vscode-notebook-cell%22%2C%22authority%22%3A%22github%22%2C%22path%22%3A%22%2Frgregs60%2FPython-Fall-2024-Notebooks%2FIn%20Class%20Demos%2FPython%20Demo%20%238b%20Example%20-%20Python%20Homework%202.ipynb%22%2C%22query%22%3A%22%22%2C%22fragment%22%3A%22X12sdnNjb2RlLXZmcw%3D%3D%22%7D%2C%22pos%22%3A%7B%22line%22%3A0%2C%22character%22%3A18%7D%7D%5D%2C%22210d0faf-feff-4f2d-8594-95024d8fb771%22%5D \"Go to definition\"): Imports the Seaborn library, which is used for statistical data visualization.\n",
    "   - [`import matplotlib.pyplot as plt`](command:_github.copilot.openSymbolFromReferences?%5B%22%22%2C%5B%7B%22uri%22%3A%7B%22scheme%22%3A%22vscode-notebook-cell%22%2C%22authority%22%3A%22github%22%2C%22path%22%3A%22%2Frgregs60%2FPython-Fall-2024-Notebooks%2FIn%20Class%20Demos%2FPython%20Demo%20%238b%20Example%20-%20Python%20Homework%202.ipynb%22%2C%22query%22%3A%22%22%2C%22fragment%22%3A%22X12sdnNjb2RlLXZmcw%3D%3D%22%7D%2C%22pos%22%3A%7B%22line%22%3A1%2C%22character%22%3A7%7D%7D%5D%2C%22210d0faf-feff-4f2d-8594-95024d8fb771%22%5D \"Go to definition\"): Imports the Matplotlib library for plotting.\n",
    "\n",
    "2. **Creating Histograms:**\n",
    "   ```python\n",
    "   for column in Sat_Data_Num.columns[1:]:  # Skip the 'Testing_Wave' column\n",
    "       plt.figure(figsize=(10, 6))\n",
    "       sns.histplot(Sat_Data_Num[column], kde=True, bins=10)\n",
    "       plt.title(f'Histogram of {column}')\n",
    "       plt.xlabel(column)\n",
    "       plt.ylabel('Frequency')\n",
    "       plt.show()\n",
    "   ```\n",
    "   - [`for column in Sat_Data_Num.columns[1:]:`](command:_github.copilot.openSymbolFromReferences?%5B%22%22%2C%5B%7B%22uri%22%3A%7B%22scheme%22%3A%22vscode-notebook-cell%22%2C%22authority%22%3A%22github%22%2C%22path%22%3A%22%2Frgregs60%2FPython-Fall-2024-Notebooks%2FIn%20Class%20Demos%2FPython%20Demo%20%238b%20Example%20-%20Python%20Homework%202.ipynb%22%2C%22query%22%3A%22%22%2C%22fragment%22%3A%22X12sdnNjb2RlLXZmcw%3D%3D%22%7D%2C%22pos%22%3A%7B%22line%22%3A9%2C%22character%22%3A14%7D%7D%5D%2C%22210d0faf-feff-4f2d-8594-95024d8fb771%22%5D \"Go to definition\"): Iterates over each column in the [`Sat_Data_Num`](command:_github.copilot.openSymbolFromReferences?%5B%22%22%2C%5B%7B%22uri%22%3A%7B%22scheme%22%3A%22vscode-notebook-cell%22%2C%22authority%22%3A%22github%22%2C%22path%22%3A%22%2Frgregs60%2FPython-Fall-2024-Notebooks%2FIn%20Class%20Demos%2FPython%20Demo%20%238b%20Example%20-%20Python%20Homework%202.ipynb%22%2C%22query%22%3A%22%22%2C%22fragment%22%3A%22X12sdnNjb2RlLXZmcw%3D%3D%22%7D%2C%22pos%22%3A%7B%22line%22%3A9%2C%22character%22%3A14%7D%7D%5D%2C%22210d0faf-feff-4f2d-8594-95024d8fb771%22%5D \"Go to definition\") DataFrame, starting from the second column (skipping the 'Testing_Wave' column).\n",
    "   - [`plt.figure(figsize=(10, 6))`](command:_github.copilot.openSymbolFromReferences?%5B%22%22%2C%5B%7B%22uri%22%3A%7B%22scheme%22%3A%22vscode-notebook-cell%22%2C%22authority%22%3A%22github%22%2C%22path%22%3A%22%2Frgregs60%2FPython-Fall-2024-Notebooks%2FIn%20Class%20Demos%2FPython%20Demo%20%238b%20Example%20-%20Python%20Homework%202.ipynb%22%2C%22query%22%3A%22%22%2C%22fragment%22%3A%22X12sdnNjb2RlLXZmcw%3D%3D%22%7D%2C%22pos%22%3A%7B%22line%22%3A1%2C%22character%22%3A28%7D%7D%5D%2C%22210d0faf-feff-4f2d-8594-95024d8fb771%22%5D \"Go to definition\"): Creates a new figure with a specified size of 10 by 6 inches.\n",
    "   - [`sns.histplot(Sat_Data_Num[column], kde=True, bins=10)`](command:_github.copilot.openSymbolFromReferences?%5B%22%22%2C%5B%7B%22uri%22%3A%7B%22scheme%22%3A%22vscode-notebook-cell%22%2C%22authority%22%3A%22github%22%2C%22path%22%3A%22%2Frgregs60%2FPython-Fall-2024-Notebooks%2FIn%20Class%20Demos%2FPython%20Demo%20%238b%20Example%20-%20Python%20Homework%202.ipynb%22%2C%22query%22%3A%22%22%2C%22fragment%22%3A%22X12sdnNjb2RlLXZmcw%3D%3D%22%7D%2C%22pos%22%3A%7B%22line%22%3A0%2C%22character%22%3A18%7D%7D%5D%2C%22210d0faf-feff-4f2d-8594-95024d8fb771%22%5D \"Go to definition\"): Creates a histogram for the current column with a kernel density estimate (KDE) overlay and 10 bins using Seaborn's [`histplot`](command:_github.copilot.openSymbolFromReferences?%5B%22%22%2C%5B%7B%22uri%22%3A%7B%22scheme%22%3A%22vscode-notebook-cell%22%2C%22authority%22%3A%22github%22%2C%22path%22%3A%22%2Frgregs60%2FPython-Fall-2024-Notebooks%2FIn%20Class%20Demos%2FPython%20Demo%20%238b%20Example%20-%20Python%20Homework%202.ipynb%22%2C%22query%22%3A%22%22%2C%22fragment%22%3A%22X12sdnNjb2RlLXZmcw%3D%3D%22%7D%2C%22pos%22%3A%7B%22line%22%3A11%2C%22character%22%3A8%7D%7D%5D%2C%22210d0faf-feff-4f2d-8594-95024d8fb771%22%5D \"Go to definition\") function.\n",
    "   - [`plt.title(f'Histogram of {column}')`](command:_github.copilot.openSymbolFromReferences?%5B%22%22%2C%5B%7B%22uri%22%3A%7B%22scheme%22%3A%22vscode-notebook-cell%22%2C%22authority%22%3A%22github%22%2C%22path%22%3A%22%2Frgregs60%2FPython-Fall-2024-Notebooks%2FIn%20Class%20Demos%2FPython%20Demo%20%238b%20Example%20-%20Python%20Homework%202.ipynb%22%2C%22query%22%3A%22%22%2C%22fragment%22%3A%22X12sdnNjb2RlLXZmcw%3D%3D%22%7D%2C%22pos%22%3A%7B%22line%22%3A1%2C%22character%22%3A28%7D%7D%5D%2C%22210d0faf-feff-4f2d-8594-95024d8fb771%22%5D \"Go to definition\"): Sets the title of the plot to 'Histogram of {column}', where `{column}` is the name of the current column.\n",
    "   - [`plt.xlabel(column)`](command:_github.copilot.openSymbolFromReferences?%5B%22%22%2C%5B%7B%22uri%22%3A%7B%22scheme%22%3A%22vscode-notebook-cell%22%2C%22authority%22%3A%22github%22%2C%22path%22%3A%22%2Frgregs60%2FPython-Fall-2024-Notebooks%2FIn%20Class%20Demos%2FPython%20Demo%20%238b%20Example%20-%20Python%20Homework%202.ipynb%22%2C%22query%22%3A%22%22%2C%22fragment%22%3A%22X12sdnNjb2RlLXZmcw%3D%3D%22%7D%2C%22pos%22%3A%7B%22line%22%3A1%2C%22character%22%3A28%7D%7D%5D%2C%22210d0faf-feff-4f2d-8594-95024d8fb771%22%5D \"Go to definition\"): Labels the x-axis with the name of the current column.\n",
    "   - [`plt.ylabel('Frequency')`](command:_github.copilot.openSymbolFromReferences?%5B%22%22%2C%5B%7B%22uri%22%3A%7B%22scheme%22%3A%22vscode-notebook-cell%22%2C%22authority%22%3A%22github%22%2C%22path%22%3A%22%2Frgregs60%2FPython-Fall-2024-Notebooks%2FIn%20Class%20Demos%2FPython%20Demo%20%238b%20Example%20-%20Python%20Homework%202.ipynb%22%2C%22query%22%3A%22%22%2C%22fragment%22%3A%22X12sdnNjb2RlLXZmcw%3D%3D%22%7D%2C%22pos%22%3A%7B%22line%22%3A1%2C%22character%22%3A28%7D%7D%5D%2C%22210d0faf-feff-4f2d-8594-95024d8fb771%22%5D \"Go to definition\"): Labels the y-axis with 'Frequency'.\n",
    "   - [`plt.show()`](command:_github.copilot.openSymbolFromReferences?%5B%22%22%2C%5B%7B%22uri%22%3A%7B%22scheme%22%3A%22vscode-notebook-cell%22%2C%22authority%22%3A%22github%22%2C%22path%22%3A%22%2Frgregs60%2FPython-Fall-2024-Notebooks%2FIn%20Class%20Demos%2FPython%20Demo%20%238b%20Example%20-%20Python%20Homework%202.ipynb%22%2C%22query%22%3A%22%22%2C%22fragment%22%3A%22X12sdnNjb2RlLXZmcw%3D%3D%22%7D%2C%22pos%22%3A%7B%22line%22%3A1%2C%22character%22%3A28%7D%7D%5D%2C%22210d0faf-feff-4f2d-8594-95024d8fb771%22%5D \"Go to definition\"): Displays the plot.\n",
    "\n",
    "This loop will generate and display a histogram for each variable in the [`Sat_Data_Num`](command:_github.copilot.openSymbolFromReferences?%5B%22%22%2C%5B%7B%22uri%22%3A%7B%22scheme%22%3A%22vscode-notebook-cell%22%2C%22authority%22%3A%22github%22%2C%22path%22%3A%22%2Frgregs60%2FPython-Fall-2024-Notebooks%2FIn%20Class%20Demos%2FPython%20Demo%20%238b%20Example%20-%20Python%20Homework%202.ipynb%22%2C%22query%22%3A%22%22%2C%22fragment%22%3A%22X12sdnNjb2RlLXZmcw%3D%3D%22%7D%2C%22pos%22%3A%7B%22line%22%3A9%2C%22character%22%3A14%7D%7D%5D%2C%22210d0faf-feff-4f2d-8594-95024d8fb771%22%5D \"Go to definition\") DataFrame, providing a visual representation of the distribution of each variable along with a KDE curve."
   ]
  },
  {
   "cell_type": "markdown",
   "metadata": {},
   "source": [
    "<div style=\"background-color: #1f77b4; color: #FFFFE0; padding: 20px; border-radius: 5px; margin-top: 20px; border: 1px solid #b8daff;\">\n",
    "<p>Create Summary Statisics<p>\n",
    "</div>"
   ]
  },
  {
   "cell_type": "code",
   "execution_count": null,
   "metadata": {},
   "outputs": [],
   "source": [
    "### Copilot Prompt: \"Calculate the mean, median, and standard deviation for the 'Performance', 'Ease_of_Use', and 'Maintenance' columns in the DataFrame Sat_Data.\n",
    "\n",
    "\n",
    "\n"
   ]
  },
  {
   "cell_type": "markdown",
   "metadata": {},
   "source": [
    "<div style=\"background-color: #1f77b4; color: #FFFFE0; padding: 20px; border-radius: 5px; margin-top: 20px; border: 1px solid #b8daff;\">\n",
    "<p>Explanation of Code<p>\n",
    "</div>"
   ]
  },
  {
   "cell_type": "markdown",
   "metadata": {},
   "source": [
    "The provided code snippet is a Python script that calculates and displays summary statistics for three columns—'Performance', 'Ease_of_Use', and 'Maintenance'—in the DataFrame [`Sat_Data_Clean`](command:_github.copilot.openSymbolFromReferences?%5B%22%22%2C%5B%7B%22uri%22%3A%7B%22scheme%22%3A%22vscode-notebook-cell%22%2C%22authority%22%3A%22github%22%2C%22path%22%3A%22%2Frgregs60%2FPython-Fall-2024-Notebooks%2FIn%20Class%20Demos%2FPython%20Demo%20%238b%20Example%20-%20Python%20Homework%202.ipynb%22%2C%22query%22%3A%22%22%2C%22fragment%22%3A%22X16sdnNjb2RlLXZmcw%3D%3D%22%7D%2C%22pos%22%3A%7B%22line%22%3A4%2C%22character%22%3A14%7D%7D%5D%2C%22885da965-8ed6-4092-a8dd-904738c7c28a%22%5D \"Go to definition\"). The summary statistics calculated are the mean, median, and standard deviation for each of these columns.\n",
    "\n",
    "1. **Calculate Mean, Median, and Standard Deviation**:\n",
    "   - The script calculates the mean values for the 'Performance', 'Ease_of_Use', and 'Maintenance' columns using the pandas [`mean()`](command:_github.copilot.openSymbolFromReferences?%5B%22%22%2C%5B%7B%22uri%22%3A%7B%22scheme%22%3A%22vscode-notebook-cell%22%2C%22authority%22%3A%22github%22%2C%22path%22%3A%22%2Frgregs60%2FPython-Fall-2024-Notebooks%2FIn%20Class%20Demos%2FPython%20Demo%20%238b%20Example%20-%20Python%20Homework%202.ipynb%22%2C%22query%22%3A%22%22%2C%22fragment%22%3A%22X16sdnNjb2RlLXZmcw%3D%3D%22%7D%2C%22pos%22%3A%7B%22line%22%3A4%2C%22character%22%3A76%7D%7D%5D%2C%22885da965-8ed6-4092-a8dd-904738c7c28a%22%5D \"Go to definition\") method. This method computes the average value for each column, excluding any missing values by default. The results are stored in the variable [`mean_values`](command:_github.copilot.openSymbolFromReferences?%5B%22%22%2C%5B%7B%22uri%22%3A%7B%22scheme%22%3A%22vscode-notebook-cell%22%2C%22authority%22%3A%22github%22%2C%22path%22%3A%22%2Frgregs60%2FPython-Fall-2024-Notebooks%2FIn%20Class%20Demos%2FPython%20Demo%20%238b%20Example%20-%20Python%20Homework%202.ipynb%22%2C%22query%22%3A%22%22%2C%22fragment%22%3A%22X16sdnNjb2RlLXZmcw%3D%3D%22%7D%2C%22pos%22%3A%7B%22line%22%3A4%2C%22character%22%3A0%7D%7D%5D%2C%22885da965-8ed6-4092-a8dd-904738c7c28a%22%5D \"Go to definition\").\n",
    "   - Similarly, the script calculates the median values for the same columns using the pandas [`median()`](command:_github.copilot.openSymbolFromReferences?%5B%22%22%2C%5B%7B%22uri%22%3A%7B%22scheme%22%3A%22vscode-notebook-cell%22%2C%22authority%22%3A%22github%22%2C%22path%22%3A%22%2Frgregs60%2FPython-Fall-2024-Notebooks%2FIn%20Class%20Demos%2FPython%20Demo%20%238b%20Example%20-%20Python%20Homework%202.ipynb%22%2C%22query%22%3A%22%22%2C%22fragment%22%3A%22X16sdnNjb2RlLXZmcw%3D%3D%22%7D%2C%22pos%22%3A%7B%22line%22%3A5%2C%22character%22%3A78%7D%7D%5D%2C%22885da965-8ed6-4092-a8dd-904738c7c28a%22%5D \"Go to definition\") method. The median is the middle value when the data is sorted in ascending order, providing a measure of central tendency that is less affected by outliers. The results are stored in the variable [`median_values`](command:_github.copilot.openSymbolFromReferences?%5B%22%22%2C%5B%7B%22uri%22%3A%7B%22scheme%22%3A%22vscode-notebook-cell%22%2C%22authority%22%3A%22github%22%2C%22path%22%3A%22%2Frgregs60%2FPython-Fall-2024-Notebooks%2FIn%20Class%20Demos%2FPython%20Demo%20%238b%20Example%20-%20Python%20Homework%202.ipynb%22%2C%22query%22%3A%22%22%2C%22fragment%22%3A%22X16sdnNjb2RlLXZmcw%3D%3D%22%7D%2C%22pos%22%3A%7B%22line%22%3A5%2C%22character%22%3A0%7D%7D%5D%2C%22885da965-8ed6-4092-a8dd-904738c7c28a%22%5D \"Go to definition\").\n",
    "   - The script also calculates the standard deviation for these columns using the pandas [`std()`](command:_github.copilot.openSymbolFromReferences?%5B%22%22%2C%5B%7B%22uri%22%3A%7B%22scheme%22%3A%22vscode-notebook-cell%22%2C%22authority%22%3A%22github%22%2C%22path%22%3A%22%2Frgregs60%2FPython-Fall-2024-Notebooks%2FIn%20Class%20Demos%2FPython%20Demo%20%238b%20Example%20-%20Python%20Homework%202.ipynb%22%2C%22query%22%3A%22%22%2C%22fragment%22%3A%22X16sdnNjb2RlLXZmcw%3D%3D%22%7D%2C%22pos%22%3A%7B%22line%22%3A6%2C%22character%22%3A75%7D%7D%5D%2C%22885da965-8ed6-4092-a8dd-904738c7c28a%22%5D \"Go to definition\") method. The standard deviation measures the amount of variation or dispersion in the data, indicating how spread out the values are from the mean. The results are stored in the variable [`std_values`](command:_github.copilot.openSymbolFromReferences?%5B%22%22%2C%5B%7B%22uri%22%3A%7B%22scheme%22%3A%22vscode-notebook-cell%22%2C%22authority%22%3A%22github%22%2C%22path%22%3A%22%2Frgregs60%2FPython-Fall-2024-Notebooks%2FIn%20Class%20Demos%2FPython%20Demo%20%238b%20Example%20-%20Python%20Homework%202.ipynb%22%2C%22query%22%3A%22%22%2C%22fragment%22%3A%22X16sdnNjb2RlLXZmcw%3D%3D%22%7D%2C%22pos%22%3A%7B%22line%22%3A6%2C%22character%22%3A0%7D%7D%5D%2C%22885da965-8ed6-4092-a8dd-904738c7c28a%22%5D \"Go to definition\").\n",
    "\n",
    "2. **Create a Summary Table**:\n",
    "   - After calculating these statistics, the script creates a new DataFrame named [`summary_table`](command:_github.copilot.openSymbolFromReferences?%5B%22%22%2C%5B%7B%22uri%22%3A%7B%22scheme%22%3A%22vscode-notebook-cell%22%2C%22authority%22%3A%22github%22%2C%22path%22%3A%22%2Frgregs60%2FPython-Fall-2024-Notebooks%2FIn%20Class%20Demos%2FPython%20Demo%20%238b%20Example%20-%20Python%20Homework%202.ipynb%22%2C%22query%22%3A%22%22%2C%22fragment%22%3A%22X16sdnNjb2RlLXZmcw%3D%3D%22%7D%2C%22pos%22%3A%7B%22line%22%3A9%2C%22character%22%3A0%7D%7D%5D%2C%22885da965-8ed6-4092-a8dd-904738c7c28a%22%5D \"Go to definition\") to organize and display the results. This DataFrame has three columns: 'Mean', 'Median', and 'Standard Deviation', each containing the corresponding calculated values for 'Performance', 'Ease_of_Use', and 'Maintenance'.\n",
    "\n",
    "3. **Display the Summary Table**:\n",
    "   - Finally, the script prints the [`summary_table`](command:_github.copilot.openSymbolFromReferences?%5B%22%22%2C%5B%7B%22uri%22%3A%7B%22scheme%22%3A%22vscode-notebook-cell%22%2C%22authority%22%3A%22github%22%2C%22path%22%3A%22%2Frgregs60%2FPython-Fall-2024-Notebooks%2FIn%20Class%20Demos%2FPython%20Demo%20%238b%20Example%20-%20Python%20Homework%202.ipynb%22%2C%22query%22%3A%22%22%2C%22fragment%22%3A%22X16sdnNjb2RlLXZmcw%3D%3D%22%7D%2C%22pos%22%3A%7B%22line%22%3A9%2C%22character%22%3A0%7D%7D%5D%2C%22885da965-8ed6-4092-a8dd-904738c7c28a%22%5D \"Go to definition\") DataFrame to the console, providing a clear and organized summary of the mean, median, and standard deviation for the 'Performance', 'Ease_of_Use', and 'Maintenance' columns in the [`Sat_Data_Clean`](command:_github.copilot.openSymbolFromReferences?%5B%22%22%2C%5B%7B%22uri%22%3A%7B%22scheme%22%3A%22vscode-notebook-cell%22%2C%22authority%22%3A%22github%22%2C%22path%22%3A%22%2Frgregs60%2FPython-Fall-2024-Notebooks%2FIn%20Class%20Demos%2FPython%20Demo%20%238b%20Example%20-%20Python%20Homework%202.ipynb%22%2C%22query%22%3A%22%22%2C%22fragment%22%3A%22X16sdnNjb2RlLXZmcw%3D%3D%22%7D%2C%22pos%22%3A%7B%22line%22%3A4%2C%22character%22%3A14%7D%7D%5D%2C%22885da965-8ed6-4092-a8dd-904738c7c28a%22%5D \"Go to definition\") DataFrame. This output allows for easy comparison and analysis of these key metrics across the different aspects of the survey data.\n",
    "\n"
   ]
  },
  {
   "cell_type": "markdown",
   "metadata": {},
   "source": [
    "<div style=\"background-color: #1f77b4; color: #FFFFE0; padding: 20px; border-radius: 5px; margin-top: 20px; border: 1px solid #b8daff;\">\n",
    "<h3>Carefully examine these summary results for the implications they may have on your analysis</h3>\n",
    "</div>"
   ]
  },
  {
   "cell_type": "markdown",
   "metadata": {},
   "source": [
    "<div style=\"background-color: #1f77b4; color: #FFFFE0; padding: 20px; border-radius: 5px; margin-top: 20px; border: 1px solid #b8daff;\">\n",
    "<p>Recode Agree (5/6/7) Percentage<p>\n",
    "</div>"
   ]
  },
  {
   "cell_type": "code",
   "execution_count": null,
   "metadata": {},
   "outputs": [],
   "source": [
    "# Top 3 Box Analysis - Four Steps\n",
    "\n",
    "import matplotlib.pyplot as plt\n",
    "\n",
    "Sat_Data_Num = Sat_Data_Clean.copy() # Reset the data to the original data\n",
    "\n",
    "### 1-Copilot Prompt: add labels to the 'Testing_Wave' column as 'Wave 1', 'Wave 2', and 'Wave 3'\n",
    "\n",
    "### 2-Copilot Prompt: Recode 'Performance', 'Ease_of_Use', and 'Maintenance' values: 1-4 as 0 and 5-7 as 100\n",
    "\n",
    "### 3-Copilot Prompt: Group by 'Testing_Wave' and calculate the mean for each wave\n",
    "\n",
    "### 4-Copilot Prompt: Create a line plot for the variables with 'Testing_Wave' as the x-axis, adding a legend, titles, and labels\n",
    "\n"
   ]
  },
  {
   "cell_type": "markdown",
   "metadata": {},
   "source": [
    "<div style=\"background-color: #1f77b4; color: #FFFFE0; padding: 20px; border-radius: 5px; margin-top: 20px; border: 1px solid #b8daff;\">\n",
    "<p>Explanation of Code<p>\n",
    "</div>"
   ]
  },
  {
   "cell_type": "markdown",
   "metadata": {},
   "source": [
    "This code snippet performs a \"Top 3 Box Analysis\" on a dataset, following four main steps. Here's a detailed explanation of each part:\n",
    "\n",
    "1. **Importing Libraries and Resetting Data:**\n",
    "   ```python\n",
    "   import matplotlib.pyplot as plt\n",
    "\n",
    "   Sat_Data_Num = Sat_Data_Clean.copy() # Reset the data to the original data\n",
    "   ```\n",
    "   - [`import matplotlib.pyplot as plt`](command:_github.copilot.openSymbolFromReferences?%5B%22%22%2C%5B%7B%22uri%22%3A%7B%22scheme%22%3A%22vscode-notebook-cell%22%2C%22authority%22%3A%22github%22%2C%22path%22%3A%22%2Frgregs60%2FPython-Fall-2024-Notebooks%2FIn%20Class%20Demos%2FPython%20Demo%20%238b%20Example%20-%20Python%20Homework%202.ipynb%22%2C%22query%22%3A%22%22%2C%22fragment%22%3A%22X24sdnNjb2RlLXZmcw%3D%3D%22%7D%2C%22pos%22%3A%7B%22line%22%3A2%2C%22character%22%3A7%7D%7D%5D%2C%2242ecf0e4-92bc-44ca-8507-bd35ac1c3a60%22%5D \"Go to definition\"): Imports the Matplotlib library for plotting.\n",
    "   - [`Sat_Data_Num = Sat_Data_Clean.copy()`](command:_github.copilot.openSymbolFromReferences?%5B%22%22%2C%5B%7B%22uri%22%3A%7B%22scheme%22%3A%22vscode-notebook-cell%22%2C%22authority%22%3A%22github%22%2C%22path%22%3A%22%2Frgregs60%2FPython-Fall-2024-Notebooks%2FIn%20Class%20Demos%2FPython%20Demo%20%238b%20Example%20-%20Python%20Homework%202.ipynb%22%2C%22query%22%3A%22%22%2C%22fragment%22%3A%22X24sdnNjb2RlLXZmcw%3D%3D%22%7D%2C%22pos%22%3A%7B%22line%22%3A4%2C%22character%22%3A0%7D%7D%5D%2C%2242ecf0e4-92bc-44ca-8507-bd35ac1c3a60%22%5D \"Go to definition\"): Creates a copy of the original dataset [`Sat_Data_Clean`](command:_github.copilot.openSymbolFromReferences?%5B%22%22%2C%5B%7B%22uri%22%3A%7B%22scheme%22%3A%22vscode-notebook-cell%22%2C%22authority%22%3A%22github%22%2C%22path%22%3A%22%2Frgregs60%2FPython-Fall-2024-Notebooks%2FIn%20Class%20Demos%2FPython%20Demo%20%238b%20Example%20-%20Python%20Homework%202.ipynb%22%2C%22query%22%3A%22%22%2C%22fragment%22%3A%22X24sdnNjb2RlLXZmcw%3D%3D%22%7D%2C%22pos%22%3A%7B%22line%22%3A4%2C%22character%22%3A15%7D%7D%5D%2C%2242ecf0e4-92bc-44ca-8507-bd35ac1c3a60%22%5D \"Go to definition\") and assigns it to [`Sat_Data_Num`](command:_github.copilot.openSymbolFromReferences?%5B%22%22%2C%5B%7B%22uri%22%3A%7B%22scheme%22%3A%22vscode-notebook-cell%22%2C%22authority%22%3A%22github%22%2C%22path%22%3A%22%2Frgregs60%2FPython-Fall-2024-Notebooks%2FIn%20Class%20Demos%2FPython%20Demo%20%238b%20Example%20-%20Python%20Homework%202.ipynb%22%2C%22query%22%3A%22%22%2C%22fragment%22%3A%22X24sdnNjb2RlLXZmcw%3D%3D%22%7D%2C%22pos%22%3A%7B%22line%22%3A4%2C%22character%22%3A0%7D%7D%5D%2C%2242ecf0e4-92bc-44ca-8507-bd35ac1c3a60%22%5D \"Go to definition\"). This ensures that any modifications made during the analysis do not affect the original dataset.\n",
    "\n",
    "2. **Adding Labels to the 'Testing_Wave' Column:**\n",
    "   ```python\n",
    "   # Define the mapping for the labels\n",
    "   wave_labels = {\n",
    "       1: 'Wave 1',\n",
    "       2: 'Wave 2',\n",
    "       3: 'Wave 3'\n",
    "   }\n",
    "\n",
    "   # Apply the mapping to the 'Testing_Wave' column\n",
    "   Sat_Data_Num['Testing_Wave'] = Sat_Data_Num['Testing_Wave'].replace(wave_labels)\n",
    "   ```\n",
    "   - [`wave_labels`](command:_github.copilot.openSymbolFromReferences?%5B%22%22%2C%5B%7B%22uri%22%3A%7B%22scheme%22%3A%22vscode-notebook-cell%22%2C%22authority%22%3A%22github%22%2C%22path%22%3A%22%2Frgregs60%2FPython-Fall-2024-Notebooks%2FIn%20Class%20Demos%2FPython%20Demo%20%238b%20Example%20-%20Python%20Homework%202.ipynb%22%2C%22query%22%3A%22%22%2C%22fragment%22%3A%22X24sdnNjb2RlLXZmcw%3D%3D%22%7D%2C%22pos%22%3A%7B%22line%22%3A9%2C%22character%22%3A0%7D%7D%5D%2C%2242ecf0e4-92bc-44ca-8507-bd35ac1c3a60%22%5D \"Go to definition\"): A dictionary mapping numerical values to string labels.\n",
    "   - [`Sat_Data_Num['Testing_Wave'].replace(wave_labels)`](command:_github.copilot.openSymbolFromReferences?%5B%22%22%2C%5B%7B%22uri%22%3A%7B%22scheme%22%3A%22vscode-notebook-cell%22%2C%22authority%22%3A%22github%22%2C%22path%22%3A%22%2Frgregs60%2FPython-Fall-2024-Notebooks%2FIn%20Class%20Demos%2FPython%20Demo%20%238b%20Example%20-%20Python%20Homework%202.ipynb%22%2C%22query%22%3A%22%22%2C%22fragment%22%3A%22X24sdnNjb2RlLXZmcw%3D%3D%22%7D%2C%22pos%22%3A%7B%22line%22%3A4%2C%22character%22%3A0%7D%7D%5D%2C%2242ecf0e4-92bc-44ca-8507-bd35ac1c3a60%22%5D \"Go to definition\"): Replaces numerical values in the 'Testing_Wave' column with corresponding string labels.\n",
    "\n",
    "3. **Recoding 'Performance', 'Ease_of_Use', and 'Maintenance' Values:**\n",
    "   ```python\n",
    "   # Recode 'Performance', 'Ease_of_Use', and 'Maintenance' values: 1-4 as 0 and 5-7 as 100\n",
    "   recode = {1: 0, 2: 0, 3: 0, 4: 0, 5: 100, 6: 100, 7: 100}\n",
    "\n",
    "   # Apply the recoding to the specified columns\n",
    "   Sat_Data_Num[['Performance', 'Ease_of_Use', 'Maintenance']] = Sat_Data_Num[['Performance', 'Ease_of_Use', 'Maintenance']].replace(recode)\n",
    "   ```\n",
    "   - [`recode`](command:_github.copilot.openSymbolFromReferences?%5B%22%22%2C%5B%7B%22uri%22%3A%7B%22scheme%22%3A%22vscode-notebook-cell%22%2C%22authority%22%3A%22github%22%2C%22path%22%3A%22%2Frgregs60%2FPython-Fall-2024-Notebooks%2FIn%20Class%20Demos%2FPython%20Demo%20%238b%20Example%20-%20Python%20Homework%202.ipynb%22%2C%22query%22%3A%22%22%2C%22fragment%22%3A%22X24sdnNjb2RlLXZmcw%3D%3D%22%7D%2C%22pos%22%3A%7B%22line%22%3A21%2C%22character%22%3A0%7D%7D%5D%2C%2242ecf0e4-92bc-44ca-8507-bd35ac1c3a60%22%5D \"Go to definition\"): A dictionary mapping original values to new values (1-4 to 0, 5-7 to 100).\n",
    "   - [`Sat_Data_Num[['Performance', 'Ease_of_Use', 'Maintenance']].replace(recode)`](command:_github.copilot.openSymbolFromReferences?%5B%22%22%2C%5B%7B%22uri%22%3A%7B%22scheme%22%3A%22vscode-notebook-cell%22%2C%22authority%22%3A%22github%22%2C%22path%22%3A%22%2Frgregs60%2FPython-Fall-2024-Notebooks%2FIn%20Class%20Demos%2FPython%20Demo%20%238b%20Example%20-%20Python%20Homework%202.ipynb%22%2C%22query%22%3A%22%22%2C%22fragment%22%3A%22X24sdnNjb2RlLXZmcw%3D%3D%22%7D%2C%22pos%22%3A%7B%22line%22%3A4%2C%22character%22%3A0%7D%7D%5D%2C%2242ecf0e4-92bc-44ca-8507-bd35ac1c3a60%22%5D \"Go to definition\"): Applies the recoding to the specified columns.\n",
    "\n",
    "4. **Grouping by 'Testing_Wave' and Calculating the Mean:**\n",
    "   ```python\n",
    "   # Group by 'Testing_Wave' and calculate the mean for each wave\n",
    "   grouped_means = Sat_Data_Num.groupby('Testing_Wave').mean()\n",
    "   ```\n",
    "   - [`Sat_Data_Num.groupby('Testing_Wave').mean()`](command:_github.copilot.openSymbolFromReferences?%5B%22%22%2C%5B%7B%22uri%22%3A%7B%22scheme%22%3A%22vscode-notebook-cell%22%2C%22authority%22%3A%22github%22%2C%22path%22%3A%22%2Frgregs60%2FPython-Fall-2024-Notebooks%2FIn%20Class%20Demos%2FPython%20Demo%20%238b%20Example%20-%20Python%20Homework%202.ipynb%22%2C%22query%22%3A%22%22%2C%22fragment%22%3A%22X24sdnNjb2RlLXZmcw%3D%3D%22%7D%2C%22pos%22%3A%7B%22line%22%3A4%2C%22character%22%3A0%7D%7D%5D%2C%2242ecf0e4-92bc-44ca-8507-bd35ac1c3a60%22%5D \"Go to definition\"): Groups the dataset by 'Testing_Wave' and calculates the mean for each group.\n",
    "\n",
    "5. **Creating a Line Plot:**\n",
    "   ```python\n",
    "   # Create a line plot for the variables with 'Testing_Wave' as the x-axis, adding a legend, titles, and labels\n",
    "\n",
    "   plt.figure(figsize=(12, 8))\n",
    "   for column in ['Performance', 'Ease_of_Use', 'Maintenance']:\n",
    "       plt.plot(grouped_means.index, grouped_means[column], marker='o', label=column)\n",
    "\n",
    "   plt.title('% Top 3 Box (5/6/7)-Analysis by Testing Wave')\n",
    "   plt.xlabel('Testing Wave')\n",
    "   plt.ylabel('Mean Score')\n",
    "   plt.legend(title='Variables')\n",
    "   plt.grid(True)\n",
    "   plt.show()\n",
    "   ```\n",
    "   - [`plt.figure(figsize=(12, 8))`](command:_github.copilot.openSymbolFromReferences?%5B%22%22%2C%5B%7B%22uri%22%3A%7B%22scheme%22%3A%22vscode-notebook-cell%22%2C%22authority%22%3A%22github%22%2C%22path%22%3A%22%2Frgregs60%2FPython-Fall-2024-Notebooks%2FIn%20Class%20Demos%2FPython%20Demo%20%238b%20Example%20-%20Python%20Homework%202.ipynb%22%2C%22query%22%3A%22%22%2C%22fragment%22%3A%22X24sdnNjb2RlLXZmcw%3D%3D%22%7D%2C%22pos%22%3A%7B%22line%22%3A2%2C%22character%22%3A28%7D%7D%5D%2C%2242ecf0e4-92bc-44ca-8507-bd35ac1c3a60%22%5D \"Go to definition\"): Sets the figure size for the plot.\n",
    "   - `for column in ['Performance', 'Ease_of_Use', 'Maintenance']`: Iterates over the specified columns.\n",
    "   - [`plt.plot(grouped_means.index, grouped_means[column], marker='o', label=column)`](command:_github.copilot.openSymbolFromReferences?%5B%22%22%2C%5B%7B%22uri%22%3A%7B%22scheme%22%3A%22vscode-notebook-cell%22%2C%22authority%22%3A%22github%22%2C%22path%22%3A%22%2Frgregs60%2FPython-Fall-2024-Notebooks%2FIn%20Class%20Demos%2FPython%20Demo%20%238b%20Example%20-%20Python%20Homework%202.ipynb%22%2C%22query%22%3A%22%22%2C%22fragment%22%3A%22X24sdnNjb2RlLXZmcw%3D%3D%22%7D%2C%22pos%22%3A%7B%22line%22%3A2%2C%22character%22%3A28%7D%7D%5D%2C%2242ecf0e4-92bc-44ca-8507-bd35ac1c3a60%22%5D \"Go to definition\"): Plots each column's mean values against 'Testing_Wave'.\n",
    "   - [`plt.title('% Top 3 Box (5/6/7)-Analysis by Testing Wave')`](command:_github.copilot.openSymbolFromReferences?%5B%22%22%2C%5B%7B%22uri%22%3A%7B%22scheme%22%3A%22vscode-notebook-cell%22%2C%22authority%22%3A%22github%22%2C%22path%22%3A%22%2Frgregs60%2FPython-Fall-2024-Notebooks%2FIn%20Class%20Demos%2FPython%20Demo%20%238b%20Example%20-%20Python%20Homework%202.ipynb%22%2C%22query%22%3A%22%22%2C%22fragment%22%3A%22X24sdnNjb2RlLXZmcw%3D%3D%22%7D%2C%22pos%22%3A%7B%22line%22%3A2%2C%22character%22%3A28%7D%7D%5D%2C%2242ecf0e4-92bc-44ca-8507-bd35ac1c3a60%22%5D \"Go to definition\"): Sets the plot title.\n",
    "   - [`plt.xlabel('Testing Wave')`](command:_github.copilot.openSymbolFromReferences?%5B%22%22%2C%5B%7B%22uri%22%3A%7B%22scheme%22%3A%22vscode-notebook-cell%22%2C%22authority%22%3A%22github%22%2C%22path%22%3A%22%2Frgregs60%2FPython-Fall-2024-Notebooks%2FIn%20Class%20Demos%2FPython%20Demo%20%238b%20Example%20-%20Python%20Homework%202.ipynb%22%2C%22query%22%3A%22%22%2C%22fragment%22%3A%22X24sdnNjb2RlLXZmcw%3D%3D%22%7D%2C%22pos%22%3A%7B%22line%22%3A2%2C%22character%22%3A28%7D%7D%5D%2C%2242ecf0e4-92bc-44ca-8507-bd35ac1c3a60%22%5D \"Go to definition\"): Labels the x-axis.\n",
    "   - [`plt.ylabel('Mean Score')`](command:_github.copilot.openSymbolFromReferences?%5B%22%22%2C%5B%7B%22uri%22%3A%7B%22scheme%22%3A%22vscode-notebook-cell%22%2C%22authority%22%3A%22github%22%2C%22path%22%3A%22%2Frgregs60%2FPython-Fall-2024-Notebooks%2FIn%20Class%20Demos%2FPython%20Demo%20%238b%20Example%20-%20Python%20Homework%202.ipynb%22%2C%22query%22%3A%22%22%2C%22fragment%22%3A%22X24sdnNjb2RlLXZmcw%3D%3D%22%7D%2C%22pos%22%3A%7B%22line%22%3A2%2C%22character%22%3A28%7D%7D%5D%2C%2242ecf0e4-92bc-44ca-8507-bd35ac1c3a60%22%5D \"Go to definition\"): Labels the y-axis.\n",
    "   - [`plt.legend(title='Variables')`](command:_github.copilot.openSymbolFromReferences?%5B%22%22%2C%5B%7B%22uri%22%3A%7B%22scheme%22%3A%22vscode-notebook-cell%22%2C%22authority%22%3A%22github%22%2C%22path%22%3A%22%2Frgregs60%2FPython-Fall-2024-Notebooks%2FIn%20Class%20Demos%2FPython%20Demo%20%238b%20Example%20-%20Python%20Homework%202.ipynb%22%2C%22query%22%3A%22%22%2C%22fragment%22%3A%22X24sdnNjb2RlLXZmcw%3D%3D%22%7D%2C%22pos%22%3A%7B%22line%22%3A2%2C%22character%22%3A28%7D%7D%5D%2C%2242ecf0e4-92bc-44ca-8507-bd35ac1c3a60%22%5D \"Go to definition\"): Adds a legend with the title 'Variables'.\n",
    "   - [`plt.grid(True)`](command:_github.copilot.openSymbolFromReferences?%5B%22%22%2C%5B%7B%22uri%22%3A%7B%22scheme%22%3A%22vscode-notebook-cell%22%2C%22authority%22%3A%22github%22%2C%22path%22%3A%22%2Frgregs60%2FPython-Fall-2024-Notebooks%2FIn%20Class%20Demos%2FPython%20Demo%20%238b%20Example%20-%20Python%20Homework%202.ipynb%22%2C%22query%22%3A%22%22%2C%22fragment%22%3A%22X24sdnNjb2RlLXZmcw%3D%3D%22%7D%2C%22pos%22%3A%7B%22line%22%3A2%2C%22character%22%3A28%7D%7D%5D%2C%2242ecf0e4-92bc-44ca-8507-bd35ac1c3a60%22%5D \"Go to definition\"): Adds a grid to the plot.\n",
    "   - [`plt.show()`](command:_github.copilot.openSymbolFromReferences?%5B%22%22%2C%5B%7B%22uri%22%3A%7B%22scheme%22%3A%22vscode-notebook-cell%22%2C%22authority%22%3A%22github%22%2C%22path%22%3A%22%2Frgregs60%2FPython-Fall-2024-Notebooks%2FIn%20Class%20Demos%2FPython%20Demo%20%238b%20Example%20-%20Python%20Homework%202.ipynb%22%2C%22query%22%3A%22%22%2C%22fragment%22%3A%22X24sdnNjb2RlLXZmcw%3D%3D%22%7D%2C%22pos%22%3A%7B%22line%22%3A2%2C%22character%22%3A28%7D%7D%5D%2C%2242ecf0e4-92bc-44ca-8507-bd35ac1c3a60%22%5D \"Go to definition\"): Displays the plot."
   ]
  },
  {
   "cell_type": "markdown",
   "metadata": {},
   "source": [
    "<div style=\"background-color: #1f77b4; color: #FFFFE0; padding: 20px; border-radius: 5px; margin-top: 20px; border: 1px solid #b8daff;\">\n",
    "<p>Recode Agree (6/7) Percentage<p>\n",
    "</div>"
   ]
  },
  {
   "cell_type": "code",
   "execution_count": null,
   "metadata": {},
   "outputs": [],
   "source": [
    "# Top 2 Box Analysis - Four Steps\n"
   ]
  },
  {
   "cell_type": "markdown",
   "metadata": {},
   "source": [
    "<div style=\"background-color: #1f77b4; color: #FFFFE0; padding: 20px; border-radius: 5px; margin-top: 20px; border: 1px solid #b8daff;\">\n",
    "<p>Explanation of Code<p>\n",
    "</div>"
   ]
  },
  {
   "cell_type": "markdown",
   "metadata": {},
   "source": [
    "The provided code snippet performs a \"Top 2 Box Analysis\" on a dataset named [`Sat_Data_Num`](command:_github.copilot.openSymbolFromReferences?%5B%22%22%2C%5B%7B%22uri%22%3A%7B%22scheme%22%3A%22vscode-notebook-cell%22%2C%22authority%22%3A%22github%22%2C%22path%22%3A%22%2Frgregs60%2FPython-Fall-2024-Notebooks%2FIn%20Class%20Demos%2FPython%20Demo%20%238b%20Example%20-%20Python%20Homework%202.ipynb%22%2C%22query%22%3A%22%22%2C%22fragment%22%3A%22X31sdnNjb2RlLXZmcw%3D%3D%22%7D%2C%22pos%22%3A%7B%22line%22%3A4%2C%22character%22%3A0%7D%7D%5D%2C%228fe5e213-39db-43de-b080-f55070531035%22%5D \"Go to definition\"), which is a copy of the original dataset [`Sat_Data_Clean`](command:_github.copilot.openSymbolFromReferences?%5B%22%22%2C%5B%7B%22uri%22%3A%7B%22scheme%22%3A%22vscode-notebook-cell%22%2C%22authority%22%3A%22github%22%2C%22path%22%3A%22%2Frgregs60%2FPython-Fall-2024-Notebooks%2FIn%20Class%20Demos%2FPython%20Demo%20%238b%20Example%20-%20Python%20Homework%202.ipynb%22%2C%22query%22%3A%22%22%2C%22fragment%22%3A%22X31sdnNjb2RlLXZmcw%3D%3D%22%7D%2C%22pos%22%3A%7B%22line%22%3A4%2C%22character%22%3A15%7D%7D%5D%2C%228fe5e213-39db-43de-b080-f55070531035%22%5D \"Go to definition\"). The analysis is structured into four main steps, each addressing a specific data manipulation or visualization task.\n",
    "\n",
    "First, the code imports the [`matplotlib.pyplot`](command:_github.copilot.openSymbolFromReferences?%5B%22%22%2C%5B%7B%22uri%22%3A%7B%22scheme%22%3A%22vscode-notebook-cell%22%2C%22authority%22%3A%22github%22%2C%22path%22%3A%22%2Frgregs60%2FPython-Fall-2024-Notebooks%2FIn%20Class%20Demos%2FPython%20Demo%20%238b%20Example%20-%20Python%20Homework%202.ipynb%22%2C%22query%22%3A%22%22%2C%22fragment%22%3A%22X31sdnNjb2RlLXZmcw%3D%3D%22%7D%2C%22pos%22%3A%7B%22line%22%3A2%2C%22character%22%3A7%7D%7D%5D%2C%228fe5e213-39db-43de-b080-f55070531035%22%5D \"Go to definition\") library for plotting purposes. It then creates a copy of the original dataset [`Sat_Data_Clean`](command:_github.copilot.openSymbolFromReferences?%5B%22%22%2C%5B%7B%22uri%22%3A%7B%22scheme%22%3A%22vscode-notebook-cell%22%2C%22authority%22%3A%22github%22%2C%22path%22%3A%22%2Frgregs60%2FPython-Fall-2024-Notebooks%2FIn%20Class%20Demos%2FPython%20Demo%20%238b%20Example%20-%20Python%20Homework%202.ipynb%22%2C%22query%22%3A%22%22%2C%22fragment%22%3A%22X31sdnNjb2RlLXZmcw%3D%3D%22%7D%2C%22pos%22%3A%7B%22line%22%3A4%2C%22character%22%3A15%7D%7D%5D%2C%228fe5e213-39db-43de-b080-f55070531035%22%5D \"Go to definition\") and assigns it to [`Sat_Data_Num`](command:_github.copilot.openSymbolFromReferences?%5B%22%22%2C%5B%7B%22uri%22%3A%7B%22scheme%22%3A%22vscode-notebook-cell%22%2C%22authority%22%3A%22github%22%2C%22path%22%3A%22%2Frgregs60%2FPython-Fall-2024-Notebooks%2FIn%20Class%20Demos%2FPython%20Demo%20%238b%20Example%20-%20Python%20Homework%202.ipynb%22%2C%22query%22%3A%22%22%2C%22fragment%22%3A%22X31sdnNjb2RlLXZmcw%3D%3D%22%7D%2C%22pos%22%3A%7B%22line%22%3A4%2C%22character%22%3A0%7D%7D%5D%2C%228fe5e213-39db-43de-b080-f55070531035%22%5D \"Go to definition\"). This ensures that any modifications made during the analysis do not affect the original dataset.\n",
    "\n",
    "In the first step, the code adds labels to the 'Testing_Wave' column. It defines a dictionary [`wave_labels`](command:_github.copilot.openSymbolFromReferences?%5B%22%22%2C%5B%7B%22uri%22%3A%7B%22scheme%22%3A%22vscode-notebook-cell%22%2C%22authority%22%3A%22github%22%2C%22path%22%3A%22%2Frgregs60%2FPython-Fall-2024-Notebooks%2FIn%20Class%20Demos%2FPython%20Demo%20%238b%20Example%20-%20Python%20Homework%202.ipynb%22%2C%22query%22%3A%22%22%2C%22fragment%22%3A%22X31sdnNjb2RlLXZmcw%3D%3D%22%7D%2C%22pos%22%3A%7B%22line%22%3A9%2C%22character%22%3A0%7D%7D%5D%2C%228fe5e213-39db-43de-b080-f55070531035%22%5D \"Go to definition\") that maps the numerical values 1, 2, and 3 to the string labels 'Wave 1', 'Wave 2', and 'Wave 3', respectively. The [`replace`](command:_github.copilot.openSymbolFromReferences?%5B%22%22%2C%5B%7B%22uri%22%3A%7B%22scheme%22%3A%22file%22%2C%22authority%22%3A%22%22%2C%22path%22%3A%22%2Fopt%2Fminiconda3%2Flib%2Fpython3.12%2Fsite-packages%2Fpandas%2Fcore%2Fgeneric.py%22%2C%22query%22%3A%22%22%2C%22fragment%22%3A%22%22%7D%2C%22pos%22%3A%7B%22line%22%3A7846%2C%22character%22%3A8%7D%7D%2C%7B%22uri%22%3A%7B%22scheme%22%3A%22file%22%2C%22authority%22%3A%22%22%2C%22path%22%3A%22%2Fopt%2Fminiconda3%2Flib%2Fpython3.12%2Fsite-packages%2Fpandas%2Fcore%2Fgeneric.py%22%2C%22query%22%3A%22%22%2C%22fragment%22%3A%22%22%7D%2C%22pos%22%3A%7B%22line%22%3A7859%2C%22character%22%3A8%7D%7D%2C%7B%22uri%22%3A%7B%22scheme%22%3A%22file%22%2C%22authority%22%3A%22%22%2C%22path%22%3A%22%2Fopt%2Fminiconda3%2Flib%2Fpython3.12%2Fsite-packages%2Fpandas%2Fcore%2Fgeneric.py%22%2C%22query%22%3A%22%22%2C%22fragment%22%3A%22%22%7D%2C%22pos%22%3A%7B%22line%22%3A7872%2C%22character%22%3A8%7D%7D%2C%7B%22uri%22%3A%7B%22scheme%22%3A%22file%22%2C%22authority%22%3A%22%22%2C%22path%22%3A%22%2Fopt%2Fminiconda3%2Flib%2Fpython3.12%2Fsite-packages%2Fpandas%2Fcore%2Fgeneric.py%22%2C%22query%22%3A%22%22%2C%22fragment%22%3A%22%22%7D%2C%22pos%22%3A%7B%22line%22%3A7890%2C%22character%22%3A8%7D%7D%2C%7B%22uri%22%3A%7B%22scheme%22%3A%22vscode-notebook-cell%22%2C%22authority%22%3A%22github%22%2C%22path%22%3A%22%2Frgregs60%2FPython-Fall-2024-Notebooks%2FIn%20Class%20Demos%2FPython%20Demo%20%238b%20Example%20-%20Python%20Homework%202.ipynb%22%2C%22query%22%3A%22%22%2C%22fragment%22%3A%22X31sdnNjb2RlLXZmcw%3D%3D%22%7D%2C%22pos%22%3A%7B%22line%22%3A16%2C%22character%22%3A60%7D%7D%5D%2C%228fe5e213-39db-43de-b080-f55070531035%22%5D \"Go to definition\") method is then used to apply this mapping to the 'Testing_Wave' column in [`Sat_Data_Num`](command:_github.copilot.openSymbolFromReferences?%5B%22%22%2C%5B%7B%22uri%22%3A%7B%22scheme%22%3A%22vscode-notebook-cell%22%2C%22authority%22%3A%22github%22%2C%22path%22%3A%22%2Frgregs60%2FPython-Fall-2024-Notebooks%2FIn%20Class%20Demos%2FPython%20Demo%20%238b%20Example%20-%20Python%20Homework%202.ipynb%22%2C%22query%22%3A%22%22%2C%22fragment%22%3A%22X31sdnNjb2RlLXZmcw%3D%3D%22%7D%2C%22pos%22%3A%7B%22line%22%3A4%2C%22character%22%3A0%7D%7D%5D%2C%228fe5e213-39db-43de-b080-f55070531035%22%5D \"Go to definition\").\n",
    "\n",
    "The second step involves recoding the values in the 'Performance', 'Ease_of_Use', and 'Maintenance' columns. Values from 1 to 5 are recoded to 0, and values 6 and 7 are recoded to 100. This is achieved by defining a dictionary [`recode`](command:_github.copilot.openSymbolFromReferences?%5B%22%22%2C%5B%7B%22uri%22%3A%7B%22scheme%22%3A%22vscode-notebook-cell%22%2C%22authority%22%3A%22github%22%2C%22path%22%3A%22%2Frgregs60%2FPython-Fall-2024-Notebooks%2FIn%20Class%20Demos%2FPython%20Demo%20%238b%20Example%20-%20Python%20Homework%202.ipynb%22%2C%22query%22%3A%22%22%2C%22fragment%22%3A%22X31sdnNjb2RlLXZmcw%3D%3D%22%7D%2C%22pos%22%3A%7B%22line%22%3A21%2C%22character%22%3A0%7D%7D%5D%2C%228fe5e213-39db-43de-b080-f55070531035%22%5D \"Go to definition\") and applying it to the specified columns using the [`replace`](command:_github.copilot.openSymbolFromReferences?%5B%22%22%2C%5B%7B%22uri%22%3A%7B%22scheme%22%3A%22file%22%2C%22authority%22%3A%22%22%2C%22path%22%3A%22%2Fopt%2Fminiconda3%2Flib%2Fpython3.12%2Fsite-packages%2Fpandas%2Fcore%2Fgeneric.py%22%2C%22query%22%3A%22%22%2C%22fragment%22%3A%22%22%7D%2C%22pos%22%3A%7B%22line%22%3A7846%2C%22character%22%3A8%7D%7D%2C%7B%22uri%22%3A%7B%22scheme%22%3A%22file%22%2C%22authority%22%3A%22%22%2C%22path%22%3A%22%2Fopt%2Fminiconda3%2Flib%2Fpython3.12%2Fsite-packages%2Fpandas%2Fcore%2Fgeneric.py%22%2C%22query%22%3A%22%22%2C%22fragment%22%3A%22%22%7D%2C%22pos%22%3A%7B%22line%22%3A7859%2C%22character%22%3A8%7D%7D%2C%7B%22uri%22%3A%7B%22scheme%22%3A%22file%22%2C%22authority%22%3A%22%22%2C%22path%22%3A%22%2Fopt%2Fminiconda3%2Flib%2Fpython3.12%2Fsite-packages%2Fpandas%2Fcore%2Fgeneric.py%22%2C%22query%22%3A%22%22%2C%22fragment%22%3A%22%22%7D%2C%22pos%22%3A%7B%22line%22%3A7872%2C%22character%22%3A8%7D%7D%2C%7B%22uri%22%3A%7B%22scheme%22%3A%22file%22%2C%22authority%22%3A%22%22%2C%22path%22%3A%22%2Fopt%2Fminiconda3%2Flib%2Fpython3.12%2Fsite-packages%2Fpandas%2Fcore%2Fgeneric.py%22%2C%22query%22%3A%22%22%2C%22fragment%22%3A%22%22%7D%2C%22pos%22%3A%7B%22line%22%3A7890%2C%22character%22%3A8%7D%7D%2C%7B%22uri%22%3A%7B%22scheme%22%3A%22vscode-notebook-cell%22%2C%22authority%22%3A%22github%22%2C%22path%22%3A%22%2Frgregs60%2FPython-Fall-2024-Notebooks%2FIn%20Class%20Demos%2FPython%20Demo%20%238b%20Example%20-%20Python%20Homework%202.ipynb%22%2C%22query%22%3A%22%22%2C%22fragment%22%3A%22X31sdnNjb2RlLXZmcw%3D%3D%22%7D%2C%22pos%22%3A%7B%22line%22%3A16%2C%22character%22%3A60%7D%7D%5D%2C%228fe5e213-39db-43de-b080-f55070531035%22%5D \"Go to definition\") method.\n",
    "\n",
    "In the third step, the code groups the dataset by the 'Testing_Wave' column and calculates the mean for each wave. This is done using the [`groupby`](command:_github.copilot.openSymbolFromReferences?%5B%22%22%2C%5B%7B%22uri%22%3A%7B%22scheme%22%3A%22file%22%2C%22authority%22%3A%22%22%2C%22path%22%3A%22%2Fopt%2Fminiconda3%2Flib%2Fpython3.12%2Fsite-packages%2Fpandas%2Fcore%2Fframe.py%22%2C%22query%22%3A%22%22%2C%22fragment%22%3A%22%22%7D%2C%22pos%22%3A%7B%22line%22%3A9147%2C%22character%22%3A8%7D%7D%2C%7B%22uri%22%3A%7B%22scheme%22%3A%22vscode-notebook-cell%22%2C%22authority%22%3A%22github%22%2C%22path%22%3A%22%2Frgregs60%2FPython-Fall-2024-Notebooks%2FIn%20Class%20Demos%2FPython%20Demo%20%238b%20Example%20-%20Python%20Homework%202.ipynb%22%2C%22query%22%3A%22%22%2C%22fragment%22%3A%22X31sdnNjb2RlLXZmcw%3D%3D%22%7D%2C%22pos%22%3A%7B%22line%22%3A29%2C%22character%22%3A29%7D%7D%5D%2C%228fe5e213-39db-43de-b080-f55070531035%22%5D \"Go to definition\") method followed by the [`mean`](command:_github.copilot.openSymbolFromReferences?%5B%22%22%2C%5B%7B%22uri%22%3A%7B%22scheme%22%3A%22file%22%2C%22authority%22%3A%22%22%2C%22path%22%3A%22%2Fopt%2Fminiconda3%2Flib%2Fpython3.12%2Fsite-packages%2Fpandas%2Fcore%2Fgroupby%2Fgroupby.py%22%2C%22query%22%3A%22%22%2C%22fragment%22%3A%22%22%7D%2C%22pos%22%3A%7B%22line%22%3A2367%2C%22character%22%3A8%7D%7D%2C%7B%22uri%22%3A%7B%22scheme%22%3A%22vscode-notebook-cell%22%2C%22authority%22%3A%22github%22%2C%22path%22%3A%22%2Frgregs60%2FPython-Fall-2024-Notebooks%2FIn%20Class%20Demos%2FPython%20Demo%20%238b%20Example%20-%20Python%20Homework%202.ipynb%22%2C%22query%22%3A%22%22%2C%22fragment%22%3A%22X31sdnNjb2RlLXZmcw%3D%3D%22%7D%2C%22pos%22%3A%7B%22line%22%3A29%2C%22character%22%3A53%7D%7D%5D%2C%228fe5e213-39db-43de-b080-f55070531035%22%5D \"Go to definition\") method, resulting in a new DataFrame [`grouped_means`](command:_github.copilot.openSymbolFromReferences?%5B%22%22%2C%5B%7B%22uri%22%3A%7B%22scheme%22%3A%22vscode-notebook-cell%22%2C%22authority%22%3A%22github%22%2C%22path%22%3A%22%2Frgregs60%2FPython-Fall-2024-Notebooks%2FIn%20Class%20Demos%2FPython%20Demo%20%238b%20Example%20-%20Python%20Homework%202.ipynb%22%2C%22query%22%3A%22%22%2C%22fragment%22%3A%22X31sdnNjb2RlLXZmcw%3D%3D%22%7D%2C%22pos%22%3A%7B%22line%22%3A29%2C%22character%22%3A0%7D%7D%5D%2C%228fe5e213-39db-43de-b080-f55070531035%22%5D \"Go to definition\") that contains the mean values of the specified columns for each testing wave.\n",
    "\n",
    "Finally, the fourth step creates a line plot to visualize the mean scores of 'Performance', 'Ease_of_Use', and 'Maintenance' across the different testing waves. The plot is generated using Matplotlib, with 'Testing_Wave' as the x-axis and the mean scores as the y-axis. Each variable is plotted with a distinct line, and the plot includes a title, axis labels, and a legend to differentiate between the variables. The figure size is set to 12 by 8 inches to ensure clarity and readability of the plot."
   ]
  },
  {
   "cell_type": "markdown",
   "metadata": {},
   "source": [
    "<div style=\"background-color: #1f77b4; color: #FFFFE0; padding: 20px; border-radius: 5px; margin-top: 20px; border: 1px solid #b8daff;\">\n",
    "<p>Maybe Top Box Strongly Agree (7) Percentage is worth looking at, if you think so add the code below<p>\n",
    "<p> <p>\n",
    "<p>Or Maybe You have another way of Showing This Data<p>\n",
    "</div>"
   ]
  },
  {
   "cell_type": "code",
   "execution_count": null,
   "metadata": {},
   "outputs": [],
   "source": [
    "# Top Box Analysis - Four Steps\n",
    "\n",
    "i"
   ]
  },
  {
   "cell_type": "markdown",
   "metadata": {},
   "source": [
    "<div style=\"background-color: #1f77b4; color: #FFFFE0; padding: 20px; border-radius: 5px; margin-top: 20px; border: 1px solid #b8daff;\">\n",
    "<p>Explanation of Code<p>\n",
    "</div>"
   ]
  },
  {
   "cell_type": "markdown",
   "metadata": {},
   "source": [
    "The provided code snippet performs a \"Top Box Analysis\" on a dataset named [`Sat_Data_Num`](command:_github.copilot.openSymbolFromReferences?%5B%22%22%2C%5B%7B%22uri%22%3A%7B%22scheme%22%3A%22vscode-notebook-cell%22%2C%22authority%22%3A%22github%22%2C%22path%22%3A%22%2Frgregs60%2FPython-Fall-2024-Notebooks%2FIn%20Class%20Demos%2FPython%20Demo%20%238b%20Example%20-%20Python%20Homework%202.ipynb%22%2C%22query%22%3A%22%22%2C%22fragment%22%3A%22X35sdnNjb2RlLXZmcw%3D%3D%22%7D%2C%22pos%22%3A%7B%22line%22%3A4%2C%22character%22%3A0%7D%7D%5D%2C%22b2bb52a6-7fac-458a-a462-a6007dc6f1d5%22%5D \"Go to definition\"), which is a copy of the original dataset [`Sat_Data_Clean`](command:_github.copilot.openSymbolFromReferences?%5B%22%22%2C%5B%7B%22uri%22%3A%7B%22scheme%22%3A%22vscode-notebook-cell%22%2C%22authority%22%3A%22github%22%2C%22path%22%3A%22%2Frgregs60%2FPython-Fall-2024-Notebooks%2FIn%20Class%20Demos%2FPython%20Demo%20%238b%20Example%20-%20Python%20Homework%202.ipynb%22%2C%22query%22%3A%22%22%2C%22fragment%22%3A%22X35sdnNjb2RlLXZmcw%3D%3D%22%7D%2C%22pos%22%3A%7B%22line%22%3A4%2C%22character%22%3A15%7D%7D%5D%2C%22b2bb52a6-7fac-458a-a462-a6007dc6f1d5%22%5D \"Go to definition\"). The analysis is structured into four main steps, each addressing a specific data manipulation or visualization task.\n",
    "\n",
    "First, the code imports the [`matplotlib.pyplot`](command:_github.copilot.openSymbolFromReferences?%5B%22%22%2C%5B%7B%22uri%22%3A%7B%22scheme%22%3A%22vscode-notebook-cell%22%2C%22authority%22%3A%22github%22%2C%22path%22%3A%22%2Frgregs60%2FPython-Fall-2024-Notebooks%2FIn%20Class%20Demos%2FPython%20Demo%20%238b%20Example%20-%20Python%20Homework%202.ipynb%22%2C%22query%22%3A%22%22%2C%22fragment%22%3A%22X35sdnNjb2RlLXZmcw%3D%3D%22%7D%2C%22pos%22%3A%7B%22line%22%3A2%2C%22character%22%3A7%7D%7D%5D%2C%22b2bb52a6-7fac-458a-a462-a6007dc6f1d5%22%5D \"Go to definition\") library for plotting purposes. It then creates a copy of the original dataset [`Sat_Data_Clean`](command:_github.copilot.openSymbolFromReferences?%5B%22%22%2C%5B%7B%22uri%22%3A%7B%22scheme%22%3A%22vscode-notebook-cell%22%2C%22authority%22%3A%22github%22%2C%22path%22%3A%22%2Frgregs60%2FPython-Fall-2024-Notebooks%2FIn%20Class%20Demos%2FPython%20Demo%20%238b%20Example%20-%20Python%20Homework%202.ipynb%22%2C%22query%22%3A%22%22%2C%22fragment%22%3A%22X35sdnNjb2RlLXZmcw%3D%3D%22%7D%2C%22pos%22%3A%7B%22line%22%3A4%2C%22character%22%3A15%7D%7D%5D%2C%22b2bb52a6-7fac-458a-a462-a6007dc6f1d5%22%5D \"Go to definition\") and assigns it to [`Sat_Data_Num`](command:_github.copilot.openSymbolFromReferences?%5B%22%22%2C%5B%7B%22uri%22%3A%7B%22scheme%22%3A%22vscode-notebook-cell%22%2C%22authority%22%3A%22github%22%2C%22path%22%3A%22%2Frgregs60%2FPython-Fall-2024-Notebooks%2FIn%20Class%20Demos%2FPython%20Demo%20%238b%20Example%20-%20Python%20Homework%202.ipynb%22%2C%22query%22%3A%22%22%2C%22fragment%22%3A%22X35sdnNjb2RlLXZmcw%3D%3D%22%7D%2C%22pos%22%3A%7B%22line%22%3A4%2C%22character%22%3A0%7D%7D%5D%2C%22b2bb52a6-7fac-458a-a462-a6007dc6f1d5%22%5D \"Go to definition\"). This ensures that any modifications made during the analysis do not affect the original dataset.\n",
    "\n",
    "In the first step, the code adds labels to the 'Testing_Wave' column. It defines a dictionary [`wave_labels`](command:_github.copilot.openSymbolFromReferences?%5B%22%22%2C%5B%7B%22uri%22%3A%7B%22scheme%22%3A%22vscode-notebook-cell%22%2C%22authority%22%3A%22github%22%2C%22path%22%3A%22%2Frgregs60%2FPython-Fall-2024-Notebooks%2FIn%20Class%20Demos%2FPython%20Demo%20%238b%20Example%20-%20Python%20Homework%202.ipynb%22%2C%22query%22%3A%22%22%2C%22fragment%22%3A%22X35sdnNjb2RlLXZmcw%3D%3D%22%7D%2C%22pos%22%3A%7B%22line%22%3A9%2C%22character%22%3A0%7D%7D%5D%2C%22b2bb52a6-7fac-458a-a462-a6007dc6f1d5%22%5D \"Go to definition\") that maps the numerical values 1, 2, and 3 to the string labels 'Wave 1', 'Wave 2', and 'Wave 3', respectively. The [`replace`](command:_github.copilot.openSymbolFromReferences?%5B%22%22%2C%5B%7B%22uri%22%3A%7B%22scheme%22%3A%22file%22%2C%22authority%22%3A%22%22%2C%22path%22%3A%22%2Fopt%2Fminiconda3%2Flib%2Fpython3.12%2Fsite-packages%2Fpandas%2Fcore%2Fgeneric.py%22%2C%22query%22%3A%22%22%2C%22fragment%22%3A%22%22%7D%2C%22pos%22%3A%7B%22line%22%3A7846%2C%22character%22%3A8%7D%7D%2C%7B%22uri%22%3A%7B%22scheme%22%3A%22file%22%2C%22authority%22%3A%22%22%2C%22path%22%3A%22%2Fopt%2Fminiconda3%2Flib%2Fpython3.12%2Fsite-packages%2Fpandas%2Fcore%2Fgeneric.py%22%2C%22query%22%3A%22%22%2C%22fragment%22%3A%22%22%7D%2C%22pos%22%3A%7B%22line%22%3A7859%2C%22character%22%3A8%7D%7D%2C%7B%22uri%22%3A%7B%22scheme%22%3A%22file%22%2C%22authority%22%3A%22%22%2C%22path%22%3A%22%2Fopt%2Fminiconda3%2Flib%2Fpython3.12%2Fsite-packages%2Fpandas%2Fcore%2Fgeneric.py%22%2C%22query%22%3A%22%22%2C%22fragment%22%3A%22%22%7D%2C%22pos%22%3A%7B%22line%22%3A7872%2C%22character%22%3A8%7D%7D%2C%7B%22uri%22%3A%7B%22scheme%22%3A%22file%22%2C%22authority%22%3A%22%22%2C%22path%22%3A%22%2Fopt%2Fminiconda3%2Flib%2Fpython3.12%2Fsite-packages%2Fpandas%2Fcore%2Fgeneric.py%22%2C%22query%22%3A%22%22%2C%22fragment%22%3A%22%22%7D%2C%22pos%22%3A%7B%22line%22%3A7890%2C%22character%22%3A8%7D%7D%2C%7B%22uri%22%3A%7B%22scheme%22%3A%22vscode-notebook-cell%22%2C%22authority%22%3A%22github%22%2C%22path%22%3A%22%2Frgregs60%2FPython-Fall-2024-Notebooks%2FIn%20Class%20Demos%2FPython%20Demo%20%238b%20Example%20-%20Python%20Homework%202.ipynb%22%2C%22query%22%3A%22%22%2C%22fragment%22%3A%22X35sdnNjb2RlLXZmcw%3D%3D%22%7D%2C%22pos%22%3A%7B%22line%22%3A16%2C%22character%22%3A60%7D%7D%5D%2C%22b2bb52a6-7fac-458a-a462-a6007dc6f1d5%22%5D \"Go to definition\") method is then used to apply this mapping to the 'Testing_Wave' column in [`Sat_Data_Num`](command:_github.copilot.openSymbolFromReferences?%5B%22%22%2C%5B%7B%22uri%22%3A%7B%22scheme%22%3A%22vscode-notebook-cell%22%2C%22authority%22%3A%22github%22%2C%22path%22%3A%22%2Frgregs60%2FPython-Fall-2024-Notebooks%2FIn%20Class%20Demos%2FPython%20Demo%20%238b%20Example%20-%20Python%20Homework%202.ipynb%22%2C%22query%22%3A%22%22%2C%22fragment%22%3A%22X35sdnNjb2RlLXZmcw%3D%3D%22%7D%2C%22pos%22%3A%7B%22line%22%3A4%2C%22character%22%3A0%7D%7D%5D%2C%22b2bb52a6-7fac-458a-a462-a6007dc6f1d5%22%5D \"Go to definition\").\n",
    "\n",
    "The second step involves recoding the values in the 'Performance', 'Ease_of_Use', and 'Maintenance' columns. Values from 1 to 6 are recoded to 0, and the value 7 is recoded to 100. This is achieved by defining a dictionary [`recode`](command:_github.copilot.openSymbolFromReferences?%5B%22%22%2C%5B%7B%22uri%22%3A%7B%22scheme%22%3A%22vscode-notebook-cell%22%2C%22authority%22%3A%22github%22%2C%22path%22%3A%22%2Frgregs60%2FPython-Fall-2024-Notebooks%2FIn%20Class%20Demos%2FPython%20Demo%20%238b%20Example%20-%20Python%20Homework%202.ipynb%22%2C%22query%22%3A%22%22%2C%22fragment%22%3A%22X35sdnNjb2RlLXZmcw%3D%3D%22%7D%2C%22pos%22%3A%7B%22line%22%3A21%2C%22character%22%3A0%7D%7D%5D%2C%22b2bb52a6-7fac-458a-a462-a6007dc6f1d5%22%5D \"Go to definition\") and applying it to the specified columns using the [`replace`](command:_github.copilot.openSymbolFromReferences?%5B%22%22%2C%5B%7B%22uri%22%3A%7B%22scheme%22%3A%22file%22%2C%22authority%22%3A%22%22%2C%22path%22%3A%22%2Fopt%2Fminiconda3%2Flib%2Fpython3.12%2Fsite-packages%2Fpandas%2Fcore%2Fgeneric.py%22%2C%22query%22%3A%22%22%2C%22fragment%22%3A%22%22%7D%2C%22pos%22%3A%7B%22line%22%3A7846%2C%22character%22%3A8%7D%7D%2C%7B%22uri%22%3A%7B%22scheme%22%3A%22file%22%2C%22authority%22%3A%22%22%2C%22path%22%3A%22%2Fopt%2Fminiconda3%2Flib%2Fpython3.12%2Fsite-packages%2Fpandas%2Fcore%2Fgeneric.py%22%2C%22query%22%3A%22%22%2C%22fragment%22%3A%22%22%7D%2C%22pos%22%3A%7B%22line%22%3A7859%2C%22character%22%3A8%7D%7D%2C%7B%22uri%22%3A%7B%22scheme%22%3A%22file%22%2C%22authority%22%3A%22%22%2C%22path%22%3A%22%2Fopt%2Fminiconda3%2Flib%2Fpython3.12%2Fsite-packages%2Fpandas%2Fcore%2Fgeneric.py%22%2C%22query%22%3A%22%22%2C%22fragment%22%3A%22%22%7D%2C%22pos%22%3A%7B%22line%22%3A7872%2C%22character%22%3A8%7D%7D%2C%7B%22uri%22%3A%7B%22scheme%22%3A%22file%22%2C%22authority%22%3A%22%22%2C%22path%22%3A%22%2Fopt%2Fminiconda3%2Flib%2Fpython3.12%2Fsite-packages%2Fpandas%2Fcore%2Fgeneric.py%22%2C%22query%22%3A%22%22%2C%22fragment%22%3A%22%22%7D%2C%22pos%22%3A%7B%22line%22%3A7890%2C%22character%22%3A8%7D%7D%2C%7B%22uri%22%3A%7B%22scheme%22%3A%22vscode-notebook-cell%22%2C%22authority%22%3A%22github%22%2C%22path%22%3A%22%2Frgregs60%2FPython-Fall-2024-Notebooks%2FIn%20Class%20Demos%2FPython%20Demo%20%238b%20Example%20-%20Python%20Homework%202.ipynb%22%2C%22query%22%3A%22%22%2C%22fragment%22%3A%22X35sdnNjb2RlLXZmcw%3D%3D%22%7D%2C%22pos%22%3A%7B%22line%22%3A16%2C%22character%22%3A60%7D%7D%5D%2C%22b2bb52a6-7fac-458a-a462-a6007dc6f1d5%22%5D \"Go to definition\") method.\n",
    "\n",
    "In the third step, the code groups the dataset by the 'Testing_Wave' column and calculates the mean for each wave. This is done using the [`groupby`](command:_github.copilot.openSymbolFromReferences?%5B%22%22%2C%5B%7B%22uri%22%3A%7B%22scheme%22%3A%22file%22%2C%22authority%22%3A%22%22%2C%22path%22%3A%22%2Fopt%2Fminiconda3%2Flib%2Fpython3.12%2Fsite-packages%2Fpandas%2Fcore%2Fframe.py%22%2C%22query%22%3A%22%22%2C%22fragment%22%3A%22%22%7D%2C%22pos%22%3A%7B%22line%22%3A9147%2C%22character%22%3A8%7D%7D%2C%7B%22uri%22%3A%7B%22scheme%22%3A%22vscode-notebook-cell%22%2C%22authority%22%3A%22github%22%2C%22path%22%3A%22%2Frgregs60%2FPython-Fall-2024-Notebooks%2FIn%20Class%20Demos%2FPython%20Demo%20%238b%20Example%20-%20Python%20Homework%202.ipynb%22%2C%22query%22%3A%22%22%2C%22fragment%22%3A%22X35sdnNjb2RlLXZmcw%3D%3D%22%7D%2C%22pos%22%3A%7B%22line%22%3A29%2C%22character%22%3A29%7D%7D%5D%2C%22b2bb52a6-7fac-458a-a462-a6007dc6f1d5%22%5D \"Go to definition\") method followed by the [`mean`](command:_github.copilot.openSymbolFromReferences?%5B%22%22%2C%5B%7B%22uri%22%3A%7B%22scheme%22%3A%22file%22%2C%22authority%22%3A%22%22%2C%22path%22%3A%22%2Fopt%2Fminiconda3%2Flib%2Fpython3.12%2Fsite-packages%2Fpandas%2Fcore%2Fgroupby%2Fgroupby.py%22%2C%22query%22%3A%22%22%2C%22fragment%22%3A%22%22%7D%2C%22pos%22%3A%7B%22line%22%3A2367%2C%22character%22%3A8%7D%7D%2C%7B%22uri%22%3A%7B%22scheme%22%3A%22vscode-notebook-cell%22%2C%22authority%22%3A%22github%22%2C%22path%22%3A%22%2Frgregs60%2FPython-Fall-2024-Notebooks%2FIn%20Class%20Demos%2FPython%20Demo%20%238b%20Example%20-%20Python%20Homework%202.ipynb%22%2C%22query%22%3A%22%22%2C%22fragment%22%3A%22X35sdnNjb2RlLXZmcw%3D%3D%22%7D%2C%22pos%22%3A%7B%22line%22%3A29%2C%22character%22%3A53%7D%7D%5D%2C%22b2bb52a6-7fac-458a-a462-a6007dc6f1d5%22%5D \"Go to definition\") method, resulting in a new DataFrame [`grouped_means`](command:_github.copilot.openSymbolFromReferences?%5B%22%22%2C%5B%7B%22uri%22%3A%7B%22scheme%22%3A%22vscode-notebook-cell%22%2C%22authority%22%3A%22github%22%2C%22path%22%3A%22%2Frgregs60%2FPython-Fall-2024-Notebooks%2FIn%20Class%20Demos%2FPython%20Demo%20%238b%20Example%20-%20Python%20Homework%202.ipynb%22%2C%22query%22%3A%22%22%2C%22fragment%22%3A%22X35sdnNjb2RlLXZmcw%3D%3D%22%7D%2C%22pos%22%3A%7B%22line%22%3A29%2C%22character%22%3A0%7D%7D%5D%2C%22b2bb52a6-7fac-458a-a462-a6007dc6f1d5%22%5D \"Go to definition\") that contains the mean values of the specified columns for each testing wave.\n",
    "\n",
    "Finally, the fourth step creates a line plot to visualize the mean scores of 'Performance', 'Ease_of_Use', and 'Maintenance' across the different testing waves. The plot is generated using Matplotlib, with 'Testing_Wave' as the x-axis and the mean scores as the y-axis. Each variable is plotted with a distinct line, and the plot includes a title, axis labels, and a legend to differentiate between the variables. The figure size is set to 12 by 8 inches to ensure clarity and readability of the plot."
   ]
  },
  {
   "cell_type": "markdown",
   "metadata": {},
   "source": [
    "<div style=\"background-color: #DC143C; color: #000000; padding: 20px; border-radius: 25px; margin-top: 30px; border: 1px solid #8B0000;\"\n",
    ">\n",
    "<h4>End of Module</h4>\n",
    "</div>"
   ]
  }
 ],
 "metadata": {
  "kernelspec": {
   "display_name": "Python 3 (ipykernel)",
   "language": "python",
   "name": "python3"
  },
  "language_info": {
   "codemirror_mode": {
    "name": "ipython",
    "version": 3
   },
   "file_extension": ".py",
   "mimetype": "text/x-python",
   "name": "python",
   "nbconvert_exporter": "python",
   "pygments_lexer": "ipython3",
   "version": "3.12.6"
  }
 },
 "nbformat": 4,
 "nbformat_minor": 4
}
