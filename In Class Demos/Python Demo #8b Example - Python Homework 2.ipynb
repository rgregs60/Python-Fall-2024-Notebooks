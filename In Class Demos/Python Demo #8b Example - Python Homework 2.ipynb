{
 "cells": [
  {
   "cell_type": "markdown",
   "metadata": {},
   "source": [
    "<div style=\"background-color: #1f77b4; color: #FFFFE0; padding: 20px; border-radius: 5px; margin-top: 20px; border: 1px solid #b8daff;\"\n",
    ">\n",
    "<h3>Demo Lecture #8: BIS 411 - Storytelling with Data</h3>\n",
    "<p>Lecture Topic: Python Demo #8 - Modify or Create a Graph Using Gen AI<p>\n",
    "<p>Use Copilot for Github, Chat GPT4, or other Gen AI coding too..<p>\n",
    "<p> <p>\n",
    "<p>You will then take the one chart you modified and create the one slide 3 Minute Story.<p>\n",
    "</div>"
   ]
  },
  {
   "cell_type": "markdown",
   "metadata": {},
   "source": [
    "<h5>Import Libraries and Check for Updates:</h5>\n"
   ]
  },
  {
   "cell_type": "code",
   "execution_count": 2,
   "metadata": {},
   "outputs": [],
   "source": [
    "# Check for the latest versions and install if not up to date.\n",
    "# if you do not need to update a package, you can comment it out by adding a # in front of the line\n",
    "\n",
    "### Python Version 3.12.6\n",
    "\n",
    "#%pip install pandas --upgrade\n",
    "#%pip install numpy --upgrade\n",
    "#%pip install seaborn --upgrade\n",
    "#%pip install matplotlib --upgrade\n",
    "#%pip install jupyter --upgrade\n",
    "#%pip install statsmodels --upgrade\n",
    "#%pip install jupyterlab --upgrade\n",
    "#%pip install ipywidgets --upgrade\n",
    "#%pip install python --upgrade\n",
    "#%pip install python-pptx --upgrade\n",
    "#%pip install pandas --upgrade\n",
    "#%pip install requests --upgrade\n",
    "#%pip install openpyxl --upgrade\n",
    "#%pip install xlrd --upgrade\n",
    "#%pip install tabulate --upgrade\n",
    "#%pip install os --upgrade  \n",
    "#%pip install scipy --upgrade\n",
    "\n",
    "import os   #importing os library\n",
    "import pandas as pd     #importing pandas library \n",
    "import numpy as np    #importing numpy library \n",
    "import seaborn as sns   #importing seaborn library\n",
    "import matplotlib.pyplot as plt  #importing matplotlib library\n",
    "import jupyter    #importing jupyter library\n",
    "import jupyterlab   #importing jupyterlab library\n",
    "from pptx import Presentation #importing pptx library\n",
    "from pptx.util import Inches  #importing Inches from pptx.util\n",
    "import openpyxl #importing openpyxl library\n",
    "import scipy as stats #importing scipy library\n",
    "import tabulate #importing tabulate library\n",
    "import requests #importing requests library\n",
    "import xlrd #importing xlrd library\n",
    "import statsmodels #importing statsmodels library\n",
    "#import statsmodels.api as sm #importing statsmodels.api as sm\n",
    "#import statsmodels.formula.api as smf #importing statsmodels.formula.api as smf\n",
    "import statsmodels.stats.api as sms #importing statsmodels.stats.api as sms\n",
    "import statsmodels.stats.outliers_influence as oi #importing statsmodels.stats.outliers_influence as oi\n",
    "import statsmodels.stats.diagnostic as dg #importing statsmodels.stats.diagnostic as dg\n",
    "import statsmodels.stats.stattools as st #importing statsmodels.stats.stattools as st\n",
    "import statsmodels.stats.power as sp #importing statsmodels.stats.power as sp\n",
    "import statsmodels.stats.proportion as spp #importing statsmodels.stats.proportion as spp\n",
    "import statsmodels.stats.weightstats as sw #importing statsmodels.stats.weightstats as sw\n",
    "import statsmodels.stats.multicomp as smm #importing statsmodels.stats.multicomp as smm\n",
    "import statsmodels.stats.libqsturng as sl #importing statsmodels.stats.libqsturng as sl\n",
    "import statsmodels.stats.moment_helpers as sh #importing statsmodels.stats.moment_helpers as sh\n"
   ]
  },
  {
   "cell_type": "markdown",
   "metadata": {},
   "source": [
    "<div style=\"background-color: #1f77b4; color: #FFFFE0; padding: 20px; border-radius: 25px; margin-top: 30px; border: 1px solid #b8daff;\"\n",
    ">\n",
    "<p>Creating Data Frame Sat_Data loading the data Directly into Python<p>\n",
    "</div>\n"
   ]
  },
  {
   "cell_type": "code",
   "execution_count": 3,
   "metadata": {},
   "outputs": [],
   "source": [
    "%reset -f \n",
    "\n",
    "import pandas as pd\n",
    "from io import StringIO\n",
    "\n",
    "# The text data provided by the user\n",
    "data = \"\"\"Testing_Wave,Performance,Ease_of_Use,Maintenance\n",
    "1,6,5,7\n",
    "1,4,4,4\n",
    "1,2,3,6\n",
    "1,5,5,6\n",
    "1,4,3,5\n",
    "1,5,2,2\n",
    "1,6,6,5\n",
    "1,6,5,6\n",
    "1,5,5,6\n",
    "1,4,3,7\n",
    "1,7,5,4\n",
    "1,1,1,1\n",
    "1,6,5,6\n",
    "1,4,5,6\n",
    "1,6,5,7\n",
    "1,5,5,5\n",
    "1,5,3,6\n",
    "1,5,5,6\n",
    "1,5,5,6\n",
    "1,7,7,7\n",
    "1,6,5,6\n",
    "1,6,6,7\n",
    "1,6,6,6\n",
    "1,7,7,7\n",
    "1,6,5,7\n",
    "1,4,3,4\n",
    "1,6,5,6\n",
    "1,5,5,6\n",
    "1,5,5,6\n",
    "1,5,5,6\n",
    "1,7,5,1\n",
    "2,6,6,6\n",
    "2,5,6,6\n",
    "2,6,6,6\n",
    "2,6,6,6\n",
    "2,5,3,5\n",
    "2,1,1,5\n",
    "2,5,4,7\n",
    "2,5,5,5\n",
    "2,6,6,7\n",
    "2,6,5,6\n",
    "2,7,7,7\n",
    "2,5,5,6\n",
    "2,6,6,6\n",
    "2,7,6,7\n",
    "2,6,6,6\n",
    "2,6,5,7\n",
    "2,5,5,5\n",
    "2,5,5,6\n",
    "2,3,3,5\n",
    "2,4,2,7\n",
    "2,6,5,7\n",
    "2,6,5,7\n",
    "2,6,4,7\n",
    "2,5,5,6\n",
    "2,5,5,6\n",
    "2,6,6,7\n",
    "2,5,5,6\n",
    "2,6,5,3\n",
    "2,3,3,6\n",
    "2,1,1,5\n",
    "2,5,5,7\n",
    "2,6,5,7\n",
    "2,5,5,5\n",
    "2,6,6,7\n",
    "2,4,4,4\n",
    "3,7,6,7\n",
    "3,6,6,7\n",
    "3,2,2,6\n",
    "3,5,5,5\n",
    "3,7,7,7\n",
    "3,5,5,6\n",
    "3,5,5,5\n",
    "3,5,5,6\n",
    "3,6,5,6\n",
    "3,5,5,7\n",
    "3,4,4,4\n",
    "3,6,6,7\n",
    "3,5,5,6\n",
    "3,6,5,7\n",
    "3,5,5,6\n",
    "3,1,2,1\n",
    "3,5,5,5\n",
    "3,6,6,6\n",
    "3,6,6,6\n",
    "3,5,5,5\n",
    "3,6,6,7\n",
    "3,4,3,6\n",
    "3,6,6,7\n",
    "3,5,5,6\n",
    "3,7,7,7\n",
    "3,5,5,5\n",
    "3,6,6,6\"\"\"\n",
    "\n",
    "# Use StringIO to simulate reading from a file\n",
    "data_io = StringIO(data)\n",
    "\n",
    "# Create the DataFrame\n",
    "Sat_Data = pd.read_csv(data_io)\n",
    "\n",
    "### I usually make a copy of the data after I import a data so that I can always go back to the original data if I need to.\n",
    "\n",
    "Sat_Data_Num = Sat_Data.copy()\n",
    "Sat_Data_Clean = Sat_Data.copy()\n"
   ]
  },
  {
   "cell_type": "markdown",
   "metadata": {},
   "source": [
    "```markdown\n",
    "\n",
    "Copilot for Github Prompt: \"Display a Data Dictionary of Sat_Data\"\n",
    "\n",
    "### Data Dictionary for `Sat_Data`\n",
    "\n",
    "| Column Name    | Data Type | Description                                      |\n",
    "|----------------|-----------|--------------------------------------------------|\n",
    "| Testing_Wave   | int64     | The wave of testing, indicating different phases |\n",
    "| Performance    | int64     | Performance score                                |\n",
    "| Ease_of_Use    | int64     | Ease of use score                                |\n",
    "| Maintenance    | int64     | Maintenance score                                |\n",
    "\n",
    "\n",
    "```"
   ]
  },
  {
   "cell_type": "code",
   "execution_count": 4,
   "metadata": {},
   "outputs": [],
   "source": [
    "### Adding Data Labels to Performance, Ease_of_Use, and Maintenance Columns\n",
    "\n",
    "# Copilot Prompt: \"Add data labels to the Performance, Ease_of_Use, and Maintenance columns in the DataFrame Sat_Data. \n",
    "\n",
    "#The labels should be descriptive and correspond to the numerical values in the columns.\n",
    "\n",
    "# Define the mapping for the labels\n",
    "labels = {\n",
    "    1: '1-Strongly Disagree',\n",
    "    2: '2-Disagree',\n",
    "    3: '3-Somewhat Disagree',\n",
    "    4: '4-Neither Agree nor Disagree',\n",
    "    5: '5-Somewhat Agree',\n",
    "    6: '6-Agree',\n",
    "    7: '7-Strongly Agree'\n",
    "}\n",
    "\n",
    "# Apply the mapping to the specified columns\n",
    "Sat_Data[['Performance', 'Ease_of_Use', 'Maintenance']] = Sat_Data[['Performance', 'Ease_of_Use', 'Maintenance']].replace(labels)\n",
    "\n",
    "Sat_Data_Labels = Sat_Data.copy() # Assign the modified DataFrame to a new variable to save for later use\n",
    "\n"
   ]
  },
  {
   "cell_type": "markdown",
   "metadata": {},
   "source": [
    "<div style=\"background-color: #1f77b4; color: #FFFFE0; padding: 20px; border-radius: 5px; margin-top: 20px; border: 1px solid #b8daff;\">\n",
    "<p>Create a Frequency Table for all the variables<p>\n",
    "<p>and a Summary Tables of Mean, Median, and Sd for Performance', 'Ease_of_Use', 'Maintenance\"<p>\n",
    "</div>\n"
   ]
  },
  {
   "cell_type": "code",
   "execution_count": null,
   "metadata": {},
   "outputs": [],
   "source": [
    "# Create a frequency table for each of the variables in the Sat_Data DataFrame\n",
    "\n",
    "# Frequency table for Testing_Wave\n",
    "testing_wave_freq = Sat_Data['Testing_Wave'].value_counts().sort_index()\n",
    "\n",
    "# Frequency table for Performance\n",
    "performance_freq = Sat_Data['Performance'].value_counts().sort_index()\n",
    "\n",
    "# Frequency table for Ease_of_Use\n",
    "ease_of_use_freq = Sat_Data['Ease_of_Use'].value_counts().sort_index()\n",
    "\n",
    "# Frequency table for Maintenance\n",
    "maintenance_freq = Sat_Data['Maintenance'].value_counts().sort_index()\n",
    "\n",
    "# Display the frequency tables\n",
    "print(\"Frequency Table for Testing_Wave:\")\n",
    "print(testing_wave_freq)\n",
    "print(\"\\nFrequency Table for Performance:\")\n",
    "print(performance_freq)\n",
    "print(\"\\nFrequency Table for Ease_of_Use:\")\n",
    "print(ease_of_use_freq)\n",
    "print(\"\\nFrequency Table for Maintenance:\")\n",
    "print(maintenance_freq)\n"
   ]
  },
  {
   "cell_type": "code",
   "execution_count": null,
   "metadata": {},
   "outputs": [],
   "source": [
    "### create histogram with normal distribution curve for each variable in the Sat_Data DataFrame\n",
    "\n",
    "# Copilot Prompt: \"Create a histogram for each variable in the Sat_Data DataFrame.\"\n",
    "\n"
   ]
  },
  {
   "cell_type": "code",
   "execution_count": null,
   "metadata": {},
   "outputs": [],
   "source": [
    "#Copilot Prompt: Create a frequency table for each of the variables in the Sat_Data DataFrame\n"
   ]
  },
  {
   "cell_type": "markdown",
   "metadata": {},
   "source": [
    "<div style=\"background-color: #1f77b4; color: #FFFFE0; padding: 20px; border-radius: 5px; margin-top: 20px; border: 1px solid #b8daff;\">\n",
    "<p>Explanation of Code<p>\n",
    "</div>"
   ]
  },
  {
   "cell_type": "markdown",
   "metadata": {},
   "source": [
    "The provided code snippet is designed to generate and display frequency tables for four different columns in a dataset named [`Sat_Data`](command:_github.copilot.openSymbolFromReferences?%5B%22%22%2C%5B%7B%22uri%22%3A%7B%22scheme%22%3A%22vscode-notebook-cell%22%2C%22authority%22%3A%22github%22%2C%22path%22%3A%22%2Frgregs60%2FPython-Fall-2024-Notebooks%2FIn%20Class%20Demos%2FPython%20Demo%20%238b%20Example%20-%20Python%20Homework%202.ipynb%22%2C%22query%22%3A%22%22%2C%22fragment%22%3A%22X36sdnNjb2RlLXZmcw%3D%3D%22%7D%2C%22pos%22%3A%7B%22line%22%3A4%2C%22character%22%3A20%7D%7D%5D%2C%223aad5931-dec3-4304-8f13-1e5de98b499e%22%5D \"Go to definition\"). These columns are [`Testing_Wave`](command:_github.copilot.openSymbolFromReferences?%5B%22%22%2C%5B%7B%22uri%22%3A%7B%22scheme%22%3A%22vscode-notebook-cell%22%2C%22authority%22%3A%22github%22%2C%22path%22%3A%22%2Frgregs60%2FPython-Fall-2024-Notebooks%2FIn%20Class%20Demos%2FPython%20Demo%20%238b%20Example%20-%20Python%20Homework%202.ipynb%22%2C%22query%22%3A%22%22%2C%22fragment%22%3A%22X36sdnNjb2RlLXZmcw%3D%3D%22%7D%2C%22pos%22%3A%7B%22line%22%3A3%2C%22character%22%3A22%7D%7D%5D%2C%223aad5931-dec3-4304-8f13-1e5de98b499e%22%5D \"Go to definition\"), [`Performance`](command:_github.copilot.openSymbolFromReferences?%5B%22%22%2C%5B%7B%22uri%22%3A%7B%22scheme%22%3A%22vscode-notebook-cell%22%2C%22authority%22%3A%22github%22%2C%22path%22%3A%22%2Frgregs60%2FPython-Fall-2024-Notebooks%2FIn%20Class%20Demos%2FPython%20Demo%20%238b%20Example%20-%20Python%20Homework%202.ipynb%22%2C%22query%22%3A%22%22%2C%22fragment%22%3A%22X36sdnNjb2RlLXZmcw%3D%3D%22%7D%2C%22pos%22%3A%7B%22line%22%3A6%2C%22character%22%3A22%7D%7D%5D%2C%223aad5931-dec3-4304-8f13-1e5de98b499e%22%5D \"Go to definition\"), [`Ease_of_Use`](command:_github.copilot.openSymbolFromReferences?%5B%22%22%2C%5B%7B%22uri%22%3A%7B%22scheme%22%3A%22vscode-notebook-cell%22%2C%22authority%22%3A%22github%22%2C%22path%22%3A%22%2Frgregs60%2FPython-Fall-2024-Notebooks%2FIn%20Class%20Demos%2FPython%20Demo%20%238b%20Example%20-%20Python%20Homework%202.ipynb%22%2C%22query%22%3A%22%22%2C%22fragment%22%3A%22X36sdnNjb2RlLXZmcw%3D%3D%22%7D%2C%22pos%22%3A%7B%22line%22%3A9%2C%22character%22%3A22%7D%7D%5D%2C%223aad5931-dec3-4304-8f13-1e5de98b499e%22%5D \"Go to definition\"), and [`Maintenance`](command:_github.copilot.openSymbolFromReferences?%5B%22%22%2C%5B%7B%22uri%22%3A%7B%22scheme%22%3A%22vscode-notebook-cell%22%2C%22authority%22%3A%22github%22%2C%22path%22%3A%22%2Frgregs60%2FPython-Fall-2024-Notebooks%2FIn%20Class%20Demos%2FPython%20Demo%20%238b%20Example%20-%20Python%20Homework%202.ipynb%22%2C%22query%22%3A%22%22%2C%22fragment%22%3A%22X36sdnNjb2RlLXZmcw%3D%3D%22%7D%2C%22pos%22%3A%7B%22line%22%3A12%2C%22character%22%3A22%7D%7D%5D%2C%223aad5931-dec3-4304-8f13-1e5de98b499e%22%5D \"Go to definition\"). Each frequency table counts the occurrences of each unique value in the respective column and sorts these counts by the index values.\n",
    "\n",
    "First, the code creates a frequency table for the [`Testing_Wave`](command:_github.copilot.openSymbolFromReferences?%5B%22%22%2C%5B%7B%22uri%22%3A%7B%22scheme%22%3A%22vscode-notebook-cell%22%2C%22authority%22%3A%22github%22%2C%22path%22%3A%22%2Frgregs60%2FPython-Fall-2024-Notebooks%2FIn%20Class%20Demos%2FPython%20Demo%20%238b%20Example%20-%20Python%20Homework%202.ipynb%22%2C%22query%22%3A%22%22%2C%22fragment%22%3A%22X36sdnNjb2RlLXZmcw%3D%3D%22%7D%2C%22pos%22%3A%7B%22line%22%3A3%2C%22character%22%3A22%7D%7D%5D%2C%223aad5931-dec3-4304-8f13-1e5de98b499e%22%5D \"Go to definition\") column by using the [`value_counts()`](command:_github.copilot.openSymbolFromReferences?%5B%22%22%2C%5B%7B%22uri%22%3A%7B%22scheme%22%3A%22vscode-notebook-cell%22%2C%22authority%22%3A%22github%22%2C%22path%22%3A%22%2Frgregs60%2FPython-Fall-2024-Notebooks%2FIn%20Class%20Demos%2FPython%20Demo%20%238b%20Example%20-%20Python%20Homework%202.ipynb%22%2C%22query%22%3A%22%22%2C%22fragment%22%3A%22X36sdnNjb2RlLXZmcw%3D%3D%22%7D%2C%22pos%22%3A%7B%22line%22%3A4%2C%22character%22%3A45%7D%7D%5D%2C%223aad5931-dec3-4304-8f13-1e5de98b499e%22%5D \"Go to definition\") method, which counts the occurrences of each unique value. The [`sort_index()`](command:_github.copilot.openSymbolFromReferences?%5B%22%22%2C%5B%7B%22uri%22%3A%7B%22scheme%22%3A%22vscode-notebook-cell%22%2C%22authority%22%3A%22github%22%2C%22path%22%3A%22%2Frgregs60%2FPython-Fall-2024-Notebooks%2FIn%20Class%20Demos%2FPython%20Demo%20%238b%20Example%20-%20Python%20Homework%202.ipynb%22%2C%22query%22%3A%22%22%2C%22fragment%22%3A%22X36sdnNjb2RlLXZmcw%3D%3D%22%7D%2C%22pos%22%3A%7B%22line%22%3A4%2C%22character%22%3A60%7D%7D%5D%2C%223aad5931-dec3-4304-8f13-1e5de98b499e%22%5D \"Go to definition\") method is then applied to sort these counts by the index values. This process is repeated for the [`Performance`](command:_github.copilot.openSymbolFromReferences?%5B%22%22%2C%5B%7B%22uri%22%3A%7B%22scheme%22%3A%22vscode-notebook-cell%22%2C%22authority%22%3A%22github%22%2C%22path%22%3A%22%2Frgregs60%2FPython-Fall-2024-Notebooks%2FIn%20Class%20Demos%2FPython%20Demo%20%238b%20Example%20-%20Python%20Homework%202.ipynb%22%2C%22query%22%3A%22%22%2C%22fragment%22%3A%22X36sdnNjb2RlLXZmcw%3D%3D%22%7D%2C%22pos%22%3A%7B%22line%22%3A6%2C%22character%22%3A22%7D%7D%5D%2C%223aad5931-dec3-4304-8f13-1e5de98b499e%22%5D \"Go to definition\"), [`Ease_of_Use`](command:_github.copilot.openSymbolFromReferences?%5B%22%22%2C%5B%7B%22uri%22%3A%7B%22scheme%22%3A%22vscode-notebook-cell%22%2C%22authority%22%3A%22github%22%2C%22path%22%3A%22%2Frgregs60%2FPython-Fall-2024-Notebooks%2FIn%20Class%20Demos%2FPython%20Demo%20%238b%20Example%20-%20Python%20Homework%202.ipynb%22%2C%22query%22%3A%22%22%2C%22fragment%22%3A%22X36sdnNjb2RlLXZmcw%3D%3D%22%7D%2C%22pos%22%3A%7B%22line%22%3A9%2C%22character%22%3A22%7D%7D%5D%2C%223aad5931-dec3-4304-8f13-1e5de98b499e%22%5D \"Go to definition\"), and [`Maintenance`](command:_github.copilot.openSymbolFromReferences?%5B%22%22%2C%5B%7B%22uri%22%3A%7B%22scheme%22%3A%22vscode-notebook-cell%22%2C%22authority%22%3A%22github%22%2C%22path%22%3A%22%2Frgregs60%2FPython-Fall-2024-Notebooks%2FIn%20Class%20Demos%2FPython%20Demo%20%238b%20Example%20-%20Python%20Homework%202.ipynb%22%2C%22query%22%3A%22%22%2C%22fragment%22%3A%22X36sdnNjb2RlLXZmcw%3D%3D%22%7D%2C%22pos%22%3A%7B%22line%22%3A12%2C%22character%22%3A22%7D%7D%5D%2C%223aad5931-dec3-4304-8f13-1e5de98b499e%22%5D \"Go to definition\") columns, resulting in four separate frequency tables.\n",
    "\n",
    "After generating the frequency tables, the code proceeds to print each table to the console. It starts by printing a header \"Frequency Table for Testing_Wave:\" followed by the actual frequency table for the [`Testing_Wave`](command:_github.copilot.openSymbolFromReferences?%5B%22%22%2C%5B%7B%22uri%22%3A%7B%22scheme%22%3A%22vscode-notebook-cell%22%2C%22authority%22%3A%22github%22%2C%22path%22%3A%22%2Frgregs60%2FPython-Fall-2024-Notebooks%2FIn%20Class%20Demos%2FPython%20Demo%20%238b%20Example%20-%20Python%20Homework%202.ipynb%22%2C%22query%22%3A%22%22%2C%22fragment%22%3A%22X36sdnNjb2RlLXZmcw%3D%3D%22%7D%2C%22pos%22%3A%7B%22line%22%3A3%2C%22character%22%3A22%7D%7D%5D%2C%223aad5931-dec3-4304-8f13-1e5de98b499e%22%5D \"Go to definition\") column. This pattern is repeated for the [`Performance`](command:_github.copilot.openSymbolFromReferences?%5B%22%22%2C%5B%7B%22uri%22%3A%7B%22scheme%22%3A%22vscode-notebook-cell%22%2C%22authority%22%3A%22github%22%2C%22path%22%3A%22%2Frgregs60%2FPython-Fall-2024-Notebooks%2FIn%20Class%20Demos%2FPython%20Demo%20%238b%20Example%20-%20Python%20Homework%202.ipynb%22%2C%22query%22%3A%22%22%2C%22fragment%22%3A%22X36sdnNjb2RlLXZmcw%3D%3D%22%7D%2C%22pos%22%3A%7B%22line%22%3A6%2C%22character%22%3A22%7D%7D%5D%2C%223aad5931-dec3-4304-8f13-1e5de98b499e%22%5D \"Go to definition\"), [`Ease_of_Use`](command:_github.copilot.openSymbolFromReferences?%5B%22%22%2C%5B%7B%22uri%22%3A%7B%22scheme%22%3A%22vscode-notebook-cell%22%2C%22authority%22%3A%22github%22%2C%22path%22%3A%22%2Frgregs60%2FPython-Fall-2024-Notebooks%2FIn%20Class%20Demos%2FPython%20Demo%20%238b%20Example%20-%20Python%20Homework%202.ipynb%22%2C%22query%22%3A%22%22%2C%22fragment%22%3A%22X36sdnNjb2RlLXZmcw%3D%3D%22%7D%2C%22pos%22%3A%7B%22line%22%3A9%2C%22character%22%3A22%7D%7D%5D%2C%223aad5931-dec3-4304-8f13-1e5de98b499e%22%5D \"Go to definition\"), and [`Maintenance`](command:_github.copilot.openSymbolFromReferences?%5B%22%22%2C%5B%7B%22uri%22%3A%7B%22scheme%22%3A%22vscode-notebook-cell%22%2C%22authority%22%3A%22github%22%2C%22path%22%3A%22%2Frgregs60%2FPython-Fall-2024-Notebooks%2FIn%20Class%20Demos%2FPython%20Demo%20%238b%20Example%20-%20Python%20Homework%202.ipynb%22%2C%22query%22%3A%22%22%2C%22fragment%22%3A%22X36sdnNjb2RlLXZmcw%3D%3D%22%7D%2C%22pos%22%3A%7B%22line%22%3A12%2C%22character%22%3A22%7D%7D%5D%2C%223aad5931-dec3-4304-8f13-1e5de98b499e%22%5D \"Go to definition\") columns, each with its respective header and frequency table.\n",
    "\n",
    "This approach provides a clear and organized way to understand the distribution of values within each specified column of the [`Sat_Data`](command:_github.copilot.openSymbolFromReferences?%5B%22%22%2C%5B%7B%22uri%22%3A%7B%22scheme%22%3A%22vscode-notebook-cell%22%2C%22authority%22%3A%22github%22%2C%22path%22%3A%22%2Frgregs60%2FPython-Fall-2024-Notebooks%2FIn%20Class%20Demos%2FPython%20Demo%20%238b%20Example%20-%20Python%20Homework%202.ipynb%22%2C%22query%22%3A%22%22%2C%22fragment%22%3A%22X36sdnNjb2RlLXZmcw%3D%3D%22%7D%2C%22pos%22%3A%7B%22line%22%3A4%2C%22character%22%3A20%7D%7D%5D%2C%223aad5931-dec3-4304-8f13-1e5de98b499e%22%5D \"Go to definition\") dataset, which can be useful for data analysis and reporting purposes."
   ]
  },
  {
   "cell_type": "markdown",
   "metadata": {},
   "source": [
    "<div style=\"background-color: #1f77b4; color: #FFFFE0; padding: 20px; border-radius: 5px; margin-top: 20px; border: 1px solid #b8daff;\">\n",
    "<p>Create Summary Statisics<p>\n",
    "</div>"
   ]
  },
  {
   "cell_type": "code",
   "execution_count": null,
   "metadata": {},
   "outputs": [],
   "source": [
    "## Copilot Prompt: \"Calculate the mean, median, and standard deviation for the 'Performance', 'Ease_of_Use', and 'Maintenance' columns in the DataFrame Sat_Data.\"\n"
   ]
  },
  {
   "cell_type": "markdown",
   "metadata": {},
   "source": [
    "<div style=\"background-color: #1f77b4; color: #FFFFE0; padding: 20px; border-radius: 5px; margin-top: 20px; border: 1px solid #b8daff;\">\n",
    "<p>Explanation of Code<p>\n",
    "</div>"
   ]
  },
  {
   "cell_type": "markdown",
   "metadata": {},
   "source": [
    "The provided code snippet performs statistical analysis on a dataset named [`Sat_Data`](command:_github.copilot.openSymbolFromReferences?%5B%22%22%2C%5B%7B%22uri%22%3A%7B%22scheme%22%3A%22vscode-notebook-cell%22%2C%22authority%22%3A%22github%22%2C%22path%22%3A%22%2Frgregs60%2FPython-Fall-2024-Notebooks%2FIn%20Class%20Demos%2FPython%20Demo%20%238b%20Example%20-%20Python%20Homework%202.ipynb%22%2C%22query%22%3A%22%22%2C%22fragment%22%3A%22X14sdnNjb2RlLXZmcw%3D%3D%22%7D%2C%22pos%22%3A%7B%22line%22%3A4%2C%22character%22%3A19%7D%7D%5D%2C%22d5d16eb2-90d1-4c78-8127-56e4949d2ce3%22%5D \"Go to definition\"), which appears to contain columns related to 'Performance', 'Ease_of_Use', and 'Maintenance'. The code calculates three key statistical measures for each of these columns: the mean, median, and standard deviation.\n",
    "\n",
    "First, the mean (average) values for 'Performance', 'Ease_of_Use', and 'Maintenance' are calculated using the `.mean()` method. This method computes the average value of each column, providing a central tendency measure for the data.\n",
    "\n",
    "Next, the median values for the same columns are calculated using the `.median()` method. The median is the middle value when the data is sorted in ascending order, offering another measure of central tendency that is less affected by outliers compared to the mean.\n",
    "\n",
    "Following this, the standard deviation for each column is calculated using the `.std()` method. The standard deviation measures the amount of variation or dispersion in the data, indicating how spread out the values are around the mean.\n",
    "\n",
    "Finally, the code creates a summary table using `pandas.DataFrame`. This table consolidates the calculated mean, median, and standard deviation for 'Performance', 'Ease_of_Use', and 'Maintenance' into a single DataFrame. The DataFrame is then printed, providing a clear and organized summary of the statistical measures for easy interpretation."
   ]
  },
  {
   "cell_type": "markdown",
   "metadata": {},
   "source": [
    "<div style=\"background-color: #1f77b4; color: #FFFFE0; padding: 20px; border-radius: 5px; margin-top: 20px; border: 1px solid #b8daff;\">\n",
    "<p>Examine carefully these summary results for any implications they may have on your analysis<p>\n",
    "</div>"
   ]
  },
  {
   "cell_type": "markdown",
   "metadata": {},
   "source": [
    "<div style=\"background-color: #1f77b4; color: #FFFFE0; padding: 20px; border-radius: 5px; margin-top: 20px; border: 1px solid #b8daff;\">\n",
    "<p>Recode Agree (5/6/7) Percentage<p>\n",
    "</div>"
   ]
  },
  {
   "cell_type": "code",
   "execution_count": null,
   "metadata": {},
   "outputs": [],
   "source": [
    "### Reset Enivronment and Import Libraries - Agree Top 3 Boxes\n",
    "\n",
    "Sat_Line_Plot = Sat_Data_Clean.copy() # Restore the original data for \n",
    "\n",
    "import matplotlib.pyplot as plt\n",
    "\n",
    "### Copilot Prompt: Label Testing_Wave as 'Wave 1', 'Wave 2', 'Wave 3'\n",
    "\n",
    "### Copilot Prompt: \"Recode 'Performance', 'Ease_of_Use', and 'Maintenance' columns in the DataFrame Sat_Data to 1 thru 4 = 0 and 5 thru 7 = 100 \n",
    "\n",
    "### Copilot Prompt: Add Variable Names to 'Performance', 'Ease_of_Use', 'Maintenance' appending Agree Top 3 Box %\n",
    "\n",
    "### Copilot Prompt: \"Create a line plot to show the changes in the percentage of respondents who agree with the statements over the three testing waves, include a legend, title, and axis labels\"\n",
    "\n",
    "\n"
   ]
  },
  {
   "cell_type": "markdown",
   "metadata": {},
   "source": [
    "<div style=\"background-color: #1f77b4; color: #FFFFE0; padding: 20px; border-radius: 5px; margin-top: 20px; border: 1px solid #b8daff;\">\n",
    "<p>Explanation of Code<p>\n",
    "</div>"
   ]
  },
  {
   "cell_type": "markdown",
   "metadata": {},
   "source": [
    "The provided code snippet performs several data preprocessing steps and creates a line plot to visualize the changes in the percentage of respondents who agree with certain statements over three testing waves. Here's a detailed explanation of each part of the code:\n",
    "\n",
    "First, the environment is reset, and necessary libraries are imported. The [`Sat_Data_Clean`](command:_github.copilot.openSymbolFromReferences?%5B%22%22%2C%5B%7B%22uri%22%3A%7B%22scheme%22%3A%22vscode-notebook-cell%22%2C%22authority%22%3A%22github%22%2C%22path%22%3A%22%2Frgregs60%2FPython-Fall-2024-Notebooks%2FIn%20Class%20Demos%2FPython%20Demo%20%238b%20Example%20-%20Python%20Homework%202.ipynb%22%2C%22query%22%3A%22%22%2C%22fragment%22%3A%22X60sdnNjb2RlLXZmcw%3D%3D%22%7D%2C%22pos%22%3A%7B%22line%22%3A2%2C%22character%22%3A16%7D%7D%5D%2C%22252dff2d-8fab-4d5d-b14b-4deda44ede5c%22%5D \"Go to definition\") DataFrame is copied to [`Sat_Line_Plot`](command:_github.copilot.openSymbolFromReferences?%5B%22%22%2C%5B%7B%22uri%22%3A%7B%22scheme%22%3A%22vscode-notebook-cell%22%2C%22authority%22%3A%22github%22%2C%22path%22%3A%22%2Frgregs60%2FPython-Fall-2024-Notebooks%2FIn%20Class%20Demos%2FPython%20Demo%20%238b%20Example%20-%20Python%20Homework%202.ipynb%22%2C%22query%22%3A%22%22%2C%22fragment%22%3A%22X60sdnNjb2RlLXZmcw%3D%3D%22%7D%2C%22pos%22%3A%7B%22line%22%3A2%2C%22character%22%3A0%7D%7D%5D%2C%22252dff2d-8fab-4d5d-b14b-4deda44ede5c%22%5D \"Go to definition\") to ensure the original data remains unchanged. The libraries imported include [`pandas`](command:_github.copilot.openSymbolFromReferences?%5B%22%22%2C%5B%7B%22uri%22%3A%7B%22scheme%22%3A%22vscode-notebook-cell%22%2C%22authority%22%3A%22github%22%2C%22path%22%3A%22%2Frgregs60%2FPython-Fall-2024-Notebooks%2FIn%20Class%20Demos%2FPython%20Demo%20%238b%20Example%20-%20Python%20Homework%202.ipynb%22%2C%22query%22%3A%22%22%2C%22fragment%22%3A%22X60sdnNjb2RlLXZmcw%3D%3D%22%7D%2C%22pos%22%3A%7B%22line%22%3A4%2C%22character%22%3A7%7D%7D%5D%2C%22252dff2d-8fab-4d5d-b14b-4deda44ede5c%22%5D \"Go to definition\") for data manipulation, [`numpy`](command:_github.copilot.openSymbolFromReferences?%5B%22%22%2C%5B%7B%22uri%22%3A%7B%22scheme%22%3A%22vscode-notebook-cell%22%2C%22authority%22%3A%22github%22%2C%22path%22%3A%22%2Frgregs60%2FPython-Fall-2024-Notebooks%2FIn%20Class%20Demos%2FPython%20Demo%20%238b%20Example%20-%20Python%20Homework%202.ipynb%22%2C%22query%22%3A%22%22%2C%22fragment%22%3A%22X60sdnNjb2RlLXZmcw%3D%3D%22%7D%2C%22pos%22%3A%7B%22line%22%3A5%2C%22character%22%3A7%7D%7D%5D%2C%22252dff2d-8fab-4d5d-b14b-4deda44ede5c%22%5D \"Go to definition\") for numerical operations, and [`matplotlib.pyplot`](command:_github.copilot.openSymbolFromReferences?%5B%22%22%2C%5B%7B%22uri%22%3A%7B%22scheme%22%3A%22vscode-notebook-cell%22%2C%22authority%22%3A%22github%22%2C%22path%22%3A%22%2Frgregs60%2FPython-Fall-2024-Notebooks%2FIn%20Class%20Demos%2FPython%20Demo%20%238b%20Example%20-%20Python%20Homework%202.ipynb%22%2C%22query%22%3A%22%22%2C%22fragment%22%3A%22X60sdnNjb2RlLXZmcw%3D%3D%22%7D%2C%22pos%22%3A%7B%22line%22%3A6%2C%22character%22%3A7%7D%7D%5D%2C%22252dff2d-8fab-4d5d-b14b-4deda44ede5c%22%5D \"Go to definition\") for plotting. However, it appears that [`pandas`](command:_github.copilot.openSymbolFromReferences?%5B%22%22%2C%5B%7B%22uri%22%3A%7B%22scheme%22%3A%22vscode-notebook-cell%22%2C%22authority%22%3A%22github%22%2C%22path%22%3A%22%2Frgregs60%2FPython-Fall-2024-Notebooks%2FIn%20Class%20Demos%2FPython%20Demo%20%238b%20Example%20-%20Python%20Homework%202.ipynb%22%2C%22query%22%3A%22%22%2C%22fragment%22%3A%22X60sdnNjb2RlLXZmcw%3D%3D%22%7D%2C%22pos%22%3A%7B%22line%22%3A4%2C%22character%22%3A7%7D%7D%5D%2C%22252dff2d-8fab-4d5d-b14b-4deda44ede5c%22%5D \"Go to definition\") and [`numpy`](command:_github.copilot.openSymbolFromReferences?%5B%22%22%2C%5B%7B%22uri%22%3A%7B%22scheme%22%3A%22vscode-notebook-cell%22%2C%22authority%22%3A%22github%22%2C%22path%22%3A%22%2Frgregs60%2FPython-Fall-2024-Notebooks%2FIn%20Class%20Demos%2FPython%20Demo%20%238b%20Example%20-%20Python%20Homework%202.ipynb%22%2C%22query%22%3A%22%22%2C%22fragment%22%3A%22X60sdnNjb2RlLXZmcw%3D%3D%22%7D%2C%22pos%22%3A%7B%22line%22%3A5%2C%22character%22%3A7%7D%7D%5D%2C%22252dff2d-8fab-4d5d-b14b-4deda44ede5c%22%5D \"Go to definition\") are imported but not used in the code, which is unnecessary and can be removed to clean up the code.\n",
    "\n",
    "Next, the 'Testing_Wave' column in [`Sat_Line_Plot`](command:_github.copilot.openSymbolFromReferences?%5B%22%22%2C%5B%7B%22uri%22%3A%7B%22scheme%22%3A%22vscode-notebook-cell%22%2C%22authority%22%3A%22github%22%2C%22path%22%3A%22%2Frgregs60%2FPython-Fall-2024-Notebooks%2FIn%20Class%20Demos%2FPython%20Demo%20%238b%20Example%20-%20Python%20Homework%202.ipynb%22%2C%22query%22%3A%22%22%2C%22fragment%22%3A%22X60sdnNjb2RlLXZmcw%3D%3D%22%7D%2C%22pos%22%3A%7B%22line%22%3A2%2C%22character%22%3A0%7D%7D%5D%2C%22252dff2d-8fab-4d5d-b14b-4deda44ede5c%22%5D \"Go to definition\") is mapped to more readable labels: 'Wave 1', 'Wave 2', and 'Wave 3'. This is done using the [`replace`](command:_github.copilot.openSymbolFromReferences?%5B%22%22%2C%5B%7B%22uri%22%3A%7B%22scheme%22%3A%22file%22%2C%22authority%22%3A%22%22%2C%22path%22%3A%22%2Fopt%2Fminiconda3%2Flib%2Fpython3.12%2Fsite-packages%2Fpandas%2Fcore%2Fgeneric.py%22%2C%22query%22%3A%22%22%2C%22fragment%22%3A%22%22%7D%2C%22pos%22%3A%7B%22line%22%3A7846%2C%22character%22%3A8%7D%7D%2C%7B%22uri%22%3A%7B%22scheme%22%3A%22file%22%2C%22authority%22%3A%22%22%2C%22path%22%3A%22%2Fopt%2Fminiconda3%2Flib%2Fpython3.12%2Fsite-packages%2Fpandas%2Fcore%2Fgeneric.py%22%2C%22query%22%3A%22%22%2C%22fragment%22%3A%22%22%7D%2C%22pos%22%3A%7B%22line%22%3A7859%2C%22character%22%3A8%7D%7D%2C%7B%22uri%22%3A%7B%22scheme%22%3A%22file%22%2C%22authority%22%3A%22%22%2C%22path%22%3A%22%2Fopt%2Fminiconda3%2Flib%2Fpython3.12%2Fsite-packages%2Fpandas%2Fcore%2Fgeneric.py%22%2C%22query%22%3A%22%22%2C%22fragment%22%3A%22%22%7D%2C%22pos%22%3A%7B%22line%22%3A7872%2C%22character%22%3A8%7D%7D%2C%7B%22uri%22%3A%7B%22scheme%22%3A%22file%22%2C%22authority%22%3A%22%22%2C%22path%22%3A%22%2Fopt%2Fminiconda3%2Flib%2Fpython3.12%2Fsite-packages%2Fpandas%2Fcore%2Fgeneric.py%22%2C%22query%22%3A%22%22%2C%22fragment%22%3A%22%22%7D%2C%22pos%22%3A%7B%22line%22%3A7890%2C%22character%22%3A8%7D%7D%2C%7B%22uri%22%3A%7B%22scheme%22%3A%22vscode-notebook-cell%22%2C%22authority%22%3A%22github%22%2C%22path%22%3A%22%2Frgregs60%2FPython-Fall-2024-Notebooks%2FIn%20Class%20Demos%2FPython%20Demo%20%238b%20Example%20-%20Python%20Homework%202.ipynb%22%2C%22query%22%3A%22%22%2C%22fragment%22%3A%22X60sdnNjb2RlLXZmcw%3D%3D%22%7D%2C%22pos%22%3A%7B%22line%22%3A11%2C%22character%22%3A62%7D%7D%5D%2C%22252dff2d-8fab-4d5d-b14b-4deda44ede5c%22%5D \"Go to definition\") method, which replaces the numeric values with the corresponding string labels.\n",
    "\n",
    "Following this, the 'Performance', 'Ease_of_Use', and 'Maintenance' columns are recoded. Values from 1 to 4 are set to 0, and values from 5 to 7 are set to 100. This recoding is done using the [`replace`](command:_github.copilot.openSymbolFromReferences?%5B%22%22%2C%5B%7B%22uri%22%3A%7B%22scheme%22%3A%22file%22%2C%22authority%22%3A%22%22%2C%22path%22%3A%22%2Fopt%2Fminiconda3%2Flib%2Fpython3.12%2Fsite-packages%2Fpandas%2Fcore%2Fgeneric.py%22%2C%22query%22%3A%22%22%2C%22fragment%22%3A%22%22%7D%2C%22pos%22%3A%7B%22line%22%3A7846%2C%22character%22%3A8%7D%7D%2C%7B%22uri%22%3A%7B%22scheme%22%3A%22file%22%2C%22authority%22%3A%22%22%2C%22path%22%3A%22%2Fopt%2Fminiconda3%2Flib%2Fpython3.12%2Fsite-packages%2Fpandas%2Fcore%2Fgeneric.py%22%2C%22query%22%3A%22%22%2C%22fragment%22%3A%22%22%7D%2C%22pos%22%3A%7B%22line%22%3A7859%2C%22character%22%3A8%7D%7D%2C%7B%22uri%22%3A%7B%22scheme%22%3A%22file%22%2C%22authority%22%3A%22%22%2C%22path%22%3A%22%2Fopt%2Fminiconda3%2Flib%2Fpython3.12%2Fsite-packages%2Fpandas%2Fcore%2Fgeneric.py%22%2C%22query%22%3A%22%22%2C%22fragment%22%3A%22%22%7D%2C%22pos%22%3A%7B%22line%22%3A7872%2C%22character%22%3A8%7D%7D%2C%7B%22uri%22%3A%7B%22scheme%22%3A%22file%22%2C%22authority%22%3A%22%22%2C%22path%22%3A%22%2Fopt%2Fminiconda3%2Flib%2Fpython3.12%2Fsite-packages%2Fpandas%2Fcore%2Fgeneric.py%22%2C%22query%22%3A%22%22%2C%22fragment%22%3A%22%22%7D%2C%22pos%22%3A%7B%22line%22%3A7890%2C%22character%22%3A8%7D%7D%2C%7B%22uri%22%3A%7B%22scheme%22%3A%22vscode-notebook-cell%22%2C%22authority%22%3A%22github%22%2C%22path%22%3A%22%2Frgregs60%2FPython-Fall-2024-Notebooks%2FIn%20Class%20Demos%2FPython%20Demo%20%238b%20Example%20-%20Python%20Homework%202.ipynb%22%2C%22query%22%3A%22%22%2C%22fragment%22%3A%22X60sdnNjb2RlLXZmcw%3D%3D%22%7D%2C%22pos%22%3A%7B%22line%22%3A11%2C%22character%22%3A62%7D%7D%5D%2C%22252dff2d-8fab-4d5d-b14b-4deda44ede5c%22%5D \"Go to definition\") method with a dictionary that maps the original values to the new values.\n",
    "\n",
    "The column names are then updated to reflect the recoding. 'Performance' is renamed to 'Performance Agree Top 3 Box %', 'Ease_of_Use' to 'Ease_of_Use Agree Top 3 Box %', and 'Maintenance' to 'Maintenance Agree Top 3 Box %'. This renaming clarifies that the columns now represent the percentage of respondents who agree with the statements.\n",
    "\n",
    "To visualize the data, the mean values for each testing wave are calculated by grouping the data by 'Testing_Wave' and computing the mean for each group. This results in a summary of the average agreement percentages for each wave.\n",
    "\n",
    "Finally, a line plot is created to show the changes in agreement percentages over the three testing waves. The x-axis represents the testing waves, while the y-axis shows the mean percentage of agreement. Three lines are plotted, one for each of the recoded columns. The plot includes markers, a legend, axis labels, a title, and a grid for better readability. The [`plt.show()`](command:_github.copilot.openSymbolFromReferences?%5B%22%22%2C%5B%7B%22uri%22%3A%7B%22scheme%22%3A%22vscode-notebook-cell%22%2C%22authority%22%3A%22github%22%2C%22path%22%3A%22%2Frgregs60%2FPython-Fall-2024-Notebooks%2FIn%20Class%20Demos%2FPython%20Demo%20%238b%20Example%20-%20Python%20Homework%202.ipynb%22%2C%22query%22%3A%22%22%2C%22fragment%22%3A%22X60sdnNjb2RlLXZmcw%3D%3D%22%7D%2C%22pos%22%3A%7B%22line%22%3A6%2C%22character%22%3A28%7D%7D%5D%2C%22252dff2d-8fab-4d5d-b14b-4deda44ede5c%22%5D \"Go to definition\") function is called to display the plot."
   ]
  },
  {
   "cell_type": "markdown",
   "metadata": {},
   "source": [
    "<div style=\"background-color: #1f77b4; color: #FFFFE0; padding: 20px; border-radius: 5px; margin-top: 20px; border: 1px solid #b8daff;\">\n",
    "<p>Recode Agree (6/7) Percentage<p>\n",
    "</div>"
   ]
  },
  {
   "cell_type": "code",
   "execution_count": null,
   "metadata": {},
   "outputs": [],
   "source": [
    "### Reset Enivronment and Import Libraries - Agree Top 2 Boxes\n",
    "\n",
    "Sat_Line_Plot = Sat_Data_Clean.copy() # Restore the original data for \n",
    "\n",
    "import matplotlib.pyplot as plt\n",
    "\n",
    "### Copilot Prompt: Label Testing_Wave as 'Wave 1', 'Wave 2', 'Wave 3'\n",
    "\n",
    "### Copilot Prompt: \"Recode 'Performance', 'Ease_of_Use', and 'Maintenance' columns in the DataFrame Sat_Data to 1 thru 5 = 0 and 6 thru 7 = 100 \n",
    "\n",
    "### Copilot Prompt: Add Variable Names to 'Performance', 'Ease_of_Use', 'Maintenance' appending Agree Top 2 Box %\n",
    "\n",
    "### Copilot Prompt: \"Create a line plot to show the changes in the percentage of respondents who agree with the statements over the three testing waves, include a legend, title, and axis labels\"\n",
    "\n",
    "\n"
   ]
  },
  {
   "cell_type": "markdown",
   "metadata": {},
   "source": [
    "<div style=\"background-color: #1f77b4; color: #FFFFE0; padding: 20px; border-radius: 5px; margin-top: 20px; border: 1px solid #b8daff;\">\n",
    "<p>Explanation of Code<p>\n",
    "</div>"
   ]
  },
  {
   "cell_type": "markdown",
   "metadata": {},
   "source": [
    "The provided code snippet is designed to preprocess survey data and visualize the changes in the percentage of respondents who agree with certain statements over three testing waves. The first step in the code is to reset the environment and import the necessary libraries. The [`Sat_Data_Clean`](command:_github.copilot.openSymbolFromReferences?%5B%22%22%2C%5B%7B%22uri%22%3A%7B%22scheme%22%3A%22vscode-notebook-cell%22%2C%22authority%22%3A%22github%22%2C%22path%22%3A%22%2Frgregs60%2FPython-Fall-2024-Notebooks%2FIn%20Class%20Demos%2FPython%20Demo%20%238b%20Example%20-%20Python%20Homework%202.ipynb%22%2C%22query%22%3A%22%22%2C%22fragment%22%3A%22Y101sdnNjb2RlLXZmcw%3D%3D%22%7D%2C%22pos%22%3A%7B%22line%22%3A2%2C%22character%22%3A16%7D%7D%5D%2C%221a76ab5a-7e2d-4a01-af33-03db38b1bf8f%22%5D \"Go to definition\") DataFrame is copied to a new DataFrame called [`Sat_Line_Plot`](command:_github.copilot.openSymbolFromReferences?%5B%22%22%2C%5B%7B%22uri%22%3A%7B%22scheme%22%3A%22vscode-notebook-cell%22%2C%22authority%22%3A%22github%22%2C%22path%22%3A%22%2Frgregs60%2FPython-Fall-2024-Notebooks%2FIn%20Class%20Demos%2FPython%20Demo%20%238b%20Example%20-%20Python%20Homework%202.ipynb%22%2C%22query%22%3A%22%22%2C%22fragment%22%3A%22Y101sdnNjb2RlLXZmcw%3D%3D%22%7D%2C%22pos%22%3A%7B%22line%22%3A2%2C%22character%22%3A0%7D%7D%5D%2C%221a76ab5a-7e2d-4a01-af33-03db38b1bf8f%22%5D \"Go to definition\") to ensure that the original data remains unchanged. The libraries imported include [`pandas`](command:_github.copilot.openSymbolFromReferences?%5B%22%22%2C%5B%7B%22uri%22%3A%7B%22scheme%22%3A%22vscode-notebook-cell%22%2C%22authority%22%3A%22github%22%2C%22path%22%3A%22%2Frgregs60%2FPython-Fall-2024-Notebooks%2FIn%20Class%20Demos%2FPython%20Demo%20%238b%20Example%20-%20Python%20Homework%202.ipynb%22%2C%22query%22%3A%22%22%2C%22fragment%22%3A%22Y101sdnNjb2RlLXZmcw%3D%3D%22%7D%2C%22pos%22%3A%7B%22line%22%3A4%2C%22character%22%3A7%7D%7D%5D%2C%221a76ab5a-7e2d-4a01-af33-03db38b1bf8f%22%5D \"Go to definition\") for data manipulation, [`numpy`](command:_github.copilot.openSymbolFromReferences?%5B%22%22%2C%5B%7B%22uri%22%3A%7B%22scheme%22%3A%22vscode-notebook-cell%22%2C%22authority%22%3A%22github%22%2C%22path%22%3A%22%2Frgregs60%2FPython-Fall-2024-Notebooks%2FIn%20Class%20Demos%2FPython%20Demo%20%238b%20Example%20-%20Python%20Homework%202.ipynb%22%2C%22query%22%3A%22%22%2C%22fragment%22%3A%22Y101sdnNjb2RlLXZmcw%3D%3D%22%7D%2C%22pos%22%3A%7B%22line%22%3A5%2C%22character%22%3A7%7D%7D%5D%2C%221a76ab5a-7e2d-4a01-af33-03db38b1bf8f%22%5D \"Go to definition\") for numerical operations, and [`matplotlib.pyplot`](command:_github.copilot.openSymbolFromReferences?%5B%22%22%2C%5B%7B%22uri%22%3A%7B%22scheme%22%3A%22vscode-notebook-cell%22%2C%22authority%22%3A%22github%22%2C%22path%22%3A%22%2Frgregs60%2FPython-Fall-2024-Notebooks%2FIn%20Class%20Demos%2FPython%20Demo%20%238b%20Example%20-%20Python%20Homework%202.ipynb%22%2C%22query%22%3A%22%22%2C%22fragment%22%3A%22Y101sdnNjb2RlLXZmcw%3D%3D%22%7D%2C%22pos%22%3A%7B%22line%22%3A6%2C%22character%22%3A7%7D%7D%5D%2C%221a76ab5a-7e2d-4a01-af33-03db38b1bf8f%22%5D \"Go to definition\") for plotting.\n",
    "\n",
    "Next, the 'Testing_Wave' column in the [`Sat_Line_Plot`](command:_github.copilot.openSymbolFromReferences?%5B%22%22%2C%5B%7B%22uri%22%3A%7B%22scheme%22%3A%22vscode-notebook-cell%22%2C%22authority%22%3A%22github%22%2C%22path%22%3A%22%2Frgregs60%2FPython-Fall-2024-Notebooks%2FIn%20Class%20Demos%2FPython%20Demo%20%238b%20Example%20-%20Python%20Homework%202.ipynb%22%2C%22query%22%3A%22%22%2C%22fragment%22%3A%22Y101sdnNjb2RlLXZmcw%3D%3D%22%7D%2C%22pos%22%3A%7B%22line%22%3A2%2C%22character%22%3A0%7D%7D%5D%2C%221a76ab5a-7e2d-4a01-af33-03db38b1bf8f%22%5D \"Go to definition\") DataFrame is relabeled to more readable labels: 'Wave 1', 'Wave 2', and 'Wave 3'. This is achieved using the [`replace`](command:_github.copilot.openSymbolFromReferences?%5B%22%22%2C%5B%7B%22uri%22%3A%7B%22scheme%22%3A%22file%22%2C%22authority%22%3A%22%22%2C%22path%22%3A%22%2Fopt%2Fminiconda3%2Flib%2Fpython3.12%2Fsite-packages%2Fpandas%2Fcore%2Fgeneric.py%22%2C%22query%22%3A%22%22%2C%22fragment%22%3A%22%22%7D%2C%22pos%22%3A%7B%22line%22%3A7846%2C%22character%22%3A8%7D%7D%2C%7B%22uri%22%3A%7B%22scheme%22%3A%22file%22%2C%22authority%22%3A%22%22%2C%22path%22%3A%22%2Fopt%2Fminiconda3%2Flib%2Fpython3.12%2Fsite-packages%2Fpandas%2Fcore%2Fgeneric.py%22%2C%22query%22%3A%22%22%2C%22fragment%22%3A%22%22%7D%2C%22pos%22%3A%7B%22line%22%3A7859%2C%22character%22%3A8%7D%7D%2C%7B%22uri%22%3A%7B%22scheme%22%3A%22file%22%2C%22authority%22%3A%22%22%2C%22path%22%3A%22%2Fopt%2Fminiconda3%2Flib%2Fpython3.12%2Fsite-packages%2Fpandas%2Fcore%2Fgeneric.py%22%2C%22query%22%3A%22%22%2C%22fragment%22%3A%22%22%7D%2C%22pos%22%3A%7B%22line%22%3A7872%2C%22character%22%3A8%7D%7D%2C%7B%22uri%22%3A%7B%22scheme%22%3A%22file%22%2C%22authority%22%3A%22%22%2C%22path%22%3A%22%2Fopt%2Fminiconda3%2Flib%2Fpython3.12%2Fsite-packages%2Fpandas%2Fcore%2Fgeneric.py%22%2C%22query%22%3A%22%22%2C%22fragment%22%3A%22%22%7D%2C%22pos%22%3A%7B%22line%22%3A7890%2C%22character%22%3A8%7D%7D%2C%7B%22uri%22%3A%7B%22scheme%22%3A%22vscode-notebook-cell%22%2C%22authority%22%3A%22github%22%2C%22path%22%3A%22%2Frgregs60%2FPython-Fall-2024-Notebooks%2FIn%20Class%20Demos%2FPython%20Demo%20%238b%20Example%20-%20Python%20Homework%202.ipynb%22%2C%22query%22%3A%22%22%2C%22fragment%22%3A%22Y101sdnNjb2RlLXZmcw%3D%3D%22%7D%2C%22pos%22%3A%7B%22line%22%3A10%2C%22character%22%3A62%7D%7D%5D%2C%221a76ab5a-7e2d-4a01-af33-03db38b1bf8f%22%5D \"Go to definition\") method, which maps the numeric values 1, 2, and 3 to the corresponding string labels. This step makes the data more understandable and easier to interpret in the subsequent visualizations.\n",
    "\n",
    "Following this, the 'Performance', 'Ease_of_Use', and 'Maintenance' columns are recoded. Values from 1 to 5 are set to 0, and values from 6 to 7 are set to 100. This recoding is done using the [`replace`](command:_github.copilot.openSymbolFromReferences?%5B%22%22%2C%5B%7B%22uri%22%3A%7B%22scheme%22%3A%22file%22%2C%22authority%22%3A%22%22%2C%22path%22%3A%22%2Fopt%2Fminiconda3%2Flib%2Fpython3.12%2Fsite-packages%2Fpandas%2Fcore%2Fgeneric.py%22%2C%22query%22%3A%22%22%2C%22fragment%22%3A%22%22%7D%2C%22pos%22%3A%7B%22line%22%3A7846%2C%22character%22%3A8%7D%7D%2C%7B%22uri%22%3A%7B%22scheme%22%3A%22file%22%2C%22authority%22%3A%22%22%2C%22path%22%3A%22%2Fopt%2Fminiconda3%2Flib%2Fpython3.12%2Fsite-packages%2Fpandas%2Fcore%2Fgeneric.py%22%2C%22query%22%3A%22%22%2C%22fragment%22%3A%22%22%7D%2C%22pos%22%3A%7B%22line%22%3A7859%2C%22character%22%3A8%7D%7D%2C%7B%22uri%22%3A%7B%22scheme%22%3A%22file%22%2C%22authority%22%3A%22%22%2C%22path%22%3A%22%2Fopt%2Fminiconda3%2Flib%2Fpython3.12%2Fsite-packages%2Fpandas%2Fcore%2Fgeneric.py%22%2C%22query%22%3A%22%22%2C%22fragment%22%3A%22%22%7D%2C%22pos%22%3A%7B%22line%22%3A7872%2C%22character%22%3A8%7D%7D%2C%7B%22uri%22%3A%7B%22scheme%22%3A%22file%22%2C%22authority%22%3A%22%22%2C%22path%22%3A%22%2Fopt%2Fminiconda3%2Flib%2Fpython3.12%2Fsite-packages%2Fpandas%2Fcore%2Fgeneric.py%22%2C%22query%22%3A%22%22%2C%22fragment%22%3A%22%22%7D%2C%22pos%22%3A%7B%22line%22%3A7890%2C%22character%22%3A8%7D%7D%2C%7B%22uri%22%3A%7B%22scheme%22%3A%22vscode-notebook-cell%22%2C%22authority%22%3A%22github%22%2C%22path%22%3A%22%2Frgregs60%2FPython-Fall-2024-Notebooks%2FIn%20Class%20Demos%2FPython%20Demo%20%238b%20Example%20-%20Python%20Homework%202.ipynb%22%2C%22query%22%3A%22%22%2C%22fragment%22%3A%22Y101sdnNjb2RlLXZmcw%3D%3D%22%7D%2C%22pos%22%3A%7B%22line%22%3A10%2C%22character%22%3A62%7D%7D%5D%2C%221a76ab5a-7e2d-4a01-af33-03db38b1bf8f%22%5D \"Go to definition\") method with a dictionary that maps the original values to the new values. This transformation simplifies the data into binary categories of agreement, making it easier to analyze and visualize.\n",
    "\n",
    "The column names are then updated to reflect the recoding. 'Performance' is renamed to 'Performance Agree Top 2 Box %', 'Ease_of_Use' to 'Ease_of_Use Agree Top 2 Box %', and 'Maintenance' to 'Maintenance Agree Top 2 Box %'. This renaming clarifies that the columns now represent the percentage of respondents who agree with the statements, specifically those who selected the top two options on the scale.\n",
    "\n",
    "To visualize the data, the mean values for each testing wave are calculated by grouping the data by 'Testing_Wave' and computing the mean for each group. This results in a summary of the average agreement percentages for each wave. A line plot is then created to show the changes in agreement percentages over the three testing waves. The x-axis represents the testing waves, while the y-axis shows the mean percentage of agreement. Three lines are plotted, one for each of the recoded columns. The plot includes markers, a legend, axis labels, a title, and a grid for better readability. Finally, the [`plt.show()`](command:_github.copilot.openSymbolFromReferences?%5B%22%22%2C%5B%7B%22uri%22%3A%7B%22scheme%22%3A%22vscode-notebook-cell%22%2C%22authority%22%3A%22github%22%2C%22path%22%3A%22%2Frgregs60%2FPython-Fall-2024-Notebooks%2FIn%20Class%20Demos%2FPython%20Demo%20%238b%20Example%20-%20Python%20Homework%202.ipynb%22%2C%22query%22%3A%22%22%2C%22fragment%22%3A%22Y101sdnNjb2RlLXZmcw%3D%3D%22%7D%2C%22pos%22%3A%7B%22line%22%3A6%2C%22character%22%3A28%7D%7D%5D%2C%221a76ab5a-7e2d-4a01-af33-03db38b1bf8f%22%5D \"Go to definition\") function is called to display the plot."
   ]
  },
  {
   "cell_type": "markdown",
   "metadata": {},
   "source": [
    "<div style=\"background-color: #1f77b4; color: #FFFFE0; padding: 20px; border-radius: 5px; margin-top: 20px; border: 1px solid #b8daff;\">\n",
    "<p>Maybe Top Box Strongly Agree (7) Percentage is worth looking at, if you think so add the code below<p>\n",
    "<p> <p>\n",
    "<p>Or Maybe You have another way of Showing This Data<p>\n",
    "</div>"
   ]
  },
  {
   "cell_type": "code",
   "execution_count": null,
   "metadata": {},
   "outputs": [],
   "source": [
    "### Reset Enivronment and Import Libraries - Agree Top Box (7) and manually change the data to 1-6 = 0 and 7 = 100\n",
    "\n",
    "\n"
   ]
  },
  {
   "cell_type": "markdown",
   "metadata": {},
   "source": [
    "<div style=\"background-color: #1f77b4; color: #FFFFE0; padding: 20px; border-radius: 5px; margin-top: 20px; border: 1px solid #b8daff;\">\n",
    "<p>Explanation of Code<p>\n",
    "</div>"
   ]
  },
  {
   "cell_type": "markdown",
   "metadata": {},
   "source": [
    "The provided code snippet is a Python script that processes survey data and visualizes the results using a line plot. The script begins by resetting the environment and importing necessary libraries, specifically [`matplotlib.pyplot`](command:_github.copilot.openSymbolFromReferences?%5B%22%22%2C%5B%7B%22uri%22%3A%7B%22scheme%22%3A%22vscode-notebook-cell%22%2C%22authority%22%3A%22github%22%2C%22path%22%3A%22%2Frgregs60%2FPython-Fall-2024-Notebooks%2FIn%20Class%20Demos%2FPython%20Demo%20%238b%20Example%20-%20Python%20Homework%202.ipynb%22%2C%22query%22%3A%22%22%2C%22fragment%22%3A%22X33sdnNjb2RlLXZmcw%3D%3D%22%7D%2C%22pos%22%3A%7B%22line%22%3A4%2C%22character%22%3A7%7D%7D%5D%2C%2202f97cff-7b9e-49ad-874c-c7274ca89568%22%5D \"Go to definition\") for plotting. It then creates a copy of the original dataset [`Sat_Data_Clean`](command:_github.copilot.openSymbolFromReferences?%5B%22%22%2C%5B%7B%22uri%22%3A%7B%22scheme%22%3A%22vscode-notebook-cell%22%2C%22authority%22%3A%22github%22%2C%22path%22%3A%22%2Frgregs60%2FPython-Fall-2024-Notebooks%2FIn%20Class%20Demos%2FPython%20Demo%20%238b%20Example%20-%20Python%20Homework%202.ipynb%22%2C%22query%22%3A%22%22%2C%22fragment%22%3A%22X33sdnNjb2RlLXZmcw%3D%3D%22%7D%2C%22pos%22%3A%7B%22line%22%3A2%2C%22character%22%3A16%7D%7D%5D%2C%2202f97cff-7b9e-49ad-874c-c7274ca89568%22%5D \"Go to definition\") into a new DataFrame [`Sat_Line_Plot`](command:_github.copilot.openSymbolFromReferences?%5B%22%22%2C%5B%7B%22uri%22%3A%7B%22scheme%22%3A%22vscode-notebook-cell%22%2C%22authority%22%3A%22github%22%2C%22path%22%3A%22%2Frgregs60%2FPython-Fall-2024-Notebooks%2FIn%20Class%20Demos%2FPython%20Demo%20%238b%20Example%20-%20Python%20Homework%202.ipynb%22%2C%22query%22%3A%22%22%2C%22fragment%22%3A%22X33sdnNjb2RlLXZmcw%3D%3D%22%7D%2C%22pos%22%3A%7B%22line%22%3A2%2C%22character%22%3A0%7D%7D%5D%2C%2202f97cff-7b9e-49ad-874c-c7274ca89568%22%5D \"Go to definition\") to ensure that any modifications do not affect the original data.\n",
    "\n",
    "Next, the script relabels the 'Testing_Wave' column to more descriptive labels: 'Wave 1', 'Wave 2', and 'Wave 3'. This is achieved using the [`replace`](command:_github.copilot.openSymbolFromReferences?%5B%22%22%2C%5B%7B%22uri%22%3A%7B%22scheme%22%3A%22file%22%2C%22authority%22%3A%22%22%2C%22path%22%3A%22%2Fopt%2Fminiconda3%2Flib%2Fpython3.12%2Fsite-packages%2Fpandas%2Fcore%2Fgeneric.py%22%2C%22query%22%3A%22%22%2C%22fragment%22%3A%22%22%7D%2C%22pos%22%3A%7B%22line%22%3A7846%2C%22character%22%3A8%7D%7D%2C%7B%22uri%22%3A%7B%22scheme%22%3A%22file%22%2C%22authority%22%3A%22%22%2C%22path%22%3A%22%2Fopt%2Fminiconda3%2Flib%2Fpython3.12%2Fsite-packages%2Fpandas%2Fcore%2Fgeneric.py%22%2C%22query%22%3A%22%22%2C%22fragment%22%3A%22%22%7D%2C%22pos%22%3A%7B%22line%22%3A7859%2C%22character%22%3A8%7D%7D%2C%7B%22uri%22%3A%7B%22scheme%22%3A%22file%22%2C%22authority%22%3A%22%22%2C%22path%22%3A%22%2Fopt%2Fminiconda3%2Flib%2Fpython3.12%2Fsite-packages%2Fpandas%2Fcore%2Fgeneric.py%22%2C%22query%22%3A%22%22%2C%22fragment%22%3A%22%22%7D%2C%22pos%22%3A%7B%22line%22%3A7872%2C%22character%22%3A8%7D%7D%2C%7B%22uri%22%3A%7B%22scheme%22%3A%22file%22%2C%22authority%22%3A%22%22%2C%22path%22%3A%22%2Fopt%2Fminiconda3%2Flib%2Fpython3.12%2Fsite-packages%2Fpandas%2Fcore%2Fgeneric.py%22%2C%22query%22%3A%22%22%2C%22fragment%22%3A%22%22%7D%2C%22pos%22%3A%7B%22line%22%3A7890%2C%22character%22%3A8%7D%7D%2C%7B%22uri%22%3A%7B%22scheme%22%3A%22vscode-notebook-cell%22%2C%22authority%22%3A%22github%22%2C%22path%22%3A%22%2Frgregs60%2FPython-Fall-2024-Notebooks%2FIn%20Class%20Demos%2FPython%20Demo%20%238b%20Example%20-%20Python%20Homework%202.ipynb%22%2C%22query%22%3A%22%22%2C%22fragment%22%3A%22X33sdnNjb2RlLXZmcw%3D%3D%22%7D%2C%22pos%22%3A%7B%22line%22%3A8%2C%22character%22%3A62%7D%7D%5D%2C%2202f97cff-7b9e-49ad-874c-c7274ca89568%22%5D \"Go to definition\") method, which maps the original integer values (1, 2, 3) to the new string labels.\n",
    "\n",
    "The script then recodes the 'Performance', 'Ease_of_Use', and 'Maintenance' columns. Values from 1 to 6 are replaced with 0, and the value 7 is replaced with 100. This transformation is done to simplify the data into binary-like categories where 0 represents disagreement or neutrality, and 100 represents strong agreement.\n",
    "\n",
    "Following this, the script renames these columns to reflect the changes made. The new column names are 'Performance Agree Top Box (7)%', 'Ease_of_Use Agree Top Box (7)%', and 'Maintenance Agree Top Box (7)%'. This renaming helps in making the DataFrame more descriptive and easier to understand.\n",
    "\n",
    "To visualize the data, the script calculates the mean values for each wave by grouping the data by 'Testing_Wave' and computing the mean for each group. It then creates a line plot with these mean values. The plot includes three lines, each representing one of the recoded columns ('Performance Agree Top Box (7)%', 'Ease_of_Use Agree Top Box (7)%', and 'Maintenance Agree Top Box (7)%').\n",
    "\n",
    "Finally, the script adds a legend, title, and axis labels to the plot for better readability and understanding. The grid is also enabled to make the plot easier to interpret. The plot is displayed using [`plt.show()`](command:_github.copilot.openSymbolFromReferences?%5B%22%22%2C%5B%7B%22uri%22%3A%7B%22scheme%22%3A%22vscode-notebook-cell%22%2C%22authority%22%3A%22github%22%2C%22path%22%3A%22%2Frgregs60%2FPython-Fall-2024-Notebooks%2FIn%20Class%20Demos%2FPython%20Demo%20%238b%20Example%20-%20Python%20Homework%202.ipynb%22%2C%22query%22%3A%22%22%2C%22fragment%22%3A%22X33sdnNjb2RlLXZmcw%3D%3D%22%7D%2C%22pos%22%3A%7B%22line%22%3A4%2C%22character%22%3A28%7D%7D%5D%2C%2202f97cff-7b9e-49ad-874c-c7274ca89568%22%5D \"Go to definition\"), which renders the visualization."
   ]
  },
  {
   "cell_type": "markdown",
   "metadata": {},
   "source": [
    "<div style=\"background-color: #DC143C; color: #000000; padding: 20px; border-radius: 25px; margin-top: 30px; border: 1px solid #8B0000;\"\n",
    ">\n",
    "<h1>End of Module</h1>\n",
    "</div>"
   ]
  }
 ],
 "metadata": {
  "kernelspec": {
   "display_name": "Python 3 (ipykernel)",
   "language": "python",
   "name": "python3"
  },
  "language_info": {
   "codemirror_mode": {
    "name": "ipython",
    "version": 3
   },
   "file_extension": ".py",
   "mimetype": "text/x-python",
   "name": "python",
   "nbconvert_exporter": "python",
   "pygments_lexer": "ipython3",
   "version": "3.12.6"
  }
 },
 "nbformat": 4,
 "nbformat_minor": 4
}
