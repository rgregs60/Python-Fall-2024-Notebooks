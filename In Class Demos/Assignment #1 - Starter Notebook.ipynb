{
 "cells": [
  {
   "cell_type": "markdown",
   "metadata": {},
   "source": [
    "<div style=\"background-color: #E0F7FA; color: #004D40; padding: 20px; border-radius: 5px; margin-top: 20px; border: 1px solid #b8daff;\"\n",
    ">\n",
    "<h3>BIS 411 - Homework Assignment #1 - Starter Notebook</h3>\n",
    "<p> <p>\n",
    "<h4>For this assignment, you will need to do the following</h4>\n",
    "    <ol>\n",
    "        <il>\n",
    "            1. Create a Jupyter Notebook using this Notebook as a Guide <br>\n",
    "            2. From Course Site Download your Personal Assignment File for this Assignment <br>\n",
    "            <br>\n",
    "            3. Update your Python Environment Using the Code Block Below.  Once you run it, comment \"#\" out the Pip statements <br>\n",
    "            4. Make sure your libraries are loaded <br>\n",
    "            <br>\n",
    "            5. Input your Personal Excel file as a Data Frame <br>\n",
    "            6. Produce a bar graph showing Total Revenue by Product Category <br>\n",
    "            7. Line graph showing Total Revenue for HVAC Products only from 2018 to 2024 by year <br>\n",
    "            8. Use two graphs to a 3 minute Power Point Slide and record your 3 minute story <br>\n",
    "</div>"
   ]
  },
  {
   "cell_type": "code",
   "execution_count": 22,
   "metadata": {},
   "outputs": [],
   "source": [
    "# Check for the latest versions and install if not up to date.\n",
    "# if you do not need to update a package, you can comment it out by adding a # in front of the line\n",
    "\n",
    "### Python Version 3.12.6\n",
    "\n",
    "#%pip install pandas --upgrade\n",
    "#%pip install numpy --upgrade\n",
    "#%pip install seaborn --upgrade\n",
    "#%pip install matplotlib --upgrade\n",
    "#%pip install jupyter --upgrade\n",
    "#%pip install statsmodels --upgrade\n",
    "#%pip install jupyterlab --upgrade\n",
    "#%pip install ipywidgets --upgrade\n",
    "#%pip install python --upgrade\n",
    "#%pip install python-pptx --upgrade\n",
    "#%pip install pandas --upgrade\n",
    "#%pip install requests --upgrade\n",
    "#%pip install openpyxl --upgrade\n",
    "#%pip install xlrd --upgrade\n",
    "#%pip install tabulate --upgrade\n",
    "#%pip install os --upgrade  \n",
    "#%pip install scipy --upgrade\n",
    "\n",
    "import os   #importing os library\n",
    "import pandas as pd     #importing pandas library \n",
    "import numpy as np    #importing numpy library \n",
    "import seaborn as sns   #importing seaborn library\n",
    "import matplotlib.pyplot as plt  #importing matplotlib library\n",
    "import jupyter    #importing jupyter library\n",
    "import jupyterlab   #importing jupyterlab library\n",
    "from pptx import Presentation #importing pptx library\n",
    "from pptx.util import Inches  #importing Inches from pptx.util\n",
    "import openpyxl #importing openpyxl library\n",
    "import scipy as stats #importing scipy library\n",
    "import tabulate #importing tabulate library\n",
    "import requests #importing requests library\n",
    "import xlrd #importing xlrd library\n",
    "import statsmodels #importing statsmodels library\n",
    "#import statsmodels.api as sm #importing statsmodels.api as sm\n",
    "#import statsmodels.formula.api as smf #importing statsmodels.formula.api as smf\n",
    "import statsmodels.stats.api as sms #importing statsmodels.stats.api as sms\n",
    "import statsmodels.stats.outliers_influence as oi #importing statsmodels.stats.outliers_influence as oi\n",
    "import statsmodels.stats.diagnostic as dg #importing statsmodels.stats.diagnostic as dg\n",
    "import statsmodels.stats.stattools as st #importing statsmodels.stats.stattools as st\n",
    "import statsmodels.stats.power as sp #importing statsmodels.stats.power as sp\n",
    "import statsmodels.stats.proportion as spp #importing statsmodels.stats.proportion as spp\n",
    "import statsmodels.stats.weightstats as sw #importing statsmodels.stats.weightstats as sw\n",
    "import statsmodels.stats.multicomp as smm #importing statsmodels.stats.multicomp as smm\n",
    "import statsmodels.stats.libqsturng as sl #importing statsmodels.stats.libqsturng as sl\n",
    "import statsmodels.stats.moment_helpers as sh #importing statsmodels.stats.moment_helpers as sh"
   ]
  },
  {
   "cell_type": "markdown",
   "metadata": {},
   "source": [
    "<div style=\"background-color: #E0F7FA; color: #004D40; padding: 20px; border-radius: 5px; margin-top: 20px; border: 1px solid #b8daff;\">\n",
    "<p>**Read Your Excel File and then Examine its Contents using Data Wrangler**<p>\n",
    "</div>"
   ]
  },
  {
   "cell_type": "code",
   "execution_count": 23,
   "metadata": {},
   "outputs": [
    {
     "name": "stdout",
     "output_type": "stream",
     "text": [
      "/Users/rudolphsurovcik/Library/CloudStorage/GoogleDrive-grs3@lehigh.edu/My Drive/Lehigh Fall 2024/BIS 411 - Fall 2024/Python-Fall-2024-Notebooks/Data Files for Python\n",
      "/Users/rudolphsurovcik/Library/CloudStorage/GoogleDrive-grs3@lehigh.edu/My Drive/Lehigh Fall 2024/BIS 411 - Fall 2024/Python-Fall-2024-Notebooks/Data Files for Python\n"
     ]
    }
   ],
   "source": [
    "# Clear the environment, do not add a comment after the %reset -f command\n",
    "%reset -f  \n",
    "\n",
    "### Bringing in the Data Set   \n",
    "\n",
    "# Load libraries and set up the environment\n",
    "import pandas as pd\n",
    "import os\n",
    "import numpy as np\n",
    "import seaborn as sns\n",
    "import matplotlib.pyplot as plt\n",
    "\n",
    "# Check the current working directory\n",
    "print(os.getcwd())\n",
    "\n",
    "# Change current path to where your data files are stored\n",
    "data_path = <path to your data file>\n",
    "os.chdir(data_path)\n",
    "\n",
    "print(os.getcwd())\n",
    "\n",
    "# Load the dataset\n",
    "Assign_1 = pd.read_excel('<name of your data file>') # Load the data set\n"
   ]
  },
  {
   "cell_type": "markdown",
   "metadata": {},
   "source": [
    "<div style=\"background-color: #E0F7FA; color: #004D40; padding: 20px; border-radius: 5px; margin-top: 20px; border: 1px solid #b8daff;\">\n",
    "<p>**Create a Bar Graph Using Product Category Show Total Revenue**<p>\n",
    "</div>"
   ]
  },
  {
   "cell_type": "code",
   "execution_count": null,
   "metadata": {},
   "outputs": [],
   "source": [
    "# Create a bar graph showing the sum of revenue by product category\n",
    "import seaborn as sns   # importing seaborn library\n",
    "import matplotlib.pyplot as plt  # importing matplotlib library\n",
    "\n",
    "# Set the style of the graph    //  darkgrid, whitegrid, dark, white, ticks are other formats\n",
    "sns.set_theme(style=\"darkgrid\")\n",
    "plt.figure(figsize=(10, 6))\n",
    "sns.set_style(\"darkgrid\")\n",
    "\n",
    "# Assuming Assign_1 is a DataFrame that contains 'Product Category' and 'Revenue' columns\n",
    "ax = sns.barplot(x='Product_Category', y='Revenue', data=Assign_1, estimator=sum, ci=None)\n",
    "\n",
    "# You need to add the formatting a build the chart - using Copilot and Gen AI to help code and understand what is happening#\n",
    "plt.show()"
   ]
  },
  {
   "cell_type": "markdown",
   "metadata": {},
   "source": [
    "<div style=\"background-color: #E0F7FA; color: #004D40; padding: 20px; border-radius: 5px; margin-top: 20px; border: 1px solid #b8daff;\">\n",
    "<p>**Create a Line Graph for HVAC Showing Total Revenue by Year**<p>\n",
    "</div>"
   ]
  },
  {
   "cell_type": "code",
   "execution_count": null,
   "metadata": {},
   "outputs": [],
   "source": [
    "# show a line graph of the total revenue by year for the Product_Category HVAC\n",
    "\n",
    "import seaborn as sns   # importing seaborn library\n",
    "import matplotlib.pyplot as plt  # importing matplotlib library\n",
    "\n",
    "# Filter the data for the Product_Category HVAC\n",
    "Assign_1 = Assign_1[Assign_1['Product_Category'] == 'HVAC']\n",
    " \n",
    "# Set the style of the graph\n",
    "sns.set_theme(style=\"darkgrid\")\n",
    "plt.figure(figsize=(10, 6))\n",
    "sns.set_style(\"darkgrid\")\n",
    "\n",
    "# Create a line graph showing the sum of revenue by year\n",
    "ax = sns.lineplot(x='Year', y='Revenue', data=Assign_1, estimator=sum, errorbar=None)\n",
    "\n",
    "### You need to add the formatting and build the chart - using Copilot and Gen AI to help code and understand what is happening ###\n",
    "\n",
    "plt.show()"
   ]
  },
  {
   "cell_type": "markdown",
   "metadata": {},
   "source": [
    "<div style=\"background-color: #E0F7FA; color: #004D40; padding: 20px; border-radius: 5px; margin-top: 20px; border: 1px solid #b8daff;\"\n",
    ">\n",
    "<h3>BIS 411 - Homework Assignment #1 - Submission Requirements</h3>\n",
    "<p> <p>\n",
    "<h4>On Coursesite you will need to upload three items</h4>\n",
    "    <ol>\n",
    "        <il>\n",
    "            1. Three Minute Story PowerPoint Slide <br>\n",
    "            2. Three Minute Story with Voice Over <br>\n",
    "            3. Your Jupyter Notebook that produced the two graphs<br>\n",
    "        </il>\n",
    "    <ol>\n",
    "</div>"
   ]
  }
 ],
 "metadata": {
  "kernelspec": {
   "display_name": "Python 3",
   "language": "python",
   "name": "python3"
  },
  "language_info": {
   "codemirror_mode": {
    "name": "ipython",
    "version": 3
   },
   "file_extension": ".py",
   "mimetype": "text/x-python",
   "name": "python",
   "nbconvert_exporter": "python",
   "pygments_lexer": "ipython3",
   "version": "3.12.6"
  }
 },
 "nbformat": 4,
 "nbformat_minor": 2
}
