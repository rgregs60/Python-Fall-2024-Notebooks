{
 "cells": [
  {
   "cell_type": "code",
   "execution_count": 4,
   "metadata": {},
   "outputs": [
    {
     "name": "stdout",
     "output_type": "stream",
     "text": [
      "    Age_mean  Income_mean  Family_mean  CCAvg_mean  Mortgage_mean  \\\n",
      "0  45.327004    73.898261     2.395962    1.936836      56.465321   \n",
      "\n",
      "   CreditCard_mean  Loan_mean  Age_median  Income_median  Family_median  ...  \\\n",
      "0         0.293824   0.096342          45             64              2  ...   \n",
      "\n",
      "   Mortgage_sd  CreditCard_sd   Loan_sd     Age_var   Income_var  Family_var  \\\n",
      "0   101.692484       0.455558  0.295089  131.545586  2144.801922    1.317193   \n",
      "\n",
      "   CCAvg_var  Mortgage_var  CreditCard_var  Loan_var  \n",
      "0   3.054517  10341.361202        0.207533  0.087078  \n",
      "\n",
      "[1 rows x 28 columns]\n",
      "   vars     n       mean          sd  median    trimmed       mad  min  max  \\\n",
      "0     1  5006  45.319816   11.473437    45.0  45.366450  14.82600   22   67   \n",
      "1     2  5004  73.952838   46.468034    64.0  68.911089  42.99540    8  347   \n",
      "2     3  5004   2.396283    1.147800     2.0   2.370380   1.48260    1    4   \n",
      "3     4  5004   1.936549    1.747661     1.5   1.644343   1.33434    0   10   \n",
      "4     5  5006  56.431682  101.671285     0.0  32.930604   0.00000    0  635   \n",
      "\n",
      "   range      skew  kurtosis        se  \n",
      "0     45 -0.029575 -1.153404  0.162162  \n",
      "1    339  0.906648  0.370602  0.656895  \n",
      "2      3  0.155108 -1.404340  0.016226  \n",
      "3     10  1.597765  2.641996  0.024706  \n",
      "4    635  2.104635  4.757073  1.436987  \n"
     ]
    }
   ],
   "source": [
    "import pandas as pd\n",
    "import requests\n",
    "from io import BytesIO\n",
    "import openpyxl  # Ensure openpyxl is installed beforehand using pip install openpyxl\n",
    "import urllib3\n",
    "\n",
    "# Suppress only the single InsecureRequestWarning from urllib3 needed for verify=False\n",
    "urllib3.disable_warnings(urllib3.exceptions.InsecureRequestWarning)\n",
    "\n",
    "url = 'https://raw.githubusercontent.com/rgregs60/Python-Fall-2024-Notebooks/main/Data%20Files%20for%20Python/bank_means.xlsx'\n",
    "response = requests.get(url, verify=False)\n",
    "response.raise_for_status()  # Ensure the request was successful\n",
    "\n",
    "data = BytesIO(response.content)\n",
    "\n",
    "df = pd.read_excel(data, engine='openpyxl')\n",
    "\n",
    "# Print the first few rows of the dataframe to confirm successful loading\n",
    "print(df.head())\n",
    "\n",
    "url =  'https://raw.githubusercontent.com/rgregs60/Python-Fall-2024-Notebooks/HEAD/Data%20Files%20for%20Python/bank_messy.xlsx'\n",
    "response = requests.get(url, verify=False)\n",
    "response.raise_for_status()  # Ensure the request was successful\n",
    "\n",
    "data = BytesIO(response.content)\n",
    "\n",
    "bankmessydf = pd.read_excel(data, engine='openpyxl')\n",
    "\n",
    "print(bankmessydf.head())"
   ]
  },
  {
   "cell_type": "code",
   "execution_count": null,
   "metadata": {},
   "outputs": [],
   "source": []
  }
 ],
 "metadata": {
  "kernelspec": {
   "display_name": "Python 3",
   "language": "python",
   "name": "python3"
  },
  "language_info": {
   "codemirror_mode": {
    "name": "ipython",
    "version": 3
   },
   "file_extension": ".py",
   "mimetype": "text/x-python",
   "name": "python",
   "nbconvert_exporter": "python",
   "pygments_lexer": "ipython3",
   "version": "3.12.4"
  }
 },
 "nbformat": 4,
 "nbformat_minor": 2
}
