{
 "cells": [
  {
   "cell_type": "code",
   "execution_count": null,
   "metadata": {},
   "outputs": [],
   "source": [
    "import pandas as pd\n",
    "import requests\n",
    "from io import BytesIO\n",
    "import openpyxl  # Ensure openpyxl is installed beforehand using pip install openpyxl\n",
    "import urllib3\n",
    "\n",
    "# Suppress only the single InsecureRequestWarning from urllib3 needed for verify=False\n",
    "urllib3.disable_warnings(urllib3.exceptions.InsecureRequestWarning)\n",
    "\n",
    "url = 'https://raw.githubusercontent.com/rgregs60/Python-Fall-2024-Notebooks/main/Data%20Files%20for%20Python/bank_means.xlsx'\n",
    "response = requests.get(url, verify=False)\n",
    "response.raise_for_status()  # Ensure the request was successful\n",
    "\n",
    "data = BytesIO(response.content)\n",
    "\n",
    "df = pd.read_excel(data, engine='openpyxl')\n",
    "\n",
    "# Print the first few rows of the dataframe to confirm successful loading\n",
    "print(df.head())"
   ]
  },
  {
   "cell_type": "code",
   "execution_count": null,
   "metadata": {},
   "outputs": [],
   "source": []
  }
 ],
 "metadata": {
  "kernelspec": {
   "display_name": "Python 3",
   "language": "python",
   "name": "python3"
  },
  "language_info": {
   "codemirror_mode": {
    "name": "ipython",
    "version": 3
   },
   "file_extension": ".py",
   "mimetype": "text/x-python",
   "name": "python",
   "nbconvert_exporter": "python",
   "pygments_lexer": "ipython3",
   "version": "3.12.4"
  }
 },
 "nbformat": 4,
 "nbformat_minor": 2
}
