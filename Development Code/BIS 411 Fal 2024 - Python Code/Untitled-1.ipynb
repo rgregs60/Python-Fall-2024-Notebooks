{
 "cells": [
  {
   "cell_type": "code",
   "execution_count": 18,
   "id": "db5772a8",
   "metadata": {},
   "outputs": [
    {
     "name": "stdout",
     "output_type": "stream",
     "text": [
      "   x-coordinate Character  y-coordinate\n",
      "0             0         █             0\n",
      "1             0         █             1\n",
      "2             0         █             2\n",
      "3             1         ▀             1\n",
      "4             1         ▀             2\n",
      "5             2         ▀             1\n",
      "6             2         ▀             2\n",
      "7             3         ▀             2\n",
      "   x-coordinate Character  y-coordinate\n",
      "0             0         █             0\n",
      "1             0         █             1\n",
      "2             0         █             2\n",
      "3             1         ▀             1\n",
      "4             1         ▀             2\n"
     ]
    }
   ],
   "source": [
    "import pandas as pd\n",
    "import requests\n",
    "from bs4 import BeautifulSoup\n",
    "\n",
    "# Step 1: Get content from the Google Docs published URL\n",
    "url = \"https://docs.google.com/document/d/e/2PACX-1vRMx5YQlZNa3ra8dYYxmv-QIQ3YJe8tbI3kqcuC7lQiZm-CSEznKfN_HYNSpoXcZIV3Y_O3YoUB1ecq/pub?embedded=true\"\n",
    "response = requests.get(url)\n",
    "\n",
    "# Step 2: Parse with BeautifulSoup\n",
    "soup = BeautifulSoup(response.text, \"html.parser\")\n",
    "\n",
    "# Step 3: Extract all text elements from <p> tags in order\n",
    "tokens = []\n",
    "for p in soup.find_all(\"p\"):\n",
    "    for span in p.find_all(\"span\"):\n",
    "        text = span.get_text(strip=True)\n",
    "        if text:\n",
    "            tokens.append(text)\n",
    "\n",
    "# Step 4: Convert to triplets (x, Character, y)\n",
    "data = []\n",
    "i = 0\n",
    "while i + 2 < len(tokens):\n",
    "    try:\n",
    "        x = int(tokens[i])\n",
    "        char = tokens[i + 1]\n",
    "        y = int(tokens[i + 2])\n",
    "        data.append((x, char, y))\n",
    "        i += 3\n",
    "    except ValueError:\n",
    "        i += 1  # Skip malformed entries\n",
    "\n",
    "# Step 5: Create DataFrame\n",
    "df = pd.DataFrame(data, columns=[\"x-coordinate\", \"Character\", \"y-coordinate\"])\n",
    "\n",
    "# Step 6: Display result\n",
    "print(df)\n",
    "print(df.head())"
   ]
  },
  {
   "cell_type": "markdown",
   "id": "305e1051",
   "metadata": {},
   "source": [
    "<div style=\"background-color: #1f77b4; color: #FFFFE0; padding: 20px; border-radius: 5px; margin-top: 20px; border: 1px solid #b8daff;\"\n",
    ">\n",
    "<p>\n",
    "🔍 Explanation:\n",
    "\t•\tThe document likely presents values like 0 █ 0 0 █ 1 0 █ 2 in a long line.\n",
    "\t•\tThe regex (\\d+)\\s*(\\S)\\s*(\\d+) matches:\n",
    "\t•\tan integer (\\d+)\n",
    "\t•\tfollowed by a non-whitespace character (\\S)\n",
    "\t•\tfollowed by another integer\n",
    "\n",
    "🧪 Example Match: </p>"
   ]
  },
  {
   "cell_type": "code",
   "execution_count": null,
   "id": "31978337",
   "metadata": {},
   "outputs": [
    {
     "data": {
      "image/png": "[encoded data removed]",
      "text/plain": [
       "<Figure size 1500x200 with 1 Axes>"
      ]
     },
     "metadata": {},
     "output_type": "display_data"
    }
   ],
   "source": [
    "import matplotlib.pyplot as plt\n",
    "\n",
    "# --- Create the Plot ---\n",
    "\n",
    "# Define a dark color for the background\n",
    "dark_color = '#212934'\n",
    "\n",
    "# Create a figure with a very wide aspect ratio\n",
    "fig, ax = plt.subplots(figsize=(15, 2))\n",
    "fig.patch.set_facecolor(dark_color)  # Set the face color of the figure\n",
    "ax.set_facecolor(dark_color)         # Set the face color of the axes\n",
    "ax.set_facecolor(dark_color)\n",
    "\n",
    "# Create the scatter plot using your DataFrame\n",
    "ax.scatter(\n",
    "    x=df['x-coordinate'],\n",
    "    y=df['y-coordinate'],\n",
    "    marker='s',      # Square markers\n",
    "    s=400,           # Marker size\n",
    "    color='white'    # White marker color\n",
    ")\n",
    "\n",
    "# --- Final Touches ---\n",
    "\n",
    "# Invert the y-axis so (0,0) is at the top-left\n",
    "ax.invert_yaxis()\n",
    "\n",
    "# Ensure the markers remain square\n",
    "ax.set_aspect('equal', adjustable='box')\n",
    "\n",
    "# Adjust plot limits to place the shape on the far left\n",
    "# and create empty space on the right.\n",
    "ax.set_xlim(-1, 25)\n",
    "ax.set_ylim(3, -1)\n",
    "\n",
    "# Hide the axis lines, labels, and ticks\n",
    "ax.axis('off')\n",
    "\n",
    "# Use a tight layout with no padding\n",
    "plt.tight_layout(pad=0)\n",
    "plt.show()\n"
   ]
  }
 ],
 "metadata": {
  "kernelspec": {
   "display_name": "Python 3",
   "language": "python",
   "name": "python3"
  },
  "language_info": {
   "codemirror_mode": {
    "name": "ipython",
    "version": 3
   },
   "file_extension": ".py",
   "mimetype": "text/x-python",
   "name": "python",
   "nbconvert_exporter": "python",
   "pygments_lexer": "ipython3",
   "version": "3.13.5"
  }
 },
 "nbformat": 4,
 "nbformat_minor": 5
}
