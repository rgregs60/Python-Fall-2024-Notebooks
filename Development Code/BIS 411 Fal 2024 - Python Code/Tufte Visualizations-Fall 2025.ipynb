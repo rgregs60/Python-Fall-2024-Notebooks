{
 "cells": [
  {
   "cell_type": "markdown",
   "id": "5de50b37",
   "metadata": {},
   "source": [
    "<div style=\"background-color: #1f77b4; color: #FFFFE0; padding: 20px; border-radius: 5px; margin-top: 20px; border: 1px solid #b8daff;\"\n",
    ">\n",
    "<h2>Tufte's Visualizations</h2>\n",
    "<p><p>\n",
    "<h3>Background Information</h3>\n",
    "<p> </p>\n",
    "<h3>History, Techniques</h3>\n",
    "<p> </p>\n",
    "<h3>Interpretation.</h3>\n",
    "</div>"
   ]
  },
  {
   "cell_type": "markdown",
   "id": "e6a7c3d7",
   "metadata": {},
   "source": [
    "</div>"
   ]
  },
  {
   "cell_type": "code",
   "execution_count": null,
   "id": "aafd2160",
   "metadata": {},
   "outputs": [],
   "source": []
  }
 ],
 "metadata": {
  "kernelspec": {
   "display_name": "Python 3",
   "language": "python",
   "name": "python3"
  },
  "language_info": {
   "codemirror_mode": {
    "name": "ipython",
    "version": 3
   },
   "file_extension": ".py",
   "mimetype": "text/x-python",
   "name": "python",
   "nbconvert_exporter": "python",
   "pygments_lexer": "ipython3",
   "version": "3.12.6"
  }
 },
 "nbformat": 4,
 "nbformat_minor": 5
}
