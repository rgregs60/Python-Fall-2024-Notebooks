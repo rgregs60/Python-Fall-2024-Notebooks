{
 "cells": [
  {
   "cell_type": "markdown",
   "metadata": {},
   "source": [
    "<div style=\"background-color: #1f77b4; color: #FFFFE0; padding: 20px; border-radius: 5px; margin-top: 20px; border: 1px solid #b8daff;\"\n",
    ">\n",
    "<h3>Regression Models including Ridge Regressions</h3>\n",
    "</div>\n",
    "<p> \n",
    "<p>Set environment<p>\n"
   ]
  },
  {
   "cell_type": "code",
   "execution_count": 1,
   "metadata": {},
   "outputs": [],
   "source": [
    "###\n",
    "### Environment Set-up and updates for the procedures\n",
    "###\n",
    "\n",
    "# Check for the latest versions and install if not up to date\n",
    "#%pip install pandas --upgrade\n",
    "#%pip install numpy --upgrade\n",
    "#%pip install seaborn --upgrade\n",
    "#%pip install matplotlib --upgrade\n",
    "#%pip install jupyter --upgrade\n",
    "#%pip install jupyterlab --upgrade\n",
    "#%pip install ipywidgets --upgrade\n",
    "#%pip install python --upgrade\n",
    "#%pip install python-pptx --upgrade\n",
    "#%pip install pandas --upgrade\n",
    "#%pip install requests --upgrade\n",
    "#%pip install openpyxl --upgrade\n",
    "#%pip install xlrd --upgrade\n",
    "#%pip install tabulate --upgrade\n",
    "#%pip install os --upgrade  \n",
    "\n",
    "import os   #importing os library\n",
    "# os._exit(00)    # Restart the kernel to apply the changes\n",
    "\n",
    "import pandas as pd     #importing pandas library \n",
    "import numpy as np    #importing numpy library \n",
    "import seaborn as sns\n",
    "import matplotlib.pyplot as plt\n",
    "from pptx import Presentation\n",
    "from pptx.util import Inches\n",
    "import pandas as pd\n",
    "import os\n",
    "import openpyxl"
   ]
  },
  {
   "cell_type": "markdown",
   "metadata": {},
   "source": []
  },
  {
   "cell_type": "markdown",
   "metadata": {},
   "source": [
    "<div style=\"background-color: #1f77b4; color: #FFFFE0; padding: 20px; border-radius: 5px; margin-top: 20px; border: 1px solid #b8daff;\"\n",
    ">\n",
    "<p>Import a data file from a Web-Site</p>\n",
    "</div>"
   ]
  },
  {
   "cell_type": "code",
   "execution_count": 9,
   "metadata": {},
   "outputs": [
    {
     "name": "stdout",
     "output_type": "stream",
     "text": [
      "   Unnamed: 0.1  Unnamed: 0  symboling  normalized-losses         make  \\\n",
      "0             0           0          3                122  alfa-romero   \n",
      "1             1           1          3                122  alfa-romero   \n",
      "2             2           2          1                122  alfa-romero   \n",
      "3             3           3          2                164         audi   \n",
      "4             4           4          2                164         audi   \n",
      "\n",
      "  aspiration num-of-doors   body-style drive-wheels engine-location  ...  \\\n",
      "0        std          two  convertible          rwd           front  ...   \n",
      "1        std          two  convertible          rwd           front  ...   \n",
      "2        std          two    hatchback          rwd           front  ...   \n",
      "3        std         four        sedan          fwd           front  ...   \n",
      "4        std         four        sedan          4wd           front  ...   \n",
      "\n",
      "   compression-ratio  horsepower  peak-rpm  city-mpg  highway-mpg    price  \\\n",
      "0                9.0       111.0    5000.0        21           27  13495.0   \n",
      "1                9.0       111.0    5000.0        21           27  16500.0   \n",
      "2                9.0       154.0    5000.0        19           26  16500.0   \n",
      "3               10.0       102.0    5500.0        24           30  13950.0   \n",
      "4                8.0       115.0    5500.0        18           22  17450.0   \n",
      "\n",
      "  city-L/100km  horsepower-binned diesel  gas  \n",
      "0    11.190476             Medium      0    1  \n",
      "1    11.190476             Medium      0    1  \n",
      "2    12.368421             Medium      0    1  \n",
      "3     9.791667             Medium      0    1  \n",
      "4    13.055556             Medium      0    1  \n",
      "\n",
      "[5 rows x 31 columns]\n"
     ]
    },
    {
     "ename": "NameError",
     "evalue": "name 'os' is not defined",
     "output_type": "error",
     "traceback": [
      "\u001b[0;31m---------------------------------------------------------------------------\u001b[0m",
      "\u001b[0;31mNameError\u001b[0m                                 Traceback (most recent call last)",
      "Cell \u001b[0;32mIn[9], line 29\u001b[0m\n\u001b[1;32m     26\u001b[0m \u001b[38;5;28mprint\u001b[39m(df\u001b[38;5;241m.\u001b[39mhead())\n\u001b[1;32m     28\u001b[0m \u001b[38;5;66;03m# Construct the file path in your home directory\u001b[39;00m\n\u001b[0;32m---> 29\u001b[0m file_path \u001b[38;5;241m=\u001b[39m \u001b[43mos\u001b[49m\u001b[38;5;241m.\u001b[39mpath\u001b[38;5;241m.\u001b[39mjoin(os\u001b[38;5;241m.\u001b[39mpath\u001b[38;5;241m.\u001b[39mexpanduser(\u001b[38;5;124m'\u001b[39m\u001b[38;5;124m~\u001b[39m\u001b[38;5;124m'\u001b[39m), \u001b[38;5;124m'\u001b[39m\u001b[38;5;124mmodule_5_auto.csv\u001b[39m\u001b[38;5;124m'\u001b[39m)\n\u001b[1;32m     31\u001b[0m \u001b[38;5;66;03m# Save the DataFrame to the constructed file path\u001b[39;00m\n\u001b[1;32m     32\u001b[0m df\u001b[38;5;241m.\u001b[39mto_csv(file_path)\n",
      "\u001b[0;31mNameError\u001b[0m: name 'os' is not defined"
     ]
    }
   ],
   "source": [
    "#%pip install pandas matplotlib scipy scikit-learn seaborn ipywidgets\n",
    "\n",
    "import pandas as pd\n",
    "import numpy as np\n",
    "import matplotlib.pyplot as plt\n",
    "import requests\n",
    "from io import BytesIO\n",
    "import openpyxl  # Ensure openpyxl is installed beforehand using pip install openpyxl\n",
    "import urllib3\n",
    "\n",
    "# Suppress only the single InsecureRequestWarning from urllib3 needed for verify=False\n",
    "urllib3.disable_warnings(urllib3.exceptions.InsecureRequestWarning)\n",
    "\n",
    "path = 'https://cf-courses-data.s3.us.cloud-object-storage.appdomain.cloud/IBMDeveloperSkillsNetwork-DA0101EN-SkillsNetwork/labs/Data%20files/module_5_auto.csv'\n",
    "response = requests.get(path, verify=False)\n",
    "response.raise_for_status()  # Ensure the request was successful\n",
    "\n",
    "data = BytesIO(response.content)\n",
    "\n",
    "# End of Environment Installs\n",
    "\n",
    "# Import clean data \n",
    "\n",
    "df = pd.read_csv(data)\n",
    "\n",
    "print(df.head())\n",
    "\n",
    "# Construct the file path in your home directory\n",
    "file_path = os.path.join(os.path.expanduser('~'), 'module_5_auto.csv')\n",
    "\n",
    "# Save the DataFrame to the constructed file path\n",
    "df.to_csv(file_path)\n",
    "\n",
    "df=df._get_numeric_data()\n",
    "df.head()\n",
    "\n",
    "\n"
   ]
  },
  {
   "cell_type": "code",
   "execution_count": null,
   "metadata": {},
   "outputs": [],
   "source": []
  }
 ],
 "metadata": {
  "kernelspec": {
   "display_name": "Python 3",
   "language": "python",
   "name": "python3"
  },
  "language_info": {
   "codemirror_mode": {
    "name": "ipython",
    "version": 3
   },
   "file_extension": ".py",
   "mimetype": "text/x-python",
   "name": "python",
   "nbconvert_exporter": "python",
   "pygments_lexer": "ipython3",
   "version": "3.12.4"
  }
 },
 "nbformat": 4,
 "nbformat_minor": 2
}
