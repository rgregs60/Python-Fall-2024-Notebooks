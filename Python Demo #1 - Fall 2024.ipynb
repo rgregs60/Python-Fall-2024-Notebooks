{
 "cells": [
  {
   "cell_type": "markdown",
   "metadata": {},
   "source": [
    "<div style=\"background-color: #1f77b4; color: #FFFFE0; padding: 20px; border-radius: 5px; margin-top: 20px; border: 1px solid #b8daff;\">\n",
    "<h2>Python Demonstration #1:</h2>\n",
    "</div>"
   ]
  },
  {
   "cell_type": "markdown",
   "metadata": {},
   "source": [
    "<div style=\"background-color: #1f77b4; color: #FFFFE0; padding: 20px; border-radius: 5px; margin-top: 20px; border: 1px solid #b8daff;\">\n",
    "<h3>Basic Operations</h3>\n",
    "<b>What is the data type of the column \"peak-rpm\"? </b>\n",
    "</div>"
   ]
  },
  {
   "cell_type": "code",
   "execution_count": 2,
   "metadata": {},
   "outputs": [
    {
     "name": "stdout",
     "output_type": "stream",
     "text": [
      "12\n",
      "2\n"
     ]
    },
    {
     "data": {
      "text/plain": [
       "3"
      ]
     },
     "execution_count": 2,
     "metadata": {},
     "output_type": "execute_result"
    }
   ],
   "source": [
    "  ###\n",
    "  ### Basic Arithmetic Operations - Part 1-1\n",
    "  ###\n",
    "\n",
    "3 * 4\n",
    "\n",
    "x = 3 * 4\n",
    "\n",
    "print(x)\n",
    "\n",
    "# Case Sensitivity\n",
    "\n",
    "A = 2\n",
    "print(A)\n",
    "\n",
    "a = 3\n",
    "a\n",
    "\n",
    "# Click on Jupyter Notebook to see the enivronment state after running the code above.  You will see that the value of A is 2 and the value of a is 3.  \n",
    "# This is because Python is case sensitive.  A and a are two different variables.\n",
    "#\n",
    "# When you are peforming an analysis you should monitor the enivromnment state to ensure that the variables and data frames are being properly created and manipulated.  \n",
    "# This will help you to identify and correct any issues that may arise during the analysis.\n",
    "#\n",
    "# If you are using VS Code, you can also use the Data Wrangler Extension to monitor the environment state.  This extension is available in the Visual Studio Code Marketplace.\n",
    "# The Data Wrangler Extension is a great tool for monitoring the environment state and for debugging your code.  And it is a powerful tool for data analysis, data wrangling, and data visualization.\n",
    "\n"
   ]
  },
  {
   "cell_type": "markdown",
   "metadata": {},
   "source": [
    "<div style=\"background-color: #1f77b4; color: #FFFFE0; padding: 20px; border-radius: 5px; margin-top: 20px; border: 1px solid #b8daff;\">\n",
    "<h4>Monitoring the Environment and Processing</h4>\n",
    "<p>\n",
    "<p>Install the following extensions to Visual Code Studio<p>\n",
    "<ol>\n",
    "    <li>Jupyter Notebook<br>\n",
    "        a. Click on Jupyter Notebook to see the environment state after running the code above.<br>\n",
    "        b. You will see that the value of A is 2 and the value of a is 3.<br>\n",
    "        c. This is because Python is case sensitive.  A and a are two different variables.<br>\n",
    "    </li>\n",
    "    <p>   <p>\n",
    "    <li>Continual Monitoring of the Enviroment<br>\n",
    "        a. When you are peforming an analysis you should monitor the enivromnment state to ensure that the variables and data frames are being properly created and manipulated. <br>\n",
    "        b. This will help you to identify and correct any issues that may arise during the analysis.<br>\n",
    "    <p>   <p>\n",
    "    <li>Data Wrangler Extension<br>\n",
    "        a. If you are using VS Code, you can also use the Data Wrangler Extension to monitor the environment state.  This extension is available in the Visual Studio Code Marketplace.<br>\n",
    "        b. The Data Wrangler Extension is a great tool for monitoring the environment state and for debugging your code.<br>\n",
    "        c. And it is a powerful tool for data analysis, data wrangling, and data visualization.<br>\n",
    "    </li>\n",
    "</ol>\n",
    "</p>\n",
    "</div>"
   ]
  },
  {
   "cell_type": "code",
   "execution_count": 4,
   "metadata": {},
   "outputs": [
    {
     "name": "stdout",
     "output_type": "stream",
     "text": [
      "Value of A is 5\n",
      "Value of a is 2\n",
      "Is the Value of A = a? False\n",
      "Addition\n",
      "2\n",
      "3\n",
      "7\n",
      "Subtraction\n",
      "9\n",
      "5\n",
      "3\n",
      "Multiplication\n",
      "Value of A is 5\n",
      "Value of a is 2\n",
      "(2*3),(A*2),(7*a),(A*2)\n"
     ]
    },
    {
     "ename": "KeyboardInterrupt",
     "evalue": "",
     "output_type": "error",
     "traceback": [
      "\u001b[0;31m---------------------------------------------------------------------------\u001b[0m",
      "\u001b[0;31mKeyboardInterrupt\u001b[0m                         Traceback (most recent call last)",
      "Cell \u001b[0;32mIn[4], line 30\u001b[0m\n\u001b[1;32m     28\u001b[0m \u001b[38;5;28mprint\u001b[39m(\u001b[38;5;124mf\u001b[39m\u001b[38;5;124m\"\u001b[39m\u001b[38;5;124mValue of a is \u001b[39m\u001b[38;5;132;01m{\u001b[39;00ma\u001b[38;5;132;01m}\u001b[39;00m\u001b[38;5;124m\"\u001b[39m)\n\u001b[1;32m     29\u001b[0m \u001b[38;5;28mprint\u001b[39m (\u001b[38;5;124m\"\u001b[39m\u001b[38;5;124m(2*3),(A*2),(7*a),(A*2)\u001b[39m\u001b[38;5;124m\"\u001b[39m)\n\u001b[0;32m---> 30\u001b[0m \u001b[38;5;28mprint\u001b[39m((\u001b[38;5;241m2\u001b[39m\u001b[38;5;241m*\u001b[39m\u001b[38;5;241m3\u001b[39m),(A\u001b[38;5;241m*\u001b[39m\u001b[38;5;241m2\u001b[39m),(\u001b[38;5;241m7\u001b[39m\u001b[38;5;241m*\u001b[39ma),(A\u001b[38;5;241m*\u001b[39m\u001b[38;5;241m2\u001b[39m))\n",
      "File \u001b[0;32m~/Library/Python/3.12/lib/python/site-packages/debugpy/_vendored/pydevd/_pydevd_bundle/pydevd_frame.py:1197\u001b[0m, in \u001b[0;36mPyDBFrame.trace_dispatch\u001b[0;34m(self, frame, event, arg)\u001b[0m\n\u001b[1;32m   1195\u001b[0m \u001b[38;5;28;01mif\u001b[39;00m is_line:\n\u001b[1;32m   1196\u001b[0m     \u001b[38;5;28mself\u001b[39m\u001b[38;5;241m.\u001b[39mset_suspend(thread, step_cmd, original_step_cmd\u001b[38;5;241m=\u001b[39minfo\u001b[38;5;241m.\u001b[39mpydev_original_step_cmd)\n\u001b[0;32m-> 1197\u001b[0m     \u001b[38;5;28;43mself\u001b[39;49m\u001b[38;5;241;43m.\u001b[39;49m\u001b[43mdo_wait_suspend\u001b[49m\u001b[43m(\u001b[49m\u001b[43mthread\u001b[49m\u001b[43m,\u001b[49m\u001b[43m \u001b[49m\u001b[43mframe\u001b[49m\u001b[43m,\u001b[49m\u001b[43m \u001b[49m\u001b[43mevent\u001b[49m\u001b[43m,\u001b[49m\u001b[43m \u001b[49m\u001b[43marg\u001b[49m\u001b[43m)\u001b[49m\n\u001b[1;32m   1198\u001b[0m \u001b[38;5;28;01melif\u001b[39;00m is_return:  \u001b[38;5;66;03m# return event\u001b[39;00m\n\u001b[1;32m   1199\u001b[0m     back \u001b[38;5;241m=\u001b[39m frame\u001b[38;5;241m.\u001b[39mf_back\n",
      "File \u001b[0;32m~/Library/Python/3.12/lib/python/site-packages/debugpy/_vendored/pydevd/_pydevd_bundle/pydevd_frame.py:165\u001b[0m, in \u001b[0;36mPyDBFrame.do_wait_suspend\u001b[0;34m(self, *args, **kwargs)\u001b[0m\n\u001b[1;32m    164\u001b[0m \u001b[38;5;28;01mdef\u001b[39;00m \u001b[38;5;21mdo_wait_suspend\u001b[39m(\u001b[38;5;28mself\u001b[39m, \u001b[38;5;241m*\u001b[39margs, \u001b[38;5;241m*\u001b[39m\u001b[38;5;241m*\u001b[39mkwargs):\n\u001b[0;32m--> 165\u001b[0m     \u001b[38;5;28;43mself\u001b[39;49m\u001b[38;5;241;43m.\u001b[39;49m\u001b[43m_args\u001b[49m\u001b[43m[\u001b[49m\u001b[38;5;241;43m0\u001b[39;49m\u001b[43m]\u001b[49m\u001b[38;5;241;43m.\u001b[39;49m\u001b[43mdo_wait_suspend\u001b[49m\u001b[43m(\u001b[49m\u001b[38;5;241;43m*\u001b[39;49m\u001b[43margs\u001b[49m\u001b[43m,\u001b[49m\u001b[43m \u001b[49m\u001b[38;5;241;43m*\u001b[39;49m\u001b[38;5;241;43m*\u001b[39;49m\u001b[43mkwargs\u001b[49m\u001b[43m)\u001b[49m\n",
      "File \u001b[0;32m~/Library/Python/3.12/lib/python/site-packages/debugpy/_vendored/pydevd/pydevd.py:2070\u001b[0m, in \u001b[0;36mPyDB.do_wait_suspend\u001b[0;34m(self, thread, frame, event, arg, exception_type)\u001b[0m\n\u001b[1;32m   2067\u001b[0m             from_this_thread\u001b[38;5;241m.\u001b[39mappend(frame_custom_thread_id)\n\u001b[1;32m   2069\u001b[0m     \u001b[38;5;28;01mwith\u001b[39;00m \u001b[38;5;28mself\u001b[39m\u001b[38;5;241m.\u001b[39m_threads_suspended_single_notification\u001b[38;5;241m.\u001b[39mnotify_thread_suspended(thread_id, thread, stop_reason):\n\u001b[0;32m-> 2070\u001b[0m         keep_suspended \u001b[38;5;241m=\u001b[39m \u001b[38;5;28;43mself\u001b[39;49m\u001b[38;5;241;43m.\u001b[39;49m\u001b[43m_do_wait_suspend\u001b[49m\u001b[43m(\u001b[49m\u001b[43mthread\u001b[49m\u001b[43m,\u001b[49m\u001b[43m \u001b[49m\u001b[43mframe\u001b[49m\u001b[43m,\u001b[49m\u001b[43m \u001b[49m\u001b[43mevent\u001b[49m\u001b[43m,\u001b[49m\u001b[43m \u001b[49m\u001b[43marg\u001b[49m\u001b[43m,\u001b[49m\u001b[43m \u001b[49m\u001b[43msuspend_type\u001b[49m\u001b[43m,\u001b[49m\u001b[43m \u001b[49m\u001b[43mfrom_this_thread\u001b[49m\u001b[43m,\u001b[49m\u001b[43m \u001b[49m\u001b[43mframes_tracker\u001b[49m\u001b[43m)\u001b[49m\n\u001b[1;32m   2072\u001b[0m frames_list \u001b[38;5;241m=\u001b[39m \u001b[38;5;28;01mNone\u001b[39;00m\n\u001b[1;32m   2074\u001b[0m \u001b[38;5;28;01mif\u001b[39;00m keep_suspended:\n\u001b[1;32m   2075\u001b[0m     \u001b[38;5;66;03m# This means that we should pause again after a set next statement.\u001b[39;00m\n",
      "File \u001b[0;32m~/Library/Python/3.12/lib/python/site-packages/debugpy/_vendored/pydevd/pydevd.py:2106\u001b[0m, in \u001b[0;36mPyDB._do_wait_suspend\u001b[0;34m(self, thread, frame, event, arg, suspend_type, from_this_thread, frames_tracker)\u001b[0m\n\u001b[1;32m   2103\u001b[0m         \u001b[38;5;28mself\u001b[39m\u001b[38;5;241m.\u001b[39m_call_input_hook()\n\u001b[1;32m   2105\u001b[0m     \u001b[38;5;28mself\u001b[39m\u001b[38;5;241m.\u001b[39mprocess_internal_commands()\n\u001b[0;32m-> 2106\u001b[0m     \u001b[43mtime\u001b[49m\u001b[38;5;241;43m.\u001b[39;49m\u001b[43msleep\u001b[49m\u001b[43m(\u001b[49m\u001b[38;5;241;43m0.01\u001b[39;49m\u001b[43m)\u001b[49m\n\u001b[1;32m   2108\u001b[0m \u001b[38;5;28mself\u001b[39m\u001b[38;5;241m.\u001b[39mcancel_async_evaluation(get_current_thread_id(thread), \u001b[38;5;28mstr\u001b[39m(\u001b[38;5;28mid\u001b[39m(frame)))\n\u001b[1;32m   2110\u001b[0m \u001b[38;5;66;03m# process any stepping instructions\u001b[39;00m\n",
      "\u001b[0;31mKeyboardInterrupt\u001b[0m: "
     ]
    }
   ],
   "source": [
    "  ###\n",
    "  ### Basic Arithmetic Operations - Part 1-2\n",
    "  ###\n",
    "\n",
    "A = 5\n",
    "a = 2\n",
    "B = 3\n",
    "x = 24\n",
    "\n",
    "print(f\"Value of A is {A}\")\n",
    "print(f\"Value of a is {a}\")\n",
    "print(f\"Is the Value of A = a? {(A == a)}\")\n",
    "\n",
    "# Addition\n",
    "\n",
    "print(\"Addition\")\n",
    "print(1+1)\n",
    "print(1+a)\n",
    "print(a+A)\n",
    "\n",
    "print(\"Subtraction\")\n",
    "print(10-1)\n",
    "print(10-A)\n",
    "print(A-a)\n",
    "\n",
    "print(\"Multiplication\")\n",
    "print(f\"Value of A is {A}\")\n",
    "print(f\"Value of a is {a}\")\n",
    "print (\"(2*3),(A*2),(7*a),(A*2)\")\n",
    "print((2*3),(A*2),(7*a),(A*2))\n"
   ]
  },
  {
   "cell_type": "code",
   "execution_count": 5,
   "metadata": {},
   "outputs": [
    {
     "name": "stdout",
     "output_type": "stream",
     "text": [
      "[ 1  2  3  1  3  5 25]\n",
      "[ 5 31 71  1  3 21  6]\n",
      "[ 6 33 74  2  6 26 31]\n",
      "6.666666666666667\n",
      "5.714285714285714\n"
     ]
    },
    {
     "ename": "KeyboardInterrupt",
     "evalue": "",
     "output_type": "error",
     "traceback": [
      "\u001b[0;31m---------------------------------------------------------------------------\u001b[0m",
      "\u001b[0;31mKeyboardInterrupt\u001b[0m                         Traceback (most recent call last)",
      "Cell \u001b[0;32mIn[5], line 30\u001b[0m\n\u001b[1;32m     27\u001b[0m \u001b[38;5;28mprint\u001b[39m(np\u001b[38;5;241m.\u001b[39mmean(my_numbers))\n\u001b[1;32m     29\u001b[0m y \u001b[38;5;241m=\u001b[39m np\u001b[38;5;241m.\u001b[39marange(\u001b[38;5;241m1\u001b[39m, \u001b[38;5;241m11\u001b[39m)  \u001b[38;5;66;03m# seq(1, 10) in R\u001b[39;00m\n\u001b[0;32m---> 30\u001b[0m \u001b[38;5;28mprint\u001b[39m(y)\n",
      "File \u001b[0;32m~/Library/Python/3.12/lib/python/site-packages/debugpy/_vendored/pydevd/_pydevd_bundle/pydevd_frame.py:1197\u001b[0m, in \u001b[0;36mPyDBFrame.trace_dispatch\u001b[0;34m(self, frame, event, arg)\u001b[0m\n\u001b[1;32m   1195\u001b[0m \u001b[38;5;28;01mif\u001b[39;00m is_line:\n\u001b[1;32m   1196\u001b[0m     \u001b[38;5;28mself\u001b[39m\u001b[38;5;241m.\u001b[39mset_suspend(thread, step_cmd, original_step_cmd\u001b[38;5;241m=\u001b[39minfo\u001b[38;5;241m.\u001b[39mpydev_original_step_cmd)\n\u001b[0;32m-> 1197\u001b[0m     \u001b[38;5;28;43mself\u001b[39;49m\u001b[38;5;241;43m.\u001b[39;49m\u001b[43mdo_wait_suspend\u001b[49m\u001b[43m(\u001b[49m\u001b[43mthread\u001b[49m\u001b[43m,\u001b[49m\u001b[43m \u001b[49m\u001b[43mframe\u001b[49m\u001b[43m,\u001b[49m\u001b[43m \u001b[49m\u001b[43mevent\u001b[49m\u001b[43m,\u001b[49m\u001b[43m \u001b[49m\u001b[43marg\u001b[49m\u001b[43m)\u001b[49m\n\u001b[1;32m   1198\u001b[0m \u001b[38;5;28;01melif\u001b[39;00m is_return:  \u001b[38;5;66;03m# return event\u001b[39;00m\n\u001b[1;32m   1199\u001b[0m     back \u001b[38;5;241m=\u001b[39m frame\u001b[38;5;241m.\u001b[39mf_back\n",
      "File \u001b[0;32m~/Library/Python/3.12/lib/python/site-packages/debugpy/_vendored/pydevd/_pydevd_bundle/pydevd_frame.py:165\u001b[0m, in \u001b[0;36mPyDBFrame.do_wait_suspend\u001b[0;34m(self, *args, **kwargs)\u001b[0m\n\u001b[1;32m    164\u001b[0m \u001b[38;5;28;01mdef\u001b[39;00m \u001b[38;5;21mdo_wait_suspend\u001b[39m(\u001b[38;5;28mself\u001b[39m, \u001b[38;5;241m*\u001b[39margs, \u001b[38;5;241m*\u001b[39m\u001b[38;5;241m*\u001b[39mkwargs):\n\u001b[0;32m--> 165\u001b[0m     \u001b[38;5;28;43mself\u001b[39;49m\u001b[38;5;241;43m.\u001b[39;49m\u001b[43m_args\u001b[49m\u001b[43m[\u001b[49m\u001b[38;5;241;43m0\u001b[39;49m\u001b[43m]\u001b[49m\u001b[38;5;241;43m.\u001b[39;49m\u001b[43mdo_wait_suspend\u001b[49m\u001b[43m(\u001b[49m\u001b[38;5;241;43m*\u001b[39;49m\u001b[43margs\u001b[49m\u001b[43m,\u001b[49m\u001b[43m \u001b[49m\u001b[38;5;241;43m*\u001b[39;49m\u001b[38;5;241;43m*\u001b[39;49m\u001b[43mkwargs\u001b[49m\u001b[43m)\u001b[49m\n",
      "File \u001b[0;32m~/Library/Python/3.12/lib/python/site-packages/debugpy/_vendored/pydevd/pydevd.py:2070\u001b[0m, in \u001b[0;36mPyDB.do_wait_suspend\u001b[0;34m(self, thread, frame, event, arg, exception_type)\u001b[0m\n\u001b[1;32m   2067\u001b[0m             from_this_thread\u001b[38;5;241m.\u001b[39mappend(frame_custom_thread_id)\n\u001b[1;32m   2069\u001b[0m     \u001b[38;5;28;01mwith\u001b[39;00m \u001b[38;5;28mself\u001b[39m\u001b[38;5;241m.\u001b[39m_threads_suspended_single_notification\u001b[38;5;241m.\u001b[39mnotify_thread_suspended(thread_id, thread, stop_reason):\n\u001b[0;32m-> 2070\u001b[0m         keep_suspended \u001b[38;5;241m=\u001b[39m \u001b[38;5;28;43mself\u001b[39;49m\u001b[38;5;241;43m.\u001b[39;49m\u001b[43m_do_wait_suspend\u001b[49m\u001b[43m(\u001b[49m\u001b[43mthread\u001b[49m\u001b[43m,\u001b[49m\u001b[43m \u001b[49m\u001b[43mframe\u001b[49m\u001b[43m,\u001b[49m\u001b[43m \u001b[49m\u001b[43mevent\u001b[49m\u001b[43m,\u001b[49m\u001b[43m \u001b[49m\u001b[43marg\u001b[49m\u001b[43m,\u001b[49m\u001b[43m \u001b[49m\u001b[43msuspend_type\u001b[49m\u001b[43m,\u001b[49m\u001b[43m \u001b[49m\u001b[43mfrom_this_thread\u001b[49m\u001b[43m,\u001b[49m\u001b[43m \u001b[49m\u001b[43mframes_tracker\u001b[49m\u001b[43m)\u001b[49m\n\u001b[1;32m   2072\u001b[0m frames_list \u001b[38;5;241m=\u001b[39m \u001b[38;5;28;01mNone\u001b[39;00m\n\u001b[1;32m   2074\u001b[0m \u001b[38;5;28;01mif\u001b[39;00m keep_suspended:\n\u001b[1;32m   2075\u001b[0m     \u001b[38;5;66;03m# This means that we should pause again after a set next statement.\u001b[39;00m\n",
      "File \u001b[0;32m~/Library/Python/3.12/lib/python/site-packages/debugpy/_vendored/pydevd/pydevd.py:2106\u001b[0m, in \u001b[0;36mPyDB._do_wait_suspend\u001b[0;34m(self, thread, frame, event, arg, suspend_type, from_this_thread, frames_tracker)\u001b[0m\n\u001b[1;32m   2103\u001b[0m         \u001b[38;5;28mself\u001b[39m\u001b[38;5;241m.\u001b[39m_call_input_hook()\n\u001b[1;32m   2105\u001b[0m     \u001b[38;5;28mself\u001b[39m\u001b[38;5;241m.\u001b[39mprocess_internal_commands()\n\u001b[0;32m-> 2106\u001b[0m     \u001b[43mtime\u001b[49m\u001b[38;5;241;43m.\u001b[39;49m\u001b[43msleep\u001b[49m\u001b[43m(\u001b[49m\u001b[38;5;241;43m0.01\u001b[39;49m\u001b[43m)\u001b[49m\n\u001b[1;32m   2108\u001b[0m \u001b[38;5;28mself\u001b[39m\u001b[38;5;241m.\u001b[39mcancel_async_evaluation(get_current_thread_id(thread), \u001b[38;5;28mstr\u001b[39m(\u001b[38;5;28mid\u001b[39m(frame)))\n\u001b[1;32m   2110\u001b[0m \u001b[38;5;66;03m# process any stepping instructions\u001b[39;00m\n",
      "\u001b[0;31mKeyboardInterrupt\u001b[0m: "
     ]
    }
   ],
   "source": [
    "  ###\n",
    "  ### Basic Vector Operations - Part 1-3\n",
    "  ###\n",
    "\n",
    "# BEGIN: Clear all variables and data frames\n",
    "\n",
    "%reset -f\n",
    "\n",
    "# END: Clear all variables and data frames\n",
    "\n",
    "import numpy as np\n",
    "\n",
    "# ---------------------------- Vector \n",
    "# A vector is a sequence of values, all of the same type!\n",
    "# Vectors are generally created use numpy arrays in Python.\n",
    "\n",
    "my_numbers = np.array([1, 2, 3, 1, 3, 5, 25])\n",
    "print(my_numbers)\n",
    "\n",
    "your_numbers = np.array([5, 31, 71, 1, 3, 21, 6])\n",
    "print(your_numbers)\n",
    "print(my_numbers + your_numbers)\n",
    "\n",
    "x = np.array([2, 4, 6, 8, 10, 6, 7, 8, 9])\n",
    "\n",
    "print(np.mean(x))\n",
    "print(np.mean(my_numbers))\n",
    "\n",
    "y = np.arange(1, 11)  # seq(1, 10) in R\n",
    "print(y)\n"
   ]
  },
  {
   "cell_type": "code",
   "execution_count": 8,
   "metadata": {},
   "outputs": [
    {
     "name": "stdout",
     "output_type": "stream",
     "text": [
      "[ 1  2  3  1  3  5 25]\n",
      "[ 5 31 71  1  3 21  6]\n",
      "[ 6 33 74  2  6 26 31]\n",
      "6.666666666666667\n",
      "5.714285714285714\n",
      "[ 1  2  3  4  5  6  7  8  9 10]\n"
     ]
    }
   ],
   "source": [
    "  ###\n",
    "  ### Basic Vector Operations - Part 1-4\n",
    "  ###\n",
    "\n",
    "# BEGIN: Clear all variables and data frames\n",
    "%reset -f\n",
    "# END: Clear all variables and data frames\n",
    "\n",
    "# ---------------------------- Vector \n",
    "# A vector is a sequence of values, all of the same type.\n",
    "# Vectors are generally created use numpy arrays in Python.\n",
    "\n",
    "import numpy as np\n",
    "\n",
    "my_numbers = np.array([1, 2, 3, 1, 3, 5, 25])\n",
    "print(my_numbers)\n",
    "\n",
    "your_numbers = np.array([5, 31, 71, 1, 3, 21, 6])\n",
    "print(your_numbers)\n",
    "print(my_numbers + your_numbers)\n",
    "\n",
    "x = np.array([2, 4, 6, 8, 10, 6, 7, 8, 9])\n",
    "\n",
    "print(np.mean(x))\n",
    "print(np.mean(my_numbers))\n",
    "\n",
    "y = np.arange(1, 11)  # seq(1, 10) in R\n",
    "print(y)\n"
   ]
  },
  {
   "cell_type": "markdown",
   "metadata": {},
   "source": [
    "<div style=\"background-color: #1f77b4; color: #FFFFE0; padding: 20px; border-radius: 5px; margin-top: 20px; border: 1px solid #b8daff;\">\n",
    "<h4>Use of Data Wrangler to Generate Data Transformation Functions</h4>"
   ]
  },
  {
   "cell_type": "code",
   "execution_count": 9,
   "metadata": {},
   "outputs": [
    {
     "data": {
      "text/html": [
       "<div>\n",
       "<style scoped>\n",
       "    .dataframe tbody tr th:only-of-type {\n",
       "        vertical-align: middle;\n",
       "    }\n",
       "\n",
       "    .dataframe tbody tr th {\n",
       "        vertical-align: top;\n",
       "    }\n",
       "\n",
       "    .dataframe thead th {\n",
       "        text-align: right;\n",
       "    }\n",
       "</style>\n",
       "<table border=\"1\" class=\"dataframe\">\n",
       "  <thead>\n",
       "    <tr style=\"text-align: right;\">\n",
       "      <th></th>\n",
       "      <th>Values_for_Vector_Y</th>\n",
       "    </tr>\n",
       "  </thead>\n",
       "  <tbody>\n",
       "    <tr>\n",
       "      <th>0</th>\n",
       "      <td>1</td>\n",
       "    </tr>\n",
       "    <tr>\n",
       "      <th>1</th>\n",
       "      <td>2</td>\n",
       "    </tr>\n",
       "    <tr>\n",
       "      <th>2</th>\n",
       "      <td>3</td>\n",
       "    </tr>\n",
       "    <tr>\n",
       "      <th>3</th>\n",
       "      <td>4</td>\n",
       "    </tr>\n",
       "    <tr>\n",
       "      <th>4</th>\n",
       "      <td>5</td>\n",
       "    </tr>\n",
       "  </tbody>\n",
       "</table>\n",
       "</div>"
      ],
      "text/plain": [
       "  Values_for_Vector_Y\n",
       "0                   1\n",
       "1                   2\n",
       "2                   3\n",
       "3                   4\n",
       "4                   5"
      ]
     },
     "execution_count": 9,
     "metadata": {},
     "output_type": "execute_result"
    }
   ],
   "source": [
    "\"\"\"\n",
    "Cell generated by Data Wrangler.\n",
    "\"\"\"\n",
    "import pandas as pd\n",
    "\n",
    "def clean_data(y_df):\n",
    "    # Change column type to string for column: 0\n",
    "    y_df = y_df.astype({0: 'string'})\n",
    "    # Rename column 0 to 'Values_for_Vector_Y'\n",
    "    y_df = y_df.rename(columns={0: 'Values_for_Vector_Y'})\n",
    "    return y_df\n",
    "\n",
    "# Loaded variable 'y' from kernel state\n",
    "y_df = pd.DataFrame(y.tolist() if len(y.shape) > 2 else y)\n",
    "\n",
    "y_df_clean = clean_data(y_df.copy())\n",
    "y_df_clean.head()"
   ]
  },
  {
   "cell_type": "markdown",
   "metadata": {},
   "source": [
    "<div style=\"background-color: #1f77b4; color: #FAFAD2; padding: 20px; border-radius: 5px; margin-top: 20px; border: 1px solid #b8daff;\">\n",
    "<h3> Pandas and Numpy Libraries </h3>\n",
    "\n",
    "The first line, [`import numpy as np`](command:_github.copilot.openSymbolFromReferences?%5B%7B%22%24mid%22%3A1%2C%22fsPath%22%3A%22%2FLibrary%2FFrameworks%2FPython.framework%2FVersions%2F3.12%2Flib%2Fpython3.12%2Fsite-packages%2Fnumpy%2F__init__.py%22%2C%22path%22%3A%22%2FLibrary%2FFrameworks%2FPython.framework%2FVersions%2F3.12%2Flib%2Fpython3.12%2Fsite-packages%2Fnumpy%2F__init__.py%22%2C%22scheme%22%3A%22file%22%7D%2C%7B%22line%22%3A0%2C%22character%22%3A0%7D%5D \"/Library/Frameworks/Python.framework/Versions/3.12/lib/python3.12/site-packages/numpy/__init__.py\"), imports the NumPy library into the current Python script. NumPy, which stands for Numerical Python, is a fundamental package for scientific computing in Python. It provides support for large, multi-dimensional arrays and matrices, along with a collection of mathematical functions to operate on these arrays. The [`as np`](command:_github.copilot.openSymbolFromReferences?%5B%7B%22%24mid%22%3A1%2C%22fsPath%22%3A%22%2FLibrary%2FFrameworks%2FPython.framework%2FVersions%2F3.12%2Flib%2Fpython3.12%2Fsite-packages%2Fnumpy%2F__init__.py%22%2C%22path%22%3A%22%2FLibrary%2FFrameworks%2FPython.framework%2FVersions%2F3.12%2Flib%2Fpython3.12%2Fsite-packages%2Fnumpy%2F__init__.py%22%2C%22scheme%22%3A%22file%22%7D%2C%7B%22line%22%3A0%2C%22character%22%3A0%7D%5D \"/Library/Frameworks/Python.framework/Versions/3.12/lib/python3.12/site-packages/numpy/__init__.py\") part of the statement is an aliasing convention, allowing you to use [`np`](command:_github.copilot.openSymbolFromReferences?%5B%7B%22%24mid%22%3A1%2C%22fsPath%22%3A%22%2FLibrary%2FFrameworks%2FPython.framework%2FVersions%2F3.12%2Flib%2Fpython3.12%2Fsite-packages%2Fnumpy%2F__init__.py%22%2C%22path%22%3A%22%2FLibrary%2FFrameworks%2FPython.framework%2FVersions%2F3.12%2Flib%2Fpython3.12%2Fsite-packages%2Fnumpy%2F__init__.py%22%2C%22scheme%22%3A%22file%22%7D%2C%7B%22line%22%3A0%2C%22character%22%3A0%7D%5D \"/Library/Frameworks/Python.framework/Versions/3.12/lib/python3.12/site-packages/numpy/__init__.py\") as a shorthand to access NumPy functions, instead of typing [`numpy`](command:_github.copilot.openSymbolFromReferences?%5B%7B%22%24mid%22%3A1%2C%22fsPath%22%3A%22%2FLibrary%2FFrameworks%2FPython.framework%2FVersions%2F3.12%2Flib%2Fpython3.12%2Fsite-packages%2Fnumpy%2F__init__.py%22%2C%22path%22%3A%22%2FLibrary%2FFrameworks%2FPython.framework%2FVersions%2F3.12%2Flib%2Fpython3.12%2Fsite-packages%2Fnumpy%2F__init__.py%22%2C%22scheme%22%3A%22file%22%7D%2C%7B%22line%22%3A0%2C%22character%22%3A0%7D%5D \"/Library/Frameworks/Python.framework/Versions/3.12/lib/python3.12/site-packages/numpy/__init__.py\") each time you need to call a function from the NumPy library.\n",
    "\n",
    "The second line, [`import pandas as pd`](command:_github.copilot.openSymbolFromReferences?%5B%7B%22%24mid%22%3A1%2C%22fsPath%22%3A%22%2FLibrary%2FFrameworks%2FPython.framework%2FVersions%2F3.12%2Flib%2Fpython3.12%2Fsite-packages%2Fpandas%2F__init__.py%22%2C%22path%22%3A%22%2FLibrary%2FFrameworks%2FPython.framework%2FVersions%2F3.12%2Flib%2Fpython3.12%2Fsite-packages%2Fpandas%2F__init__.py%22%2C%22scheme%22%3A%22file%22%7D%2C%7B%22line%22%3A0%2C%22character%22%3A0%7D%5D \"/Library/Frameworks/Python.framework/Versions/3.12/lib/python3.12/site-packages/pandas/__init__.py\"), imports the pandas library. Pandas is a powerful and flexible data manipulation tool built on top of the Python programming language. It offers data structures and operations for manipulating numerical tables and time series. Similar to the NumPy import statement, [`as pd`](command:_github.copilot.openSymbolFromReferences?%5B%7B%22%24mid%22%3A1%2C%22fsPath%22%3A%22%2FLibrary%2FFrameworks%2FPython.framework%2FVersions%2F3.12%2Flib%2Fpython3.12%2Fsite-packages%2Fpandas%2F__init__.py%22%2C%22path%22%3A%22%2FLibrary%2FFrameworks%2FPython.framework%2FVersions%2F3.12%2Flib%2Fpython3.12%2Fsite-packages%2Fpandas%2F__init__.py%22%2C%22scheme%22%3A%22file%22%7D%2C%7B%22line%22%3A0%2C%22character%22%3A0%7D%5D \"/Library/Frameworks/Python.framework/Versions/3.12/lib/python3.12/site-packages/pandas/__init__.py\") serves as an alias, enabling you to use [`pd`](command:_github.copilot.openSymbolFromReferences?%5B%7B%22%24mid%22%3A1%2C%22fsPath%22%3A%22%2FLibrary%2FFrameworks%2FPython.framework%2FVersions%2F3.12%2Flib%2Fpython3.12%2Fsite-packages%2Fpandas%2F__init__.py%22%2C%22path%22%3A%22%2FLibrary%2FFrameworks%2FPython.framework%2FVersions%2F3.12%2Flib%2Fpython3.12%2Fsite-packages%2Fpandas%2F__init__.py%22%2C%22scheme%22%3A%22file%22%7D%2C%7B%22line%22%3A0%2C%22character%22%3A0%7D%5D \"/Library/Frameworks/Python.framework/Versions/3.12/lib/python3.12/site-packages/pandas/__init__.py\") as a shorthand for pandas. This is particularly useful for accessing pandas functions and methods more succinctly.\n",
    "\n",
    "Together, these two lines of code set the foundation for performing sophisticated data analysis and manipulation tasks in Python. By importing NumPy and pandas at the beginning of your script, you ensure that all the functionalities provided by these libraries are available for use in your subsequent code."
   ]
  },
  {
   "cell_type": "code",
   "execution_count": null,
   "metadata": {},
   "outputs": [
    {
     "name": "stdout",
     "output_type": "stream",
     "text": [
      "[ 10  15  20  25  30  35  40  45  50  55  60  65  70  75  80  85  90  95\n",
      " 100]\n",
      "20\n",
      "[10 15 20 25]\n",
      "[10 20]\n",
      "[10 20 25]\n",
      "[ 10  15  20  25  30  35  40  45  50  55  60  65  70  75  80  85  90  95\n",
      " 100]\n",
      "[ 15  20  25  30  35  40  45  50  55  60  65  70  75  80  85  90  95 100]\n",
      "[ 15  25  30  35  40  45  50  55  60  65  70  75  80  85  90  95 100]\n",
      "19\n",
      "1045\n",
      "55.0\n",
      "55.0\n",
      "100\n",
      "10\n",
      "[ 10  15  20  25  30  35  40  45  50  55  60  65  70  75  80  85  90  95\n",
      " 100]\n",
      "[100  95  90  85  80  75  70  65  60  55  50  45  40  35  30  25  20  15\n",
      "  10]\n",
      "4.5\n",
      "4.5\n",
      "8.616153157766824\n",
      "[ 1  2  3  1  3  5 25]\n",
      "[  5  10  15   5  15  25 125]\n",
      "[ 2  3  4  2  4  6 26]\n",
      "[ 2  4  6  2  6 10 50]\n"
     ]
    }
   ],
   "source": [
    "  ###\n",
    "  ### Basic Vector Operations - Part 1-5\n",
    "  ###\n",
    "\n",
    "import numpy as np # Importing numpy library to use numpy arrays in Python \n",
    "import pandas as pd # Importing pandas library to use pandas dataframes in Python  \n",
    "\n",
    "# Generate a sequence of numbers from 10 to 100 with a step of 5\n",
    "x = np.arange(10, 101, 5)\n",
    "print(x)\n",
    "\n",
    "# Access element from a vector:\n",
    "print(x[2])  # Note: Indexing in Python starts from 0\n",
    "\n",
    "# Display the first 4 elements\n",
    "print(x[:4])\n",
    "\n",
    "# Display the first and the third element\n",
    "print(x[[0, 2]])\n",
    "print(x[[0, 2, 3]])\n",
    "print(x)\n",
    "\n",
    "# Negative index (excluding elements)\n",
    "print(np.delete(x, 0))  # Exclude the first element\n",
    "y = np.delete(x, [0, 2])  # Exclude the first and the third element\n",
    "print(y)\n",
    "\n",
    "# Length of a vector\n",
    "print(len(x))\n",
    "\n",
    "# Sum of all elements in a vector\n",
    "print(np.sum(x))\n",
    "\n",
    "# Mean of all elements in a vector\n",
    "print(np.mean(x))\n",
    "\n",
    "# Median of all elements in a vector\n",
    "print(np.median(x))\n",
    "\n",
    "# Maximum and minimum values in a vector\n",
    "print(np.max(x))\n",
    "print(np.min(x))\n",
    "\n",
    "# Sorting a vector\n",
    "print(np.sort(x))\n",
    "\n",
    "# Sorting a vector in descending order\n",
    "print(-np.sort(-x))\n",
    "\n",
    "# Handling NA and NaN values\n",
    "x = np.array([1, 2, 3, 4, 5, 6, 7, 8, np.nan])\n",
    "mean_x = np.nanmean(x)  # Mean excluding NaN values\n",
    "print(mean_x)\n",
    "\n",
    "# Example with NULL values\n",
    "# Python does not have NULL; it has None. np.nan is used for missing values in arrays.\n",
    "x = np.array([1, 2, 3, 4, 5, 6, 7, 8, None], dtype=object)\n",
    "print(pd.Series(x).mean(skipna=True))  # Mean excluding None values\n",
    "\n",
    "# Standard deviation\n",
    "my_numbers = np.array([1, 2, 3, 1, 3, 5, 25])\n",
    "print(np.std(my_numbers, ddof=1))  # ddof=1 for sample standard deviation\n",
    "\n",
    "# Vector operations\n",
    "print(my_numbers)\n",
    "print(my_numbers * 5)\n",
    "print(my_numbers + 1)\n",
    "print(my_numbers + my_numbers)"
   ]
  }
 ],
 "metadata": {
  "kernelspec": {
   "display_name": "Python 3",
   "language": "python",
   "name": "python3"
  },
  "language_info": {
   "codemirror_mode": {
    "name": "ipython",
    "version": 3
   },
   "file_extension": ".py",
   "mimetype": "text/x-python",
   "name": "python",
   "nbconvert_exporter": "python",
   "pygments_lexer": "ipython3",
   "version": "3.12.4"
  }
 },
 "nbformat": 4,
 "nbformat_minor": 2
}
