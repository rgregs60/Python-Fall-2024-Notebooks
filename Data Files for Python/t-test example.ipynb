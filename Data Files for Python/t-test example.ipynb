{
 "cells": [
  {
   "cell_type": "code",
   "execution_count": 1,
   "metadata": {},
   "outputs": [],
   "source": [
    "# Loaded variable 'df' from URI: https://raw.githubusercontent.com/rgregs60/Python-Fall-2024-Notebooks/HEAD/Data%20Files%20for%20Python/Apple_Merck%202.xlsx\n",
    "import pandas as pd\n",
    "df = pd.read_excel(r'https://raw.githubusercontent.com/rgregs60/Python-Fall-2024-Notebooks/HEAD/Data%20Files%20for%20Python/Apple_Merck%202.xlsx')"
   ]
  },
  {
   "cell_type": "code",
   "execution_count": 31,
   "metadata": {},
   "outputs": [
    {
     "name": "stdout",
     "output_type": "stream",
     "text": [
      "T-Statistic: 13.224014743232308\n",
      "P-Value: 3.5760654881165895e-23\n",
      "The difference between Apple and Merck is statistically significant at the 95% confidence level.\n"
     ]
    }
   ],
   "source": [
    "import numpy as np\n",
    "import pandas as pd\n",
    "from scipy.stats import ttest_ind\n",
    "\n",
    "# Loaded variable 'df' from URI: https://raw.githubusercontent.com/rgregs60/Python-Fall-2024-Notebooks/HEAD/Data%20Files%20for%20Python/Apple_Merck%202.xlsx\n",
    "import pandas as pd\n",
    "df = pd.read_excel(r'https://raw.githubusercontent.com/rgregs60/Python-Fall-2024-Notebooks/HEAD/Data%20Files%20for%20Python/Apple_Merck%202.xlsx')\n",
    "\n",
    "\n",
    "apple = df['Apple ']\n",
    "merck = df['Merck']\n",
    "\n",
    "# Perform the independent sample t-test\n",
    "t_statistic, p_value = stats.ttest_ind(apple, merck)\n",
    "\n",
    "# Print the results\n",
    "print(\"T-Statistic:\", t_statistic)\n",
    "print(\"P-Value:\", p_value)\n",
    "\n",
    "# Determine if the result is statistically significant at the 95% confidence level\n",
    "alpha = 0.05\n",
    "if p_value < alpha:\n",
    "    print(\"The difference between Apple and Merck is statistically significant at the 95% confidence level.\")\n",
    "else:\n",
    "    print(\"The difference between Apple and Merck is not statistically significant at the 95% confidence level.\")\n"
   ]
  }
 ],
 "metadata": {
  "kernelspec": {
   "display_name": "Python 3",
   "language": "python",
   "name": "python3"
  },
  "language_info": {
   "codemirror_mode": {
    "name": "ipython",
    "version": 3
   },
   "file_extension": ".py",
   "mimetype": "text/x-python",
   "name": "python",
   "nbconvert_exporter": "python",
   "pygments_lexer": "ipython3",
   "version": "3.11.4"
  }
 },
 "nbformat": 4,
 "nbformat_minor": 2
}
